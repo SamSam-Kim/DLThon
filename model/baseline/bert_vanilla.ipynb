{
 "cells": [
  {
   "cell_type": "code",
   "execution_count": 14,
   "id": "309878a4",
   "metadata": {},
   "outputs": [],
   "source": [
    "import tensorflow as tf\n",
    "import tensorflow_datasets as tfds\n",
    "import os\n",
    "import re\n",
    "import numpy as np\n",
    "import pandas as pd\n",
    "import matplotlib.pyplot as plt\n",
    "import json\n",
    "from transformers import TFBertModel, BertConfig, AutoTokenizer\n",
    "from sklearn.model_selection import train_test_split\n",
    "from tensorflow.keras.callbacks import EarlyStopping, ModelCheckpoint"
   ]
  },
  {
   "cell_type": "markdown",
   "id": "722eb5fb",
   "metadata": {},
   "source": [
    "### 데이터 전처리"
   ]
  },
  {
   "cell_type": "code",
   "execution_count": 5,
   "id": "2c6f6b8c",
   "metadata": {},
   "outputs": [],
   "source": [
    "train_df = pd.read_csv('../data/train.csv', index_col=0)\n",
    "gen_df = pd.read_csv('../data/gen_data_final.csv', index_col=0)\n",
    "class_dict = {'협박 대화': 0, '갈취 대화':1, '직장 내 괴롭힘 대화':2, '기타 괴롭힘 대화':3, '일반 대화':4}"
   ]
  },
  {
   "cell_type": "code",
   "execution_count": 6,
   "id": "8e27d7e2",
   "metadata": {},
   "outputs": [
    {
     "data": {
      "text/html": [
       "<div>\n",
       "<style scoped>\n",
       "    .dataframe tbody tr th:only-of-type {\n",
       "        vertical-align: middle;\n",
       "    }\n",
       "\n",
       "    .dataframe tbody tr th {\n",
       "        vertical-align: top;\n",
       "    }\n",
       "\n",
       "    .dataframe thead th {\n",
       "        text-align: right;\n",
       "    }\n",
       "</style>\n",
       "<table border=\"1\" class=\"dataframe\">\n",
       "  <thead>\n",
       "    <tr style=\"text-align: right;\">\n",
       "      <th></th>\n",
       "      <th>class</th>\n",
       "      <th>conversation</th>\n",
       "    </tr>\n",
       "    <tr>\n",
       "      <th>idx</th>\n",
       "      <th></th>\n",
       "      <th></th>\n",
       "    </tr>\n",
       "  </thead>\n",
       "  <tbody>\n",
       "    <tr>\n",
       "      <th>0</th>\n",
       "      <td>협박 대화</td>\n",
       "      <td>지금 너 스스로를 죽여달라고 애원하는 것인가?\\n 아닙니다. 죄송합니다.\\n 죽을 ...</td>\n",
       "    </tr>\n",
       "    <tr>\n",
       "      <th>1</th>\n",
       "      <td>협박 대화</td>\n",
       "      <td>길동경찰서입니다.\\n9시 40분 마트에 폭발물을 설치할거다.\\n네?\\n똑바로 들어 ...</td>\n",
       "    </tr>\n",
       "    <tr>\n",
       "      <th>2</th>\n",
       "      <td>기타 괴롭힘 대화</td>\n",
       "      <td>너 되게 귀여운거 알지? 나보다 작은 남자는 첨봤어.\\n그만해. 니들 놀리는거 재미...</td>\n",
       "    </tr>\n",
       "    <tr>\n",
       "      <th>3</th>\n",
       "      <td>갈취 대화</td>\n",
       "      <td>어이 거기\\n예??\\n너 말이야 너. 이리 오라고\\n무슨 일.\\n너 옷 좋아보인다?...</td>\n",
       "    </tr>\n",
       "    <tr>\n",
       "      <th>4</th>\n",
       "      <td>갈취 대화</td>\n",
       "      <td>저기요 혹시 날이 너무 뜨겁잖아요? 저희 회사에서 이 선크림 파는데 한 번 손등에 ...</td>\n",
       "    </tr>\n",
       "    <tr>\n",
       "      <th>...</th>\n",
       "      <td>...</td>\n",
       "      <td>...</td>\n",
       "    </tr>\n",
       "    <tr>\n",
       "      <th>3945</th>\n",
       "      <td>기타 괴롭힘 대화</td>\n",
       "      <td>준하야 넌 대가리가 왜이렇게 크냐?\\n내 머리가 뭐.\\n밥먹으면 대가리만 크냐 너는...</td>\n",
       "    </tr>\n",
       "    <tr>\n",
       "      <th>3946</th>\n",
       "      <td>갈취 대화</td>\n",
       "      <td>내가 지금 너 아들 김길준 데리고 있어. 살리고 싶으면 계좌에 1억만 보내\\n예.?...</td>\n",
       "    </tr>\n",
       "    <tr>\n",
       "      <th>3947</th>\n",
       "      <td>직장 내 괴롭힘 대화</td>\n",
       "      <td>나는 씨 같은 사람 보면 참 신기하더라. 어떻게 저렇게 살지.\\n왜 그래. 들리겠어...</td>\n",
       "    </tr>\n",
       "    <tr>\n",
       "      <th>3948</th>\n",
       "      <td>갈취 대화</td>\n",
       "      <td>누구맘대로 여기서 장사하래?\\n이게 무슨일입니까?\\n남의 구역에서 장사하려면 자릿세...</td>\n",
       "    </tr>\n",
       "    <tr>\n",
       "      <th>3949</th>\n",
       "      <td>직장 내 괴롭힘 대화</td>\n",
       "      <td>희정씨\\n네?\\n주말에 시간이 넘쳐나나봐\\n갑자기 왜그러세요?\\n손이 빤짝빤짝 네일...</td>\n",
       "    </tr>\n",
       "  </tbody>\n",
       "</table>\n",
       "<p>3950 rows × 2 columns</p>\n",
       "</div>"
      ],
      "text/plain": [
       "            class                                       conversation\n",
       "idx                                                                 \n",
       "0           협박 대화  지금 너 스스로를 죽여달라고 애원하는 것인가?\\n 아닙니다. 죄송합니다.\\n 죽을 ...\n",
       "1           협박 대화  길동경찰서입니다.\\n9시 40분 마트에 폭발물을 설치할거다.\\n네?\\n똑바로 들어 ...\n",
       "2       기타 괴롭힘 대화  너 되게 귀여운거 알지? 나보다 작은 남자는 첨봤어.\\n그만해. 니들 놀리는거 재미...\n",
       "3           갈취 대화  어이 거기\\n예??\\n너 말이야 너. 이리 오라고\\n무슨 일.\\n너 옷 좋아보인다?...\n",
       "4           갈취 대화  저기요 혹시 날이 너무 뜨겁잖아요? 저희 회사에서 이 선크림 파는데 한 번 손등에 ...\n",
       "...           ...                                                ...\n",
       "3945    기타 괴롭힘 대화  준하야 넌 대가리가 왜이렇게 크냐?\\n내 머리가 뭐.\\n밥먹으면 대가리만 크냐 너는...\n",
       "3946        갈취 대화  내가 지금 너 아들 김길준 데리고 있어. 살리고 싶으면 계좌에 1억만 보내\\n예.?...\n",
       "3947  직장 내 괴롭힘 대화  나는 씨 같은 사람 보면 참 신기하더라. 어떻게 저렇게 살지.\\n왜 그래. 들리겠어...\n",
       "3948        갈취 대화  누구맘대로 여기서 장사하래?\\n이게 무슨일입니까?\\n남의 구역에서 장사하려면 자릿세...\n",
       "3949  직장 내 괴롭힘 대화  희정씨\\n네?\\n주말에 시간이 넘쳐나나봐\\n갑자기 왜그러세요?\\n손이 빤짝빤짝 네일...\n",
       "\n",
       "[3950 rows x 2 columns]"
      ]
     },
     "execution_count": 6,
     "metadata": {},
     "output_type": "execute_result"
    }
   ],
   "source": [
    "train_df"
   ]
  },
  {
   "cell_type": "code",
   "execution_count": 7,
   "id": "e8c06043",
   "metadata": {},
   "outputs": [
    {
     "data": {
      "text/html": [
       "<div>\n",
       "<style scoped>\n",
       "    .dataframe tbody tr th:only-of-type {\n",
       "        vertical-align: middle;\n",
       "    }\n",
       "\n",
       "    .dataframe tbody tr th {\n",
       "        vertical-align: top;\n",
       "    }\n",
       "\n",
       "    .dataframe thead th {\n",
       "        text-align: right;\n",
       "    }\n",
       "</style>\n",
       "<table border=\"1\" class=\"dataframe\">\n",
       "  <thead>\n",
       "    <tr style=\"text-align: right;\">\n",
       "      <th></th>\n",
       "      <th>conversation</th>\n",
       "    </tr>\n",
       "    <tr>\n",
       "      <th>topic</th>\n",
       "      <th></th>\n",
       "    </tr>\n",
       "  </thead>\n",
       "  <tbody>\n",
       "    <tr>\n",
       "      <th>오늘 하루 있었던 일</th>\n",
       "      <td>퇴근길이네요! 오늘 하루 수고 많으셨어요.\\n네 수고하셨습니다. 특별한 일은 없으셨...</td>\n",
       "    </tr>\n",
       "    <tr>\n",
       "      <th>오늘 하루 있었던 일</th>\n",
       "      <td>점심 뭐 드셨어요?\\n비빔밥 먹었어요. 맛있더라고요.\\n오 저도 비빔밥 좋아하는데!...</td>\n",
       "    </tr>\n",
       "    <tr>\n",
       "      <th>오늘 하루 있었던 일</th>\n",
       "      <td>아침에 지하철이 너무 붐벼서 힘들었어요.\\n정말요? 저는 버스 탔는데 그것도 만원이...</td>\n",
       "    </tr>\n",
       "    <tr>\n",
       "      <th>오늘 하루 있었던 일</th>\n",
       "      <td>날씨가 정말 좋네요. 점심시간에 공원 산책 다녀오셨어요?\\n네 잠깐 회사 앞 올림픽...</td>\n",
       "    </tr>\n",
       "    <tr>\n",
       "      <th>오늘 하루 있었던 일</th>\n",
       "      <td>오늘 커피 맛이 평소보다 더 좋았던 것 같아요.\\n정말요? 저는 오늘따라 커피가 쓰...</td>\n",
       "    </tr>\n",
       "    <tr>\n",
       "      <th>...</th>\n",
       "      <td>...</td>\n",
       "    </tr>\n",
       "    <tr>\n",
       "      <th>경험/추억</th>\n",
       "      <td>너 중학교 때 HOT 팬 아니었어? 방에 브로마이드 붙여놓고 그랬잖아.\\n헐 어떻게...</td>\n",
       "    </tr>\n",
       "    <tr>\n",
       "      <th>경험/추억</th>\n",
       "      <td>대학교 1학년 때 갔던 MT 기억나? 술 마시고 게임하다가 필름 끊겼잖아.\\n와 그...</td>\n",
       "    </tr>\n",
       "    <tr>\n",
       "      <th>경험/추억</th>\n",
       "      <td>나 어릴 때 살던 동네 골목길 사진을 우연히 봤는데 기분이 이상하더라.\\n많이 변했...</td>\n",
       "    </tr>\n",
       "    <tr>\n",
       "      <th>경험/추억</th>\n",
       "      <td>2002 월드컵 때 거리 응원 나갔던 거 생각하면 아직도 소름 돋아.\\n와 맞아! ...</td>\n",
       "    </tr>\n",
       "    <tr>\n",
       "      <th>경험/추억</th>\n",
       "      <td>대학교 졸업식 날 기억나? 다 같이 학사모 던지고 사진 찍고.\\n그럼! 시원섭섭했지...</td>\n",
       "    </tr>\n",
       "  </tbody>\n",
       "</table>\n",
       "<p>992 rows × 1 columns</p>\n",
       "</div>"
      ],
      "text/plain": [
       "                                                  conversation\n",
       "topic                                                         \n",
       "오늘 하루 있었던 일  퇴근길이네요! 오늘 하루 수고 많으셨어요.\\n네 수고하셨습니다. 특별한 일은 없으셨...\n",
       "오늘 하루 있었던 일  점심 뭐 드셨어요?\\n비빔밥 먹었어요. 맛있더라고요.\\n오 저도 비빔밥 좋아하는데!...\n",
       "오늘 하루 있었던 일  아침에 지하철이 너무 붐벼서 힘들었어요.\\n정말요? 저는 버스 탔는데 그것도 만원이...\n",
       "오늘 하루 있었던 일  날씨가 정말 좋네요. 점심시간에 공원 산책 다녀오셨어요?\\n네 잠깐 회사 앞 올림픽...\n",
       "오늘 하루 있었던 일  오늘 커피 맛이 평소보다 더 좋았던 것 같아요.\\n정말요? 저는 오늘따라 커피가 쓰...\n",
       "...                                                        ...\n",
       "경험/추억        너 중학교 때 HOT 팬 아니었어? 방에 브로마이드 붙여놓고 그랬잖아.\\n헐 어떻게...\n",
       "경험/추억        대학교 1학년 때 갔던 MT 기억나? 술 마시고 게임하다가 필름 끊겼잖아.\\n와 그...\n",
       "경험/추억        나 어릴 때 살던 동네 골목길 사진을 우연히 봤는데 기분이 이상하더라.\\n많이 변했...\n",
       "경험/추억        2002 월드컵 때 거리 응원 나갔던 거 생각하면 아직도 소름 돋아.\\n와 맞아! ...\n",
       "경험/추억        대학교 졸업식 날 기억나? 다 같이 학사모 던지고 사진 찍고.\\n그럼! 시원섭섭했지...\n",
       "\n",
       "[992 rows x 1 columns]"
      ]
     },
     "execution_count": 7,
     "metadata": {},
     "output_type": "execute_result"
    }
   ],
   "source": [
    "gen_df"
   ]
  },
  {
   "cell_type": "code",
   "execution_count": 8,
   "id": "782c3e30",
   "metadata": {},
   "outputs": [],
   "source": [
    "gen_df['topic'] = '일반 대화'\n",
    "gen_df = gen_df.rename(columns={'topic':'class'})"
   ]
  },
  {
   "cell_type": "code",
   "execution_count": 9,
   "id": "7bf109ce",
   "metadata": {},
   "outputs": [],
   "source": [
    "data_df = pd.concat([train_df, gen_df], ignore_index=True)"
   ]
  },
  {
   "cell_type": "code",
   "execution_count": 10,
   "id": "fa7501cf",
   "metadata": {},
   "outputs": [
    {
     "data": {
      "text/html": [
       "<div>\n",
       "<style scoped>\n",
       "    .dataframe tbody tr th:only-of-type {\n",
       "        vertical-align: middle;\n",
       "    }\n",
       "\n",
       "    .dataframe tbody tr th {\n",
       "        vertical-align: top;\n",
       "    }\n",
       "\n",
       "    .dataframe thead th {\n",
       "        text-align: right;\n",
       "    }\n",
       "</style>\n",
       "<table border=\"1\" class=\"dataframe\">\n",
       "  <thead>\n",
       "    <tr style=\"text-align: right;\">\n",
       "      <th></th>\n",
       "      <th>class</th>\n",
       "      <th>conversation</th>\n",
       "    </tr>\n",
       "  </thead>\n",
       "  <tbody>\n",
       "    <tr>\n",
       "      <th>0</th>\n",
       "      <td>협박 대화</td>\n",
       "      <td>지금 너 스스로를 죽여달라고 애원하는 것인가?\\n 아닙니다. 죄송합니다.\\n 죽을 ...</td>\n",
       "    </tr>\n",
       "    <tr>\n",
       "      <th>1</th>\n",
       "      <td>협박 대화</td>\n",
       "      <td>길동경찰서입니다.\\n9시 40분 마트에 폭발물을 설치할거다.\\n네?\\n똑바로 들어 ...</td>\n",
       "    </tr>\n",
       "    <tr>\n",
       "      <th>2</th>\n",
       "      <td>기타 괴롭힘 대화</td>\n",
       "      <td>너 되게 귀여운거 알지? 나보다 작은 남자는 첨봤어.\\n그만해. 니들 놀리는거 재미...</td>\n",
       "    </tr>\n",
       "    <tr>\n",
       "      <th>3</th>\n",
       "      <td>갈취 대화</td>\n",
       "      <td>어이 거기\\n예??\\n너 말이야 너. 이리 오라고\\n무슨 일.\\n너 옷 좋아보인다?...</td>\n",
       "    </tr>\n",
       "    <tr>\n",
       "      <th>4</th>\n",
       "      <td>갈취 대화</td>\n",
       "      <td>저기요 혹시 날이 너무 뜨겁잖아요? 저희 회사에서 이 선크림 파는데 한 번 손등에 ...</td>\n",
       "    </tr>\n",
       "    <tr>\n",
       "      <th>...</th>\n",
       "      <td>...</td>\n",
       "      <td>...</td>\n",
       "    </tr>\n",
       "    <tr>\n",
       "      <th>4937</th>\n",
       "      <td>일반 대화</td>\n",
       "      <td>너 중학교 때 HOT 팬 아니었어? 방에 브로마이드 붙여놓고 그랬잖아.\\n헐 어떻게...</td>\n",
       "    </tr>\n",
       "    <tr>\n",
       "      <th>4938</th>\n",
       "      <td>일반 대화</td>\n",
       "      <td>대학교 1학년 때 갔던 MT 기억나? 술 마시고 게임하다가 필름 끊겼잖아.\\n와 그...</td>\n",
       "    </tr>\n",
       "    <tr>\n",
       "      <th>4939</th>\n",
       "      <td>일반 대화</td>\n",
       "      <td>나 어릴 때 살던 동네 골목길 사진을 우연히 봤는데 기분이 이상하더라.\\n많이 변했...</td>\n",
       "    </tr>\n",
       "    <tr>\n",
       "      <th>4940</th>\n",
       "      <td>일반 대화</td>\n",
       "      <td>2002 월드컵 때 거리 응원 나갔던 거 생각하면 아직도 소름 돋아.\\n와 맞아! ...</td>\n",
       "    </tr>\n",
       "    <tr>\n",
       "      <th>4941</th>\n",
       "      <td>일반 대화</td>\n",
       "      <td>대학교 졸업식 날 기억나? 다 같이 학사모 던지고 사진 찍고.\\n그럼! 시원섭섭했지...</td>\n",
       "    </tr>\n",
       "  </tbody>\n",
       "</table>\n",
       "<p>4942 rows × 2 columns</p>\n",
       "</div>"
      ],
      "text/plain": [
       "          class                                       conversation\n",
       "0         협박 대화  지금 너 스스로를 죽여달라고 애원하는 것인가?\\n 아닙니다. 죄송합니다.\\n 죽을 ...\n",
       "1         협박 대화  길동경찰서입니다.\\n9시 40분 마트에 폭발물을 설치할거다.\\n네?\\n똑바로 들어 ...\n",
       "2     기타 괴롭힘 대화  너 되게 귀여운거 알지? 나보다 작은 남자는 첨봤어.\\n그만해. 니들 놀리는거 재미...\n",
       "3         갈취 대화  어이 거기\\n예??\\n너 말이야 너. 이리 오라고\\n무슨 일.\\n너 옷 좋아보인다?...\n",
       "4         갈취 대화  저기요 혹시 날이 너무 뜨겁잖아요? 저희 회사에서 이 선크림 파는데 한 번 손등에 ...\n",
       "...         ...                                                ...\n",
       "4937      일반 대화  너 중학교 때 HOT 팬 아니었어? 방에 브로마이드 붙여놓고 그랬잖아.\\n헐 어떻게...\n",
       "4938      일반 대화  대학교 1학년 때 갔던 MT 기억나? 술 마시고 게임하다가 필름 끊겼잖아.\\n와 그...\n",
       "4939      일반 대화  나 어릴 때 살던 동네 골목길 사진을 우연히 봤는데 기분이 이상하더라.\\n많이 변했...\n",
       "4940      일반 대화  2002 월드컵 때 거리 응원 나갔던 거 생각하면 아직도 소름 돋아.\\n와 맞아! ...\n",
       "4941      일반 대화  대학교 졸업식 날 기억나? 다 같이 학사모 던지고 사진 찍고.\\n그럼! 시원섭섭했지...\n",
       "\n",
       "[4942 rows x 2 columns]"
      ]
     },
     "execution_count": 10,
     "metadata": {},
     "output_type": "execute_result"
    }
   ],
   "source": [
    "data_df"
   ]
  },
  {
   "cell_type": "code",
   "execution_count": 11,
   "id": "871cf91f",
   "metadata": {},
   "outputs": [],
   "source": [
    "data_df['class'] = data_df['class'].apply(lambda x: class_dict[x])"
   ]
  },
  {
   "cell_type": "code",
   "execution_count": 12,
   "id": "c93316a6",
   "metadata": {},
   "outputs": [
    {
     "data": {
      "text/html": [
       "<div>\n",
       "<style scoped>\n",
       "    .dataframe tbody tr th:only-of-type {\n",
       "        vertical-align: middle;\n",
       "    }\n",
       "\n",
       "    .dataframe tbody tr th {\n",
       "        vertical-align: top;\n",
       "    }\n",
       "\n",
       "    .dataframe thead th {\n",
       "        text-align: right;\n",
       "    }\n",
       "</style>\n",
       "<table border=\"1\" class=\"dataframe\">\n",
       "  <thead>\n",
       "    <tr style=\"text-align: right;\">\n",
       "      <th></th>\n",
       "      <th>class</th>\n",
       "      <th>conversation</th>\n",
       "    </tr>\n",
       "  </thead>\n",
       "  <tbody>\n",
       "    <tr>\n",
       "      <th>0</th>\n",
       "      <td>0</td>\n",
       "      <td>지금 너 스스로를 죽여달라고 애원하는 것인가?\\n 아닙니다. 죄송합니다.\\n 죽을 ...</td>\n",
       "    </tr>\n",
       "    <tr>\n",
       "      <th>1</th>\n",
       "      <td>0</td>\n",
       "      <td>길동경찰서입니다.\\n9시 40분 마트에 폭발물을 설치할거다.\\n네?\\n똑바로 들어 ...</td>\n",
       "    </tr>\n",
       "    <tr>\n",
       "      <th>2</th>\n",
       "      <td>3</td>\n",
       "      <td>너 되게 귀여운거 알지? 나보다 작은 남자는 첨봤어.\\n그만해. 니들 놀리는거 재미...</td>\n",
       "    </tr>\n",
       "    <tr>\n",
       "      <th>3</th>\n",
       "      <td>1</td>\n",
       "      <td>어이 거기\\n예??\\n너 말이야 너. 이리 오라고\\n무슨 일.\\n너 옷 좋아보인다?...</td>\n",
       "    </tr>\n",
       "    <tr>\n",
       "      <th>4</th>\n",
       "      <td>1</td>\n",
       "      <td>저기요 혹시 날이 너무 뜨겁잖아요? 저희 회사에서 이 선크림 파는데 한 번 손등에 ...</td>\n",
       "    </tr>\n",
       "    <tr>\n",
       "      <th>...</th>\n",
       "      <td>...</td>\n",
       "      <td>...</td>\n",
       "    </tr>\n",
       "    <tr>\n",
       "      <th>4937</th>\n",
       "      <td>4</td>\n",
       "      <td>너 중학교 때 HOT 팬 아니었어? 방에 브로마이드 붙여놓고 그랬잖아.\\n헐 어떻게...</td>\n",
       "    </tr>\n",
       "    <tr>\n",
       "      <th>4938</th>\n",
       "      <td>4</td>\n",
       "      <td>대학교 1학년 때 갔던 MT 기억나? 술 마시고 게임하다가 필름 끊겼잖아.\\n와 그...</td>\n",
       "    </tr>\n",
       "    <tr>\n",
       "      <th>4939</th>\n",
       "      <td>4</td>\n",
       "      <td>나 어릴 때 살던 동네 골목길 사진을 우연히 봤는데 기분이 이상하더라.\\n많이 변했...</td>\n",
       "    </tr>\n",
       "    <tr>\n",
       "      <th>4940</th>\n",
       "      <td>4</td>\n",
       "      <td>2002 월드컵 때 거리 응원 나갔던 거 생각하면 아직도 소름 돋아.\\n와 맞아! ...</td>\n",
       "    </tr>\n",
       "    <tr>\n",
       "      <th>4941</th>\n",
       "      <td>4</td>\n",
       "      <td>대학교 졸업식 날 기억나? 다 같이 학사모 던지고 사진 찍고.\\n그럼! 시원섭섭했지...</td>\n",
       "    </tr>\n",
       "  </tbody>\n",
       "</table>\n",
       "<p>4942 rows × 2 columns</p>\n",
       "</div>"
      ],
      "text/plain": [
       "      class                                       conversation\n",
       "0         0  지금 너 스스로를 죽여달라고 애원하는 것인가?\\n 아닙니다. 죄송합니다.\\n 죽을 ...\n",
       "1         0  길동경찰서입니다.\\n9시 40분 마트에 폭발물을 설치할거다.\\n네?\\n똑바로 들어 ...\n",
       "2         3  너 되게 귀여운거 알지? 나보다 작은 남자는 첨봤어.\\n그만해. 니들 놀리는거 재미...\n",
       "3         1  어이 거기\\n예??\\n너 말이야 너. 이리 오라고\\n무슨 일.\\n너 옷 좋아보인다?...\n",
       "4         1  저기요 혹시 날이 너무 뜨겁잖아요? 저희 회사에서 이 선크림 파는데 한 번 손등에 ...\n",
       "...     ...                                                ...\n",
       "4937      4  너 중학교 때 HOT 팬 아니었어? 방에 브로마이드 붙여놓고 그랬잖아.\\n헐 어떻게...\n",
       "4938      4  대학교 1학년 때 갔던 MT 기억나? 술 마시고 게임하다가 필름 끊겼잖아.\\n와 그...\n",
       "4939      4  나 어릴 때 살던 동네 골목길 사진을 우연히 봤는데 기분이 이상하더라.\\n많이 변했...\n",
       "4940      4  2002 월드컵 때 거리 응원 나갔던 거 생각하면 아직도 소름 돋아.\\n와 맞아! ...\n",
       "4941      4  대학교 졸업식 날 기억나? 다 같이 학사모 던지고 사진 찍고.\\n그럼! 시원섭섭했지...\n",
       "\n",
       "[4942 rows x 2 columns]"
      ]
     },
     "execution_count": 12,
     "metadata": {},
     "output_type": "execute_result"
    }
   ],
   "source": [
    "data_df"
   ]
  },
  {
   "cell_type": "code",
   "execution_count": 13,
   "id": "8c350036",
   "metadata": {},
   "outputs": [
    {
     "data": {
      "text/plain": [
       "456"
      ]
     },
     "execution_count": 13,
     "metadata": {},
     "output_type": "execute_result"
    }
   ],
   "source": [
    "# train 데이터의 최대 길이를 구함\n",
    "data_len = [len(x.split()) for x in data_df['conversation']]\n",
    "MAX_LEN = max(data_len)\n",
    "MAX_LEN"
   ]
  },
  {
   "cell_type": "markdown",
   "id": "5b7c8f6c",
   "metadata": {},
   "source": [
    "### 모델"
   ]
  },
  {
   "cell_type": "code",
   "execution_count": 32,
   "id": "764dbf3f",
   "metadata": {},
   "outputs": [],
   "source": [
    "tokenizer = AutoTokenizer.from_pretrained(\"klue/bert-base\") # 토크나이저는 다른 토크나이저 사용해도됨\n",
    "\n",
    "config = BertConfig( # bert 바닐라 config\n",
    "    vocab_size=tokenizer.vocab_size,  # KLUE vocab 크기\n",
    "    hidden_size=768,\n",
    "    num_hidden_layers=12,\n",
    "    num_attention_heads=12,\n",
    "    intermediate_size=3072,\n",
    "    max_position_embeddings=MAX_LEN, # 시퀀스의 최대 길이 = MAX_LEN\n",
    "    type_vocab_size=2,\n",
    "    pad_token_id=tokenizer.pad_token_id\n",
    ")"
   ]
  },
  {
   "cell_type": "code",
   "execution_count": 33,
   "id": "05cd4c38",
   "metadata": {},
   "outputs": [],
   "source": [
    "bert_config = TFBertModel(config)"
   ]
  },
  {
   "cell_type": "code",
   "execution_count": 34,
   "id": "ca02c16c",
   "metadata": {},
   "outputs": [],
   "source": [
    "encoded_inputs = tokenizer(\n",
    "    list(data_df['conversation']),\n",
    "    padding='max_length', # 또는 padding=True (배치 내 최대 길이에 맞춤)\n",
    "    truncation=True,\n",
    "    max_length=MAX_LEN,       # BERT 모델이 처리 가능한 최대 길이 고려 (klue/bert-base는 512)\n",
    "    return_tensors='tf'\n",
    ")"
   ]
  },
  {
   "cell_type": "code",
   "execution_count": 35,
   "id": "883e77f6",
   "metadata": {},
   "outputs": [],
   "source": [
    "labels = tf.constant(data_df['class'].values)\n",
    "unique_labels = np.unique(labels.numpy())\n",
    "NUM_CLASSES = len(unique_labels) # 전체 클래스 갯수"
   ]
  },
  {
   "cell_type": "code",
   "execution_count": 36,
   "id": "6c6570d4",
   "metadata": {},
   "outputs": [
    {
     "data": {
      "text/plain": [
       "(<tf.Tensor: shape=(4942,), dtype=int64, numpy=array([0, 0, 3, ..., 4, 4, 4])>,\n",
       " array([0, 1, 2, 3, 4]),\n",
       " 5)"
      ]
     },
     "execution_count": 36,
     "metadata": {},
     "output_type": "execute_result"
    }
   ],
   "source": [
    "labels, unique_labels, NUM_CLASSES"
   ]
  },
  {
   "cell_type": "code",
   "execution_count": 37,
   "id": "e1032819",
   "metadata": {},
   "outputs": [],
   "source": [
    "num_samples = len(data_df) # 전체 샘플 갯수\n",
    "indices = np.arange(num_samples) # 인덱스 생성\n",
    "\n",
    "train_indices, val_indices = train_test_split( # 인덱스를 8대2로 나눔\n",
    "    indices,\n",
    "    test_size=0.2,\n",
    "    random_state=42,\n",
    "    stratify=labels.numpy() # stratify에는 target값으로 class 비율 일정하게 셔플\n",
    ")"
   ]
  },
  {
   "cell_type": "code",
   "execution_count": 38,
   "id": "daa9aa51",
   "metadata": {},
   "outputs": [],
   "source": [
    "train_inputs = {key: tf.gather(val, train_indices) for key, val in encoded_inputs.items()}\n",
    "val_inputs = {key: tf.gather(val, val_indices) for key, val in encoded_inputs.items()}\n",
    "\n",
    "# 레이블도 동일한 인덱스로 선택\n",
    "train_labels = tf.gather(labels, train_indices)\n",
    "val_labels = tf.gather(labels, val_indices)"
   ]
  },
  {
   "cell_type": "code",
   "execution_count": 39,
   "id": "b0d0fe44",
   "metadata": {},
   "outputs": [],
   "source": [
    "train_dataset = tf.data.Dataset.from_tensor_slices((train_inputs, train_labels))\n",
    "train_dataset = train_dataset.shuffle(len(train_indices)).batch(16) # 셔플 및 배치\n",
    "\n",
    "# 예시: 검증 데이터셋 생성\n",
    "val_dataset = tf.data.Dataset.from_tensor_slices((val_inputs, val_labels))\n",
    "val_dataset = val_dataset.batch(16) # 검증 데이터는 보통 셔플하지 않음"
   ]
  },
  {
   "cell_type": "code",
   "execution_count": 40,
   "id": "8aaa1522",
   "metadata": {},
   "outputs": [],
   "source": [
    "class Bert_Vanilla(tf.keras.Model): # bert 마지막 부분에 분류 dense 추가\n",
    "    def __init__(self, bert):\n",
    "        super(Bert_Vanilla, self).__init__()\n",
    "        self.bert = bert\n",
    "        self.dropout = tf.keras.layers.Dropout(0.5)\n",
    "        self.classifier = tf.keras.layers.Dense(5, activation='softmax')\n",
    "\n",
    "    def call(self, inputs, training=False): # 분류 결과만 출력\n",
    "        outputs = self.bert(**inputs)\n",
    "        cls_output = outputs.last_hidden_state[:, 0, :]  # [CLS] 토큰의 출력만 사용\n",
    "        x = self.dropout(cls_output, training=training)\n",
    "        return self.classifier(x)"
   ]
  },
  {
   "cell_type": "code",
   "execution_count": 41,
   "id": "84c57021",
   "metadata": {},
   "outputs": [],
   "source": [
    "model = Bert_Vanilla(bert_config)"
   ]
  },
  {
   "cell_type": "code",
   "execution_count": 42,
   "id": "c8390327",
   "metadata": {},
   "outputs": [],
   "source": [
    "optimizer = tf.keras.optimizers.Adam(learning_rate=5e-5)\n",
    "loss = tf.keras.losses.SparseCategoricalCrossentropy(from_logits=False)\n",
    "metric = tf.keras.metrics.SparseCategoricalAccuracy('accuracy')"
   ]
  },
  {
   "cell_type": "code",
   "execution_count": 43,
   "id": "33988ee7",
   "metadata": {},
   "outputs": [],
   "source": [
    "model.compile(optimizer=optimizer, loss=loss, metrics=[metric])"
   ]
  },
  {
   "cell_type": "code",
   "execution_count": 44,
   "id": "6b8fd77f",
   "metadata": {},
   "outputs": [],
   "source": [
    "early_stopping_cb = EarlyStopping(\n",
    "    monitor='val_loss',\n",
    "    restore_best_weights=True,\n",
    "    patience=2)\n",
    "\n",
    "# ModelCheckpoint 콜백 수정\n",
    "model_checkpoint_cb = ModelCheckpoint(\n",
    "    filepath='model_weight.h5', # 파일 확장자를 .keras (권장) 또는 .h5 로 지정\n",
    "    monitor='val_loss',\n",
    "    save_best_only=True,\n",
    "    save_weights_only=False,      # 전체 모델 저장 (기본값이므로 생략 가능)\n",
    "    verbose=1\n",
    ")"
   ]
  },
  {
   "cell_type": "code",
   "execution_count": null,
   "id": "6c700f04",
   "metadata": {},
   "outputs": [
    {
     "name": "stdout",
     "output_type": "stream",
     "text": [
      "Epoch 1/50\n",
      "WARNING:tensorflow:Gradients do not exist for variables ['bert__vanilla_1/tf_bert_model_1/bert/pooler/dense/kernel:0', 'bert__vanilla_1/tf_bert_model_1/bert/pooler/dense/bias:0'] when minimizing the loss.\n",
      "WARNING:tensorflow:Gradients do not exist for variables ['bert__vanilla_1/tf_bert_model_1/bert/pooler/dense/kernel:0', 'bert__vanilla_1/tf_bert_model_1/bert/pooler/dense/bias:0'] when minimizing the loss.\n"
     ]
    }
   ],
   "source": [
    "NUM_EPOCHS = 50\n",
    "history = model.fit(\n",
    "    train_dataset,\n",
    "    validation_data=val_dataset,\n",
    "    epochs=NUM_EPOCHS, # 충분한 에폭 수 지정 (조기 종료가 관리)\n",
    "    callbacks=[early_stopping_cb, model_checkpoint_cb] # 정의된 콜백 전달\n",
    ")"
   ]
  },
  {
   "cell_type": "code",
   "execution_count": null,
   "id": "574ef3c1",
   "metadata": {},
   "outputs": [],
   "source": []
  },
  {
   "cell_type": "code",
   "execution_count": null,
   "id": "9aab8916",
   "metadata": {},
   "outputs": [],
   "source": []
  },
  {
   "cell_type": "code",
   "execution_count": null,
   "id": "904cc5a8",
   "metadata": {},
   "outputs": [],
   "source": []
  },
  {
   "cell_type": "code",
   "execution_count": null,
   "id": "3de0dfc2",
   "metadata": {},
   "outputs": [],
   "source": []
  },
  {
   "cell_type": "code",
   "execution_count": null,
   "id": "eb3f5d7d",
   "metadata": {},
   "outputs": [],
   "source": []
  },
  {
   "cell_type": "code",
   "execution_count": null,
   "id": "8d463bfe",
   "metadata": {},
   "outputs": [],
   "source": []
  },
  {
   "cell_type": "code",
   "execution_count": null,
   "id": "feac5abd",
   "metadata": {},
   "outputs": [],
   "source": []
  }
 ],
 "metadata": {
  "kernelspec": {
   "display_name": "Python 3 (ipykernel)",
   "language": "python",
   "name": "python3"
  },
  "language_info": {
   "codemirror_mode": {
    "name": "ipython",
    "version": 3
   },
   "file_extension": ".py",
   "mimetype": "text/x-python",
   "name": "python",
   "nbconvert_exporter": "python",
   "pygments_lexer": "ipython3",
   "version": "3.9.7"
  }
 },
 "nbformat": 4,
 "nbformat_minor": 5
}
