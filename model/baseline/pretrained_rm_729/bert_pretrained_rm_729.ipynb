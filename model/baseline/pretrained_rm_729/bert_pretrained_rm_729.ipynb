{
 "cells": [
  {
   "cell_type": "code",
   "execution_count": 51,
   "metadata": {
    "id": "kOy_K6RldD_b"
   },
   "outputs": [],
   "source": [
    "import tensorflow as tf\n",
    "import tensorflow_datasets as tfds\n",
    "import os\n",
    "import re\n",
    "import numpy as np\n",
    "import pandas as pd\n",
    "import matplotlib.pyplot as plt\n",
    "import json\n",
    "from transformers import TFBertModel, BertConfig, AutoTokenizer, TFBertForSequenceClassification, TFAutoModel\n",
    "from sklearn.model_selection import train_test_split\n",
    "from tensorflow import keras\n",
    "import tf_keras\n",
    "from tf_keras.src.layers import Input, Dense, Dropout\n",
    "from tf_keras.src.models import Model"
   ]
  },
  {
   "cell_type": "code",
   "execution_count": 52,
   "metadata": {
    "id": "BmCBnV02gqT2"
   },
   "outputs": [],
   "source": [
    "from tf_keras.metrics import Metric\n",
    "from tf_keras.metrics import Precision, Recall\n",
    "\n",
    "class MacroF1Score(Metric):\n",
    "    def __init__(self, num_classes, name='macro_f1_score', **kwargs):\n",
    "        super(MacroF1Score, self).__init__(name=name, **kwargs)\n",
    "        self.num_classes = num_classes\n",
    "        self.precision = [tf.keras.metrics.Precision(class_id=i) for i in range(num_classes)]\n",
    "        self.recall = [tf.keras.metrics.Recall(class_id=i) for i in range(num_classes)]\n",
    "\n",
    "    def update_state(self, y_true, y_pred, sample_weight=None):\n",
    "        # y_pred: 소프트맥스 출력, y_true: 정수 라벨\n",
    "        y_pred = tf.argmax(y_pred, axis=-1)  # 예측 클래스\n",
    "        y_true = tf.cast(y_true, tf.int64)   # 정수형 라벨\n",
    "        for i in range(self.num_classes):\n",
    "            y_true_i = tf.cast(tf.equal(y_true, i), tf.float32)\n",
    "            y_pred_i = tf.cast(tf.equal(y_pred, i), tf.float32)\n",
    "            self.precision[i].update_state(y_true_i, y_pred_i, sample_weight)\n",
    "            self.recall[i].update_state(y_true_i, y_pred_i, sample_weight)\n",
    "\n",
    "    def result(self):\n",
    "        f1_scores = []\n",
    "        for i in range(self.num_classes):\n",
    "            p = self.precision[i].result()\n",
    "            r = self.recall[i].result()\n",
    "            f1 = 2 * (p * r) / (p + r + tf.keras.backend.epsilon())\n",
    "            f1_scores.append(f1)\n",
    "        return tf.reduce_mean(f1_scores)  # 매크로 평균\n",
    "\n",
    "    def reset_states(self):\n",
    "        for i in range(self.num_classes):\n",
    "            self.precision[i].reset_states()\n",
    "            self.recall[i].reset_states()"
   ]
  },
  {
   "cell_type": "code",
   "execution_count": 53,
   "metadata": {
    "id": "xM6xCT4OgqjF"
   },
   "outputs": [],
   "source": [
    "def get_token_data(data, tokenizer):\n",
    "    return_data = tokenizer(\n",
    "    data,\n",
    "    padding='max_length', # 자동으로 최대 길이로 패딩해줌\n",
    "    truncation=True, # 모델이 감당 가능한 최대 길이 초과하면 자름\n",
    "    return_tensors='np',\n",
    "    # max_length = token_max_len)\n",
    "    )\n",
    "    return return_data"
   ]
  },
  {
   "cell_type": "code",
   "execution_count": 54,
   "metadata": {
    "colab": {
     "base_uri": "https://localhost:8080/"
    },
    "id": "8OEU6QWkdKNr",
    "outputId": "e9621ad0-f913-43a4-d730-8aed4db7588e"
   },
   "outputs": [
    {
     "name": "stdout",
     "output_type": "stream",
     "text": [
      "2.18.0\n"
     ]
    }
   ],
   "source": [
    "print(tf.__version__)"
   ]
  },
  {
   "cell_type": "code",
   "execution_count": 55,
   "metadata": {
    "colab": {
     "base_uri": "https://localhost:8080/"
    },
    "id": "oL5_AyDjdKe-",
    "outputId": "fbbd1f83-7fef-4ce7-afd0-0200a1146fbe"
   },
   "outputs": [
    {
     "name": "stdout",
     "output_type": "stream",
     "text": [
      "Num GPUs Available: 1\n",
      "GPU Details: [PhysicalDevice(name='/physical_device:GPU:0', device_type='GPU')]\n"
     ]
    }
   ],
   "source": [
    "# 사용 가능한 GPU 목록 확인\n",
    "gpus = tf.config.list_physical_devices('GPU')\n",
    "print(\"Num GPUs Available:\", len(gpus))\n",
    "print(\"GPU Details:\", gpus)"
   ]
  },
  {
   "cell_type": "markdown",
   "metadata": {
    "id": "juqau45vdS0B"
   },
   "source": [
    "### 데이터 전처리"
   ]
  },
  {
   "cell_type": "code",
   "execution_count": 56,
   "metadata": {
    "id": "m4N2A84neFgF"
   },
   "outputs": [],
   "source": [
    "class_dict = {'협박 대화': 0, '갈취 대화':1, '직장 내 괴롭힘 대화':2, '기타 괴롭힘 대화':3, '일반 대화':4}"
   ]
  },
  {
   "cell_type": "code",
   "execution_count": 57,
   "metadata": {
    "id": "3quuBv5FdKiE"
   },
   "outputs": [],
   "source": [
    "train_df = pd.read_csv('trainset_v1.csv') # 캐글 데이터\n",
    "val_df = pd.read_csv('valset_v1.csv') # 합성데이터"
   ]
  },
  {
   "cell_type": "code",
   "execution_count": 58,
   "metadata": {
    "id": "5SmmaGP2eJiW"
   },
   "outputs": [],
   "source": [
    "train_df['conversation'] = train_df['conversation'].str.replace('\\n', ' ')\n",
    "val_df['conversation'] = val_df['conversation'].str.replace('\\n', ' ')"
   ]
  },
  {
   "cell_type": "code",
   "execution_count": 59,
   "metadata": {
    "id": "bfonKmoDdx6p"
   },
   "outputs": [],
   "source": [
    "all_df = pd.concat([train_df, val_df])"
   ]
  },
  {
   "cell_type": "code",
   "execution_count": 60,
   "metadata": {
    "colab": {
     "base_uri": "https://localhost:8080/"
    },
    "id": "oE73S3-odKnd",
    "outputId": "b45160d7-dc83-4eda-cb58-bd1fd1abe794"
   },
   "outputs": [
    {
     "data": {
      "text/plain": [
       "223"
      ]
     },
     "execution_count": 60,
     "metadata": {},
     "output_type": "execute_result"
    }
   ],
   "source": [
    "# 모든 데이터의 공백 제거 최대 길이를 구함\n",
    "data_len = [len(x.split()) for x in all_df['conversation']]\n",
    "MAX_LEN = max(data_len)\n",
    "MAX_LEN"
   ]
  },
  {
   "cell_type": "code",
   "execution_count": 61,
   "metadata": {
    "colab": {
     "base_uri": "https://localhost:8080/",
     "height": 272
    },
    "id": "8XLXpJWZdKqM",
    "outputId": "41212903-fb3e-45f0-c69f-eb028fde6629"
   },
   "outputs": [
    {
     "data": {
      "text/html": [
       "<div>\n",
       "<style scoped>\n",
       "    .dataframe tbody tr th:only-of-type {\n",
       "        vertical-align: middle;\n",
       "    }\n",
       "\n",
       "    .dataframe tbody tr th {\n",
       "        vertical-align: top;\n",
       "    }\n",
       "\n",
       "    .dataframe thead th {\n",
       "        text-align: right;\n",
       "    }\n",
       "</style>\n",
       "<table border=\"1\" class=\"dataframe\">\n",
       "  <thead>\n",
       "    <tr style=\"text-align: right;\">\n",
       "      <th></th>\n",
       "      <th>count</th>\n",
       "    </tr>\n",
       "    <tr>\n",
       "      <th>class</th>\n",
       "      <th></th>\n",
       "    </tr>\n",
       "  </thead>\n",
       "  <tbody>\n",
       "    <tr>\n",
       "      <th>3</th>\n",
       "      <td>809</td>\n",
       "    </tr>\n",
       "    <tr>\n",
       "      <th>4</th>\n",
       "      <td>798</td>\n",
       "    </tr>\n",
       "    <tr>\n",
       "      <th>1</th>\n",
       "      <td>778</td>\n",
       "    </tr>\n",
       "    <tr>\n",
       "      <th>2</th>\n",
       "      <td>776</td>\n",
       "    </tr>\n",
       "    <tr>\n",
       "      <th>0</th>\n",
       "      <td>714</td>\n",
       "    </tr>\n",
       "  </tbody>\n",
       "</table>\n",
       "</div><br><label><b>dtype:</b> int64</label>"
      ],
      "text/plain": [
       "class\n",
       "3    809\n",
       "4    798\n",
       "1    778\n",
       "2    776\n",
       "0    714\n",
       "Name: count, dtype: int64"
      ]
     },
     "execution_count": 61,
     "metadata": {},
     "output_type": "execute_result"
    }
   ],
   "source": [
    "# 훈련 데이터 class 개수\n",
    "train_df['class'].value_counts()"
   ]
  },
  {
   "cell_type": "code",
   "execution_count": 62,
   "metadata": {
    "colab": {
     "base_uri": "https://localhost:8080/",
     "height": 272
    },
    "id": "UK8Jf2yueYpq",
    "outputId": "4ccc29ff-1eea-4f04-aa6d-ade4d26af172"
   },
   "outputs": [
    {
     "data": {
      "text/html": [
       "<div>\n",
       "<style scoped>\n",
       "    .dataframe tbody tr th:only-of-type {\n",
       "        vertical-align: middle;\n",
       "    }\n",
       "\n",
       "    .dataframe tbody tr th {\n",
       "        vertical-align: top;\n",
       "    }\n",
       "\n",
       "    .dataframe thead th {\n",
       "        text-align: right;\n",
       "    }\n",
       "</style>\n",
       "<table border=\"1\" class=\"dataframe\">\n",
       "  <thead>\n",
       "    <tr style=\"text-align: right;\">\n",
       "      <th></th>\n",
       "      <th>count</th>\n",
       "    </tr>\n",
       "    <tr>\n",
       "      <th>class</th>\n",
       "      <th></th>\n",
       "    </tr>\n",
       "  </thead>\n",
       "  <tbody>\n",
       "    <tr>\n",
       "      <th>3</th>\n",
       "      <td>202</td>\n",
       "    </tr>\n",
       "    <tr>\n",
       "      <th>4</th>\n",
       "      <td>200</td>\n",
       "    </tr>\n",
       "    <tr>\n",
       "      <th>1</th>\n",
       "      <td>195</td>\n",
       "    </tr>\n",
       "    <tr>\n",
       "      <th>2</th>\n",
       "      <td>194</td>\n",
       "    </tr>\n",
       "    <tr>\n",
       "      <th>0</th>\n",
       "      <td>178</td>\n",
       "    </tr>\n",
       "  </tbody>\n",
       "</table>\n",
       "</div><br><label><b>dtype:</b> int64</label>"
      ],
      "text/plain": [
       "class\n",
       "3    202\n",
       "4    200\n",
       "1    195\n",
       "2    194\n",
       "0    178\n",
       "Name: count, dtype: int64"
      ]
     },
     "execution_count": 62,
     "metadata": {},
     "output_type": "execute_result"
    }
   ],
   "source": [
    "# 훈련 데이터 class 개수\n",
    "val_df['class'].value_counts()"
   ]
  },
  {
   "cell_type": "code",
   "execution_count": 63,
   "metadata": {
    "colab": {
     "base_uri": "https://localhost:8080/"
    },
    "id": "KytEEMYJdKtt",
    "outputId": "32762195-cb47-4890-b22c-75099688bdbf"
   },
   "outputs": [
    {
     "name": "stdout",
     "output_type": "stream",
     "text": [
      "class 개수 : 5\n"
     ]
    }
   ],
   "source": [
    "num_classes = len(np.unique(train_df['class']))\n",
    "print(f'class 개수 : {num_classes}')"
   ]
  },
  {
   "cell_type": "markdown",
   "metadata": {
    "id": "zfZq1sUeeuxZ"
   },
   "source": [
    "### 토크나이저"
   ]
  },
  {
   "cell_type": "code",
   "execution_count": 64,
   "metadata": {
    "id": "0OMM3-2FdKzu"
   },
   "outputs": [],
   "source": [
    "model_name = \"klue/bert-base\""
   ]
  },
  {
   "cell_type": "code",
   "execution_count": 65,
   "metadata": {
    "id": "jqJIRvqSdK3Q"
   },
   "outputs": [],
   "source": [
    "tokenizer = AutoTokenizer.from_pretrained(model_name)"
   ]
  },
  {
   "cell_type": "code",
   "execution_count": 66,
   "metadata": {
    "id": "L0xBWYsjdK6d"
   },
   "outputs": [],
   "source": [
    "train_labels = tf.convert_to_tensor(train_df['class'])\n",
    "train_token_data = get_token_data(list(train_df['conversation']), tokenizer)\n",
    "train_token_data = {key: tf.convert_to_tensor(train) for key, train in train_token_data.items()}"
   ]
  },
  {
   "cell_type": "code",
   "execution_count": 67,
   "metadata": {
    "id": "CYElPJSvjmBm"
   },
   "outputs": [],
   "source": [
    "val_labels = tf.convert_to_tensor(val_df['class'])\n",
    "val_token_data = get_token_data(list(val_df['conversation']), tokenizer)\n",
    "val_token_data = {key: tf.convert_to_tensor(val) for key, val in val_token_data.items()}"
   ]
  },
  {
   "cell_type": "code",
   "execution_count": 68,
   "metadata": {
    "colab": {
     "base_uri": "https://localhost:8080/"
    },
    "id": "G7gbSFWciyVW",
    "outputId": "3adc2a3b-8d34-49dc-9733-8deeaa27a0bb"
   },
   "outputs": [
    {
     "data": {
      "text/plain": [
       "{'input_ids': <tf.Tensor: shape=(3875, 512), dtype=int64, numpy=\n",
       " array([[    2,   743,  2203, ...,     0,     0,     0],\n",
       "        [    2, 12793,  2757, ...,     0,     0,     0],\n",
       "        [    2,  4188,  2252, ...,     0,     0,     0],\n",
       "        ...,\n",
       "        [    2,   732,  2116, ...,     0,     0,     0],\n",
       "        [    2, 26784,  2052, ...,     0,     0,     0],\n",
       "        [    2,  1453,  1504, ...,     0,     0,     0]])>,\n",
       " 'token_type_ids': <tf.Tensor: shape=(3875, 512), dtype=int64, numpy=\n",
       " array([[0, 0, 0, ..., 0, 0, 0],\n",
       "        [0, 0, 0, ..., 0, 0, 0],\n",
       "        [0, 0, 0, ..., 0, 0, 0],\n",
       "        ...,\n",
       "        [0, 0, 0, ..., 0, 0, 0],\n",
       "        [0, 0, 0, ..., 0, 0, 0],\n",
       "        [0, 0, 0, ..., 0, 0, 0]])>,\n",
       " 'attention_mask': <tf.Tensor: shape=(3875, 512), dtype=int64, numpy=\n",
       " array([[1, 1, 1, ..., 0, 0, 0],\n",
       "        [1, 1, 1, ..., 0, 0, 0],\n",
       "        [1, 1, 1, ..., 0, 0, 0],\n",
       "        ...,\n",
       "        [1, 1, 1, ..., 0, 0, 0],\n",
       "        [1, 1, 1, ..., 0, 0, 0],\n",
       "        [1, 1, 1, ..., 0, 0, 0]])>}"
      ]
     },
     "execution_count": 68,
     "metadata": {},
     "output_type": "execute_result"
    }
   ],
   "source": [
    "train_token_data"
   ]
  },
  {
   "cell_type": "code",
   "execution_count": 69,
   "metadata": {
    "colab": {
     "base_uri": "https://localhost:8080/"
    },
    "id": "UtZOlI3Ci11o",
    "outputId": "917e7d36-15e3-4e1a-9e51-29055c647d0d"
   },
   "outputs": [
    {
     "data": {
      "text/plain": [
       "<tf.Tensor: shape=(3875,), dtype=int64, numpy=array([0, 0, 2, ..., 1, 3, 4])>"
      ]
     },
     "execution_count": 69,
     "metadata": {},
     "output_type": "execute_result"
    }
   ],
   "source": [
    "train_labels"
   ]
  },
  {
   "cell_type": "code",
   "execution_count": 70,
   "metadata": {
    "id": "_A09rq-ldLAb"
   },
   "outputs": [],
   "source": [
    "train_dataset = tf.data.Dataset.from_tensor_slices((train_token_data, train_labels))\n",
    "train_dataset = train_dataset.shuffle(buffer_size=10000).batch(8) # 셔플 및 배치\n",
    "\n",
    "# 예시: 검증 데이터셋 생성\n",
    "val_dataset = tf.data.Dataset.from_tensor_slices((val_token_data, val_labels))\n",
    "val_dataset = val_dataset.batch(8) # 검증 데이터는 보통 셔플하지 않음"
   ]
  },
  {
   "cell_type": "code",
   "execution_count": 71,
   "metadata": {
    "colab": {
     "base_uri": "https://localhost:8080/"
    },
    "id": "XJugfLm4dLDa",
    "outputId": "ce72e16e-ac25-4cc1-8384-0eca74b58b17"
   },
   "outputs": [
    {
     "name": "stdout",
     "output_type": "stream",
     "text": [
      "토크나이저 후 데이터 내 최대 시퀀스 길이: 512\n"
     ]
    }
   ],
   "source": [
    "lengths = [len(seq) for seq in train_token_data['input_ids']]\n",
    "print(f\"토크나이저 후 데이터 내 최대 시퀀스 길이: {max(lengths)}\")"
   ]
  },
  {
   "cell_type": "code",
   "execution_count": 72,
   "metadata": {
    "colab": {
     "base_uri": "https://localhost:8080/"
    },
    "id": "vvJR8VxcdLJZ",
    "outputId": "899e3066-7b27-4760-ff37-ebb2d8cb87e9"
   },
   "outputs": [
    {
     "name": "stdout",
     "output_type": "stream",
     "text": [
      "({'input_ids': <tf.Tensor: shape=(8, 512), dtype=int64, numpy=\n",
      "array([[    2,  1891,  2364, ...,     0,     0,     0],\n",
      "       [    2,  5697,  3744, ...,     0,     0,     0],\n",
      "       [    2, 18266,  3980, ...,     0,     0,     0],\n",
      "       ...,\n",
      "       [    2,  3822,  8021, ...,     0,     0,     0],\n",
      "       [    2, 26784, 27121, ...,     0,     0,     0],\n",
      "       [    2,  5538,  3949, ...,     0,     0,     0]])>, 'token_type_ids': <tf.Tensor: shape=(8, 512), dtype=int64, numpy=\n",
      "array([[0, 0, 0, ..., 0, 0, 0],\n",
      "       [0, 0, 0, ..., 0, 0, 0],\n",
      "       [0, 0, 0, ..., 0, 0, 0],\n",
      "       ...,\n",
      "       [0, 0, 0, ..., 0, 0, 0],\n",
      "       [0, 0, 0, ..., 0, 0, 0],\n",
      "       [0, 0, 0, ..., 0, 0, 0]])>, 'attention_mask': <tf.Tensor: shape=(8, 512), dtype=int64, numpy=\n",
      "array([[1, 1, 1, ..., 0, 0, 0],\n",
      "       [1, 1, 1, ..., 0, 0, 0],\n",
      "       [1, 1, 1, ..., 0, 0, 0],\n",
      "       ...,\n",
      "       [1, 1, 1, ..., 0, 0, 0],\n",
      "       [1, 1, 1, ..., 0, 0, 0],\n",
      "       [1, 1, 1, ..., 0, 0, 0]])>}, <tf.Tensor: shape=(8,), dtype=int64, numpy=array([2, 4, 0, 3, 2, 3, 3, 4])>)\n"
     ]
    }
   ],
   "source": [
    "for i in train_dataset:\n",
    "    print(i)\n",
    "    break"
   ]
  },
  {
   "cell_type": "markdown",
   "metadata": {
    "id": "u9N35Q_pfiX6"
   },
   "source": [
    "### 모델"
   ]
  },
  {
   "cell_type": "code",
   "execution_count": 73,
   "metadata": {
    "colab": {
     "base_uri": "https://localhost:8080/"
    },
    "id": "apaNXkE8ffIt",
    "outputId": "8fb1b5a7-9e09-4e98-c9ed-639c1e05ed74"
   },
   "outputs": [
    {
     "name": "stderr",
     "output_type": "stream",
     "text": [
      "Some weights of the PyTorch model were not used when initializing the TF 2.0 model TFBertModel: ['cls.predictions.transform.dense.bias', 'bert.embeddings.position_ids', 'cls.seq_relationship.weight', 'cls.predictions.transform.LayerNorm.bias', 'cls.predictions.decoder.weight', 'cls.predictions.bias', 'cls.seq_relationship.bias', 'cls.predictions.decoder.bias', 'cls.predictions.transform.LayerNorm.weight', 'cls.predictions.transform.dense.weight']\n",
      "- This IS expected if you are initializing TFBertModel from a PyTorch model trained on another task or with another architecture (e.g. initializing a TFBertForSequenceClassification model from a BertForPreTraining model).\n",
      "- This IS NOT expected if you are initializing TFBertModel from a PyTorch model that you expect to be exactly identical (e.g. initializing a TFBertForSequenceClassification model from a BertForSequenceClassification model).\n",
      "All the weights of TFBertModel were initialized from the PyTorch model.\n",
      "If your task is similar to the task the model of the checkpoint was trained on, you can already use TFBertModel for predictions without further training.\n"
     ]
    }
   ],
   "source": [
    "# 사전학습된 klue 모델의 bert 인코더만 불러오기 -> TFAutoModel 사용\n",
    "\n",
    "bert_encoders = TFAutoModel.from_pretrained(model_name, num_labels=num_classes, from_pt=True)"
   ]
  },
  {
   "cell_type": "code",
   "execution_count": 74,
   "metadata": {
    "id": "bBVDlQDlfjXu"
   },
   "outputs": [],
   "source": [
    "# 4. 더미 입력으로 모델 빌드\n",
    "dummy_input = get_token_data([\"더미 텍스트\"], tokenizer)\n",
    "# bert_encoders(dummy_input)  # 모델 호출로 빌드"
   ]
  },
  {
   "cell_type": "code",
   "execution_count": 88,
   "metadata": {
    "colab": {
     "base_uri": "https://localhost:8080/"
    },
    "id": "Oh3_bTwLfjau",
    "outputId": "f01bcfce-2da0-45d9-bc57-6e1bf23568cf"
   },
   "outputs": [
    {
     "data": {
      "text/plain": [
       "{'input_ids': <KerasTensor: shape=(None, 512) dtype=int32 (created by layer 'input_ids')>,\n",
       " 'token_type_ids': <KerasTensor: shape=(None, 512) dtype=int32 (created by layer 'token_type_ids')>,\n",
       " 'attention_mask': <KerasTensor: shape=(None, 512) dtype=int32 (created by layer 'attention_mask')>}"
      ]
     },
     "execution_count": 88,
     "metadata": {},
     "output_type": "execute_result"
    }
   ],
   "source": [
    "input_layers = {}\n",
    "for name, tensor in dummy_input.items(): # 토크나이저의 출력값을 알기 위해서 더미데이터 출력값 가져옴\n",
    "    shape = tensor.shape[1:]  # batch dimension 제외\n",
    "    input_layers[name] = Input(shape=shape, dtype='int32', name=name) # input_layer 정의 ( tokneizer의 출력값 전부가 input으로 들어감 )\n",
    "input_layers"
   ]
  },
  {
   "cell_type": "code",
   "execution_count": 89,
   "metadata": {
    "id": "IsyzKkVofjdI"
   },
   "outputs": [],
   "source": [
    "# bert 인코더 통과 시키고\n",
    "bert_outputs = bert_encoders(input_layers)\n",
    "pooled_output = bert_outputs.pooler_output"
   ]
  },
  {
   "cell_type": "code",
   "execution_count": 90,
   "metadata": {
    "id": "_ZSAY60pfjfO"
   },
   "outputs": [],
   "source": [
    "# dense 층 추가\n",
    "dense1 = Dense(1024, activation='relu')(pooled_output)\n",
    "dropout1 = Dropout(0.5)(dense1)\n",
    "dense2 = Dense(512, activation='relu')(dropout1)\n",
    "dropout2 = Dropout(0.5)(dense2)\n",
    "classifier1 = Dense(num_classes)(dropout2)"
   ]
  },
  {
   "cell_type": "code",
   "execution_count": 91,
   "metadata": {
    "id": "obCe7Z6Xfjho"
   },
   "outputs": [],
   "source": [
    "model = Model(inputs=input_layers, outputs=classifier1)"
   ]
  },
  {
   "cell_type": "code",
   "execution_count": 92,
   "metadata": {
    "id": "t80oDUx4fjj4"
   },
   "outputs": [],
   "source": [
    "# 사전학습된 bert 인코더 훈련 X\n",
    "\n",
    "bert_encoders.trainable = False"
   ]
  },
  {
   "cell_type": "code",
   "execution_count": 93,
   "metadata": {
    "colab": {
     "base_uri": "https://localhost:8080/"
    },
    "id": "3DUov6amfjmO",
    "outputId": "e475ae17-d2e7-4e71-ebcc-4a7205c559ff"
   },
   "outputs": [
    {
     "name": "stdout",
     "output_type": "stream",
     "text": [
      "Layer attention_mask is trainable: True\n",
      "Layer input_ids is trainable: True\n",
      "Layer token_type_ids is trainable: True\n",
      "Layer tf_bert_model_1 is trainable: False\n",
      "Layer dense_6 is trainable: True\n",
      "Layer dropout_78 is trainable: True\n",
      "Layer dense_7 is trainable: True\n",
      "Layer dropout_79 is trainable: True\n",
      "Layer dense_8 is trainable: True\n"
     ]
    }
   ],
   "source": [
    "for layer in model.layers:\n",
    "    print(f\"Layer {layer.name} is trainable: {layer.trainable}\")"
   ]
  },
  {
   "cell_type": "code",
   "execution_count": 94,
   "metadata": {
    "colab": {
     "base_uri": "https://localhost:8080/"
    },
    "id": "pVeKfUG5fjoo",
    "outputId": "db0091c3-83d2-48f0-b041-046af74f2de7"
   },
   "outputs": [
    {
     "name": "stdout",
     "output_type": "stream",
     "text": [
      "Model: \"model_2\"\n",
      "__________________________________________________________________________________________________\n",
      " Layer (type)                Output Shape                 Param #   Connected to                  \n",
      "==================================================================================================\n",
      " attention_mask (InputLayer  [(None, 512)]                0         []                            \n",
      " )                                                                                                \n",
      "                                                                                                  \n",
      " input_ids (InputLayer)      [(None, 512)]                0         []                            \n",
      "                                                                                                  \n",
      " token_type_ids (InputLayer  [(None, 512)]                0         []                            \n",
      " )                                                                                                \n",
      "                                                                                                  \n",
      " tf_bert_model_1 (TFBertMod  TFBaseModelOutputWithPooli   1106173   ['attention_mask[0][0]',      \n",
      " el)                         ngAndCrossAttentions(last_   44         'input_ids[0][0]',           \n",
      "                             hidden_state=(None, 512, 7              'token_type_ids[0][0]']      \n",
      "                             68),                                                                 \n",
      "                              pooler_output=(None, 768)                                           \n",
      "                             , past_key_values=None, hi                                           \n",
      "                             dden_states=None, attentio                                           \n",
      "                             ns=None, cross_attentions=                                           \n",
      "                             None)                                                                \n",
      "                                                                                                  \n",
      " dense_6 (Dense)             (None, 1024)                 787456    ['tf_bert_model_1[1][1]']     \n",
      "                                                                                                  \n",
      " dropout_78 (Dropout)        (None, 1024)                 0         ['dense_6[0][0]']             \n",
      "                                                                                                  \n",
      " dense_7 (Dense)             (None, 512)                  524800    ['dropout_78[0][0]']          \n",
      "                                                                                                  \n",
      " dropout_79 (Dropout)        (None, 512)                  0         ['dense_7[0][0]']             \n",
      "                                                                                                  \n",
      " dense_8 (Dense)             (None, 5)                    2565      ['dropout_79[0][0]']          \n",
      "                                                                                                  \n",
      "==================================================================================================\n",
      "Total params: 111932165 (426.99 MB)\n",
      "Trainable params: 1314821 (5.02 MB)\n",
      "Non-trainable params: 110617344 (421.97 MB)\n",
      "__________________________________________________________________________________________________\n"
     ]
    }
   ],
   "source": [
    "model.summary()"
   ]
  },
  {
   "cell_type": "code",
   "execution_count": 95,
   "metadata": {
    "id": "aFxH3S-sfjtR"
   },
   "outputs": [],
   "source": [
    "from tf_keras.optimizers import Adam  # tf_keras에서 Adam 가져오기\n",
    "f1 = MacroF1Score(num_classes=num_classes)\n",
    "optimizer = Adam(learning_rate=5e-5)\n",
    "loss = tf_keras.losses.SparseCategoricalCrossentropy(from_logits=True)\n",
    "# model.compile(optimizer=optimizer, loss=loss, metrics=['accuracy', f1])\n",
    "model.compile(optimizer=optimizer, loss=loss, metrics=['accuracy'])"
   ]
  },
  {
   "cell_type": "code",
   "execution_count": 96,
   "metadata": {
    "id": "eI_PnoTcfjvh"
   },
   "outputs": [],
   "source": [
    "early_stopping_cb = keras.callbacks.EarlyStopping(\n",
    "    monitor='val_loss',\n",
    "    restore_best_weights=True,\n",
    "    patience=5)\n",
    "\n",
    "# # ModelCheckpoint 콜백 수정\n",
    "# model_checkpoint_cb = keras.callbacks.ModelCheckpoint(\n",
    "#     filepath='model_weight.h5', # 파일 확장자를 .keras (권장) 또는 .h5 로 지정\n",
    "#     monitor='val_loss',\n",
    "#     save_best_only=True,\n",
    "#     save_weights_only=False,      # 전체 모델 저장 (기본값이므로 생략 가능)\n",
    "#     verbose=1\n",
    "# )"
   ]
  },
  {
   "cell_type": "code",
   "execution_count": 97,
   "metadata": {
    "id": "K5FeIa2cfj07"
   },
   "outputs": [],
   "source": [
    "NUM_EPOCHS = 50"
   ]
  },
  {
   "cell_type": "code",
   "execution_count": 98,
   "metadata": {
    "colab": {
     "base_uri": "https://localhost:8080/"
    },
    "id": "CiOnpv6SgxTP",
    "outputId": "27933185-74bc-4d5b-c6f9-5e79ece69aab"
   },
   "outputs": [
    {
     "name": "stdout",
     "output_type": "stream",
     "text": [
      "Epoch 1/50\n",
      "485/485 [==============================] - 236s 459ms/step - loss: 1.2174 - accuracy: 0.4983 - val_loss: 0.7863 - val_accuracy: 0.6976\n",
      "Epoch 2/50\n",
      "485/485 [==============================] - 219s 452ms/step - loss: 0.8283 - accuracy: 0.6836 - val_loss: 0.6303 - val_accuracy: 0.7523\n",
      "Epoch 3/50\n",
      "485/485 [==============================] - 219s 451ms/step - loss: 0.7135 - accuracy: 0.7218 - val_loss: 0.5783 - val_accuracy: 0.7771\n",
      "Epoch 4/50\n",
      "485/485 [==============================] - 217s 449ms/step - loss: 0.6221 - accuracy: 0.7644 - val_loss: 0.5564 - val_accuracy: 0.7926\n",
      "Epoch 5/50\n",
      "485/485 [==============================] - 217s 448ms/step - loss: 0.5987 - accuracy: 0.7739 - val_loss: 0.5244 - val_accuracy: 0.8070\n",
      "Epoch 6/50\n",
      "485/485 [==============================] - 217s 448ms/step - loss: 0.5705 - accuracy: 0.7786 - val_loss: 0.5161 - val_accuracy: 0.8225\n",
      "Epoch 7/50\n",
      "485/485 [==============================] - 217s 449ms/step - loss: 0.5327 - accuracy: 0.8090 - val_loss: 0.5005 - val_accuracy: 0.8142\n",
      "Epoch 8/50\n",
      "485/485 [==============================] - 217s 448ms/step - loss: 0.5257 - accuracy: 0.8072 - val_loss: 0.5193 - val_accuracy: 0.8163\n",
      "Epoch 9/50\n",
      "485/485 [==============================] - 217s 448ms/step - loss: 0.4979 - accuracy: 0.8194 - val_loss: 0.4842 - val_accuracy: 0.8225\n",
      "Epoch 10/50\n",
      "485/485 [==============================] - 217s 447ms/step - loss: 0.4984 - accuracy: 0.8165 - val_loss: 0.4598 - val_accuracy: 0.8369\n",
      "Epoch 11/50\n",
      "485/485 [==============================] - 217s 447ms/step - loss: 0.4780 - accuracy: 0.8191 - val_loss: 0.4759 - val_accuracy: 0.8277\n",
      "Epoch 12/50\n",
      "485/485 [==============================] - 217s 448ms/step - loss: 0.4538 - accuracy: 0.8276 - val_loss: 0.4497 - val_accuracy: 0.8431\n",
      "Epoch 13/50\n",
      "485/485 [==============================] - 217s 447ms/step - loss: 0.4508 - accuracy: 0.8312 - val_loss: 0.4441 - val_accuracy: 0.8493\n",
      "Epoch 14/50\n",
      "485/485 [==============================] - 217s 447ms/step - loss: 0.4410 - accuracy: 0.8408 - val_loss: 0.4530 - val_accuracy: 0.8380\n",
      "Epoch 15/50\n",
      "485/485 [==============================] - 217s 447ms/step - loss: 0.4300 - accuracy: 0.8439 - val_loss: 0.4597 - val_accuracy: 0.8400\n"
     ]
    },
    {
     "data": {
      "text/plain": [
       "<tf_keras.src.callbacks.History at 0x7f75d0307950>"
      ]
     },
     "execution_count": 98,
     "metadata": {},
     "output_type": "execute_result"
    }
   ],
   "source": [
    "model.fit(\n",
    "    train_dataset,\n",
    "    validation_data=val_dataset,\n",
    "    epochs=NUM_EPOCHS,\n",
    "    verbose=1,\n",
    "    callbacks=[early_stopping_cb] # 정의된 콜백 전달\n",
    "    # callbacks=[early_stopping_cb, model_checkpoint_cb] # 정의된 콜백 전달\n",
    ")"
   ]
  },
  {
   "cell_type": "code",
   "execution_count": 108,
   "metadata": {
    "id": "dBE7aXEpffL6"
   },
   "outputs": [],
   "source": [
    "def predict(text):\n",
    "    inputs = get_token_data([text], tokenizer)\n",
    "    logits = model(inputs)\n",
    "    return int(tf.argmax(logits, axis=1).numpy()[0])"
   ]
  },
  {
   "cell_type": "code",
   "execution_count": 109,
   "metadata": {
    "id": "al-MsfjoffN5"
   },
   "outputs": [],
   "source": [
    "test_df = pd.read_csv('test.csv', index_col=0)\n",
    "submission = pd.read_csv('submission.csv', index_col=0)"
   ]
  },
  {
   "cell_type": "code",
   "execution_count": 110,
   "metadata": {
    "id": "QAda2aeedLMd"
   },
   "outputs": [],
   "source": [
    "submission['target'] = test_df['text'].apply(predict)"
   ]
  },
  {
   "cell_type": "code",
   "execution_count": 111,
   "metadata": {
    "id": "cBuwJiFn3Ai4"
   },
   "outputs": [],
   "source": [
    "submission.to_csv('bert_klue_rm.csv')"
   ]
  },
  {
   "cell_type": "code",
   "execution_count": 112,
   "metadata": {
    "colab": {
     "base_uri": "https://localhost:8080/",
     "height": 455
    },
    "id": "Pn3eBBBvCyoU",
    "outputId": "bc9ad981-33f3-476a-b304-195800dfcf4b"
   },
   "outputs": [
    {
     "data": {
      "application/vnd.google.colaboratory.intrinsic+json": {
       "summary": "{\n  \"name\": \"submission\",\n  \"rows\": 500,\n  \"fields\": [\n    {\n      \"column\": \"idx\",\n      \"properties\": {\n        \"dtype\": \"string\",\n        \"num_unique_values\": 500,\n        \"samples\": [\n          \"t_361\",\n          \"t_073\",\n          \"t_374\"\n        ],\n        \"semantic_type\": \"\",\n        \"description\": \"\"\n      }\n    },\n    {\n      \"column\": \"target\",\n      \"properties\": {\n        \"dtype\": \"number\",\n        \"std\": 1,\n        \"min\": 0,\n        \"max\": 4,\n        \"num_unique_values\": 5,\n        \"samples\": [\n          2,\n          3,\n          0\n        ],\n        \"semantic_type\": \"\",\n        \"description\": \"\"\n      }\n    }\n  ]\n}",
       "type": "dataframe",
       "variable_name": "submission"
      },
      "text/html": [
       "\n",
       "  <div id=\"df-44f6d0da-bb4d-45b2-9a83-e056f4471c12\" class=\"colab-df-container\">\n",
       "    <div>\n",
       "<style scoped>\n",
       "    .dataframe tbody tr th:only-of-type {\n",
       "        vertical-align: middle;\n",
       "    }\n",
       "\n",
       "    .dataframe tbody tr th {\n",
       "        vertical-align: top;\n",
       "    }\n",
       "\n",
       "    .dataframe thead th {\n",
       "        text-align: right;\n",
       "    }\n",
       "</style>\n",
       "<table border=\"1\" class=\"dataframe\">\n",
       "  <thead>\n",
       "    <tr style=\"text-align: right;\">\n",
       "      <th></th>\n",
       "      <th>target</th>\n",
       "    </tr>\n",
       "    <tr>\n",
       "      <th>idx</th>\n",
       "      <th></th>\n",
       "    </tr>\n",
       "  </thead>\n",
       "  <tbody>\n",
       "    <tr>\n",
       "      <th>t_000</th>\n",
       "      <td>1</td>\n",
       "    </tr>\n",
       "    <tr>\n",
       "      <th>t_001</th>\n",
       "      <td>2</td>\n",
       "    </tr>\n",
       "    <tr>\n",
       "      <th>t_002</th>\n",
       "      <td>0</td>\n",
       "    </tr>\n",
       "    <tr>\n",
       "      <th>t_003</th>\n",
       "      <td>4</td>\n",
       "    </tr>\n",
       "    <tr>\n",
       "      <th>t_004</th>\n",
       "      <td>4</td>\n",
       "    </tr>\n",
       "    <tr>\n",
       "      <th>...</th>\n",
       "      <td>...</td>\n",
       "    </tr>\n",
       "    <tr>\n",
       "      <th>t_495</th>\n",
       "      <td>2</td>\n",
       "    </tr>\n",
       "    <tr>\n",
       "      <th>t_496</th>\n",
       "      <td>2</td>\n",
       "    </tr>\n",
       "    <tr>\n",
       "      <th>t_497</th>\n",
       "      <td>1</td>\n",
       "    </tr>\n",
       "    <tr>\n",
       "      <th>t_498</th>\n",
       "      <td>0</td>\n",
       "    </tr>\n",
       "    <tr>\n",
       "      <th>t_499</th>\n",
       "      <td>0</td>\n",
       "    </tr>\n",
       "  </tbody>\n",
       "</table>\n",
       "<p>500 rows × 1 columns</p>\n",
       "</div>\n",
       "    <div class=\"colab-df-buttons\">\n",
       "\n",
       "  <div class=\"colab-df-container\">\n",
       "    <button class=\"colab-df-convert\" onclick=\"convertToInteractive('df-44f6d0da-bb4d-45b2-9a83-e056f4471c12')\"\n",
       "            title=\"Convert this dataframe to an interactive table.\"\n",
       "            style=\"display:none;\">\n",
       "\n",
       "  <svg xmlns=\"http://www.w3.org/2000/svg\" height=\"24px\" viewBox=\"0 -960 960 960\">\n",
       "    <path d=\"M120-120v-720h720v720H120Zm60-500h600v-160H180v160Zm220 220h160v-160H400v160Zm0 220h160v-160H400v160ZM180-400h160v-160H180v160Zm440 0h160v-160H620v160ZM180-180h160v-160H180v160Zm440 0h160v-160H620v160Z\"/>\n",
       "  </svg>\n",
       "    </button>\n",
       "\n",
       "  <style>\n",
       "    .colab-df-container {\n",
       "      display:flex;\n",
       "      gap: 12px;\n",
       "    }\n",
       "\n",
       "    .colab-df-convert {\n",
       "      background-color: #E8F0FE;\n",
       "      border: none;\n",
       "      border-radius: 50%;\n",
       "      cursor: pointer;\n",
       "      display: none;\n",
       "      fill: #1967D2;\n",
       "      height: 32px;\n",
       "      padding: 0 0 0 0;\n",
       "      width: 32px;\n",
       "    }\n",
       "\n",
       "    .colab-df-convert:hover {\n",
       "      background-color: #E2EBFA;\n",
       "      box-shadow: 0px 1px 2px rgba(60, 64, 67, 0.3), 0px 1px 3px 1px rgba(60, 64, 67, 0.15);\n",
       "      fill: #174EA6;\n",
       "    }\n",
       "\n",
       "    .colab-df-buttons div {\n",
       "      margin-bottom: 4px;\n",
       "    }\n",
       "\n",
       "    [theme=dark] .colab-df-convert {\n",
       "      background-color: #3B4455;\n",
       "      fill: #D2E3FC;\n",
       "    }\n",
       "\n",
       "    [theme=dark] .colab-df-convert:hover {\n",
       "      background-color: #434B5C;\n",
       "      box-shadow: 0px 1px 3px 1px rgba(0, 0, 0, 0.15);\n",
       "      filter: drop-shadow(0px 1px 2px rgba(0, 0, 0, 0.3));\n",
       "      fill: #FFFFFF;\n",
       "    }\n",
       "  </style>\n",
       "\n",
       "    <script>\n",
       "      const buttonEl =\n",
       "        document.querySelector('#df-44f6d0da-bb4d-45b2-9a83-e056f4471c12 button.colab-df-convert');\n",
       "      buttonEl.style.display =\n",
       "        google.colab.kernel.accessAllowed ? 'block' : 'none';\n",
       "\n",
       "      async function convertToInteractive(key) {\n",
       "        const element = document.querySelector('#df-44f6d0da-bb4d-45b2-9a83-e056f4471c12');\n",
       "        const dataTable =\n",
       "          await google.colab.kernel.invokeFunction('convertToInteractive',\n",
       "                                                    [key], {});\n",
       "        if (!dataTable) return;\n",
       "\n",
       "        const docLinkHtml = 'Like what you see? Visit the ' +\n",
       "          '<a target=\"_blank\" href=https://colab.research.google.com/notebooks/data_table.ipynb>data table notebook</a>'\n",
       "          + ' to learn more about interactive tables.';\n",
       "        element.innerHTML = '';\n",
       "        dataTable['output_type'] = 'display_data';\n",
       "        await google.colab.output.renderOutput(dataTable, element);\n",
       "        const docLink = document.createElement('div');\n",
       "        docLink.innerHTML = docLinkHtml;\n",
       "        element.appendChild(docLink);\n",
       "      }\n",
       "    </script>\n",
       "  </div>\n",
       "\n",
       "\n",
       "    <div id=\"df-ad3a2744-4cb1-4f77-a187-da5c382e13a2\">\n",
       "      <button class=\"colab-df-quickchart\" onclick=\"quickchart('df-ad3a2744-4cb1-4f77-a187-da5c382e13a2')\"\n",
       "                title=\"Suggest charts\"\n",
       "                style=\"display:none;\">\n",
       "\n",
       "<svg xmlns=\"http://www.w3.org/2000/svg\" height=\"24px\"viewBox=\"0 0 24 24\"\n",
       "     width=\"24px\">\n",
       "    <g>\n",
       "        <path d=\"M19 3H5c-1.1 0-2 .9-2 2v14c0 1.1.9 2 2 2h14c1.1 0 2-.9 2-2V5c0-1.1-.9-2-2-2zM9 17H7v-7h2v7zm4 0h-2V7h2v10zm4 0h-2v-4h2v4z\"/>\n",
       "    </g>\n",
       "</svg>\n",
       "      </button>\n",
       "\n",
       "<style>\n",
       "  .colab-df-quickchart {\n",
       "      --bg-color: #E8F0FE;\n",
       "      --fill-color: #1967D2;\n",
       "      --hover-bg-color: #E2EBFA;\n",
       "      --hover-fill-color: #174EA6;\n",
       "      --disabled-fill-color: #AAA;\n",
       "      --disabled-bg-color: #DDD;\n",
       "  }\n",
       "\n",
       "  [theme=dark] .colab-df-quickchart {\n",
       "      --bg-color: #3B4455;\n",
       "      --fill-color: #D2E3FC;\n",
       "      --hover-bg-color: #434B5C;\n",
       "      --hover-fill-color: #FFFFFF;\n",
       "      --disabled-bg-color: #3B4455;\n",
       "      --disabled-fill-color: #666;\n",
       "  }\n",
       "\n",
       "  .colab-df-quickchart {\n",
       "    background-color: var(--bg-color);\n",
       "    border: none;\n",
       "    border-radius: 50%;\n",
       "    cursor: pointer;\n",
       "    display: none;\n",
       "    fill: var(--fill-color);\n",
       "    height: 32px;\n",
       "    padding: 0;\n",
       "    width: 32px;\n",
       "  }\n",
       "\n",
       "  .colab-df-quickchart:hover {\n",
       "    background-color: var(--hover-bg-color);\n",
       "    box-shadow: 0 1px 2px rgba(60, 64, 67, 0.3), 0 1px 3px 1px rgba(60, 64, 67, 0.15);\n",
       "    fill: var(--button-hover-fill-color);\n",
       "  }\n",
       "\n",
       "  .colab-df-quickchart-complete:disabled,\n",
       "  .colab-df-quickchart-complete:disabled:hover {\n",
       "    background-color: var(--disabled-bg-color);\n",
       "    fill: var(--disabled-fill-color);\n",
       "    box-shadow: none;\n",
       "  }\n",
       "\n",
       "  .colab-df-spinner {\n",
       "    border: 2px solid var(--fill-color);\n",
       "    border-color: transparent;\n",
       "    border-bottom-color: var(--fill-color);\n",
       "    animation:\n",
       "      spin 1s steps(1) infinite;\n",
       "  }\n",
       "\n",
       "  @keyframes spin {\n",
       "    0% {\n",
       "      border-color: transparent;\n",
       "      border-bottom-color: var(--fill-color);\n",
       "      border-left-color: var(--fill-color);\n",
       "    }\n",
       "    20% {\n",
       "      border-color: transparent;\n",
       "      border-left-color: var(--fill-color);\n",
       "      border-top-color: var(--fill-color);\n",
       "    }\n",
       "    30% {\n",
       "      border-color: transparent;\n",
       "      border-left-color: var(--fill-color);\n",
       "      border-top-color: var(--fill-color);\n",
       "      border-right-color: var(--fill-color);\n",
       "    }\n",
       "    40% {\n",
       "      border-color: transparent;\n",
       "      border-right-color: var(--fill-color);\n",
       "      border-top-color: var(--fill-color);\n",
       "    }\n",
       "    60% {\n",
       "      border-color: transparent;\n",
       "      border-right-color: var(--fill-color);\n",
       "    }\n",
       "    80% {\n",
       "      border-color: transparent;\n",
       "      border-right-color: var(--fill-color);\n",
       "      border-bottom-color: var(--fill-color);\n",
       "    }\n",
       "    90% {\n",
       "      border-color: transparent;\n",
       "      border-bottom-color: var(--fill-color);\n",
       "    }\n",
       "  }\n",
       "</style>\n",
       "\n",
       "      <script>\n",
       "        async function quickchart(key) {\n",
       "          const quickchartButtonEl =\n",
       "            document.querySelector('#' + key + ' button');\n",
       "          quickchartButtonEl.disabled = true;  // To prevent multiple clicks.\n",
       "          quickchartButtonEl.classList.add('colab-df-spinner');\n",
       "          try {\n",
       "            const charts = await google.colab.kernel.invokeFunction(\n",
       "                'suggestCharts', [key], {});\n",
       "          } catch (error) {\n",
       "            console.error('Error during call to suggestCharts:', error);\n",
       "          }\n",
       "          quickchartButtonEl.classList.remove('colab-df-spinner');\n",
       "          quickchartButtonEl.classList.add('colab-df-quickchart-complete');\n",
       "        }\n",
       "        (() => {\n",
       "          let quickchartButtonEl =\n",
       "            document.querySelector('#df-ad3a2744-4cb1-4f77-a187-da5c382e13a2 button');\n",
       "          quickchartButtonEl.style.display =\n",
       "            google.colab.kernel.accessAllowed ? 'block' : 'none';\n",
       "        })();\n",
       "      </script>\n",
       "    </div>\n",
       "\n",
       "  <div id=\"id_abebb96d-3ebf-47d2-8b7c-159214f290b9\">\n",
       "    <style>\n",
       "      .colab-df-generate {\n",
       "        background-color: #E8F0FE;\n",
       "        border: none;\n",
       "        border-radius: 50%;\n",
       "        cursor: pointer;\n",
       "        display: none;\n",
       "        fill: #1967D2;\n",
       "        height: 32px;\n",
       "        padding: 0 0 0 0;\n",
       "        width: 32px;\n",
       "      }\n",
       "\n",
       "      .colab-df-generate:hover {\n",
       "        background-color: #E2EBFA;\n",
       "        box-shadow: 0px 1px 2px rgba(60, 64, 67, 0.3), 0px 1px 3px 1px rgba(60, 64, 67, 0.15);\n",
       "        fill: #174EA6;\n",
       "      }\n",
       "\n",
       "      [theme=dark] .colab-df-generate {\n",
       "        background-color: #3B4455;\n",
       "        fill: #D2E3FC;\n",
       "      }\n",
       "\n",
       "      [theme=dark] .colab-df-generate:hover {\n",
       "        background-color: #434B5C;\n",
       "        box-shadow: 0px 1px 3px 1px rgba(0, 0, 0, 0.15);\n",
       "        filter: drop-shadow(0px 1px 2px rgba(0, 0, 0, 0.3));\n",
       "        fill: #FFFFFF;\n",
       "      }\n",
       "    </style>\n",
       "    <button class=\"colab-df-generate\" onclick=\"generateWithVariable('submission')\"\n",
       "            title=\"Generate code using this dataframe.\"\n",
       "            style=\"display:none;\">\n",
       "\n",
       "  <svg xmlns=\"http://www.w3.org/2000/svg\" height=\"24px\"viewBox=\"0 0 24 24\"\n",
       "       width=\"24px\">\n",
       "    <path d=\"M7,19H8.4L18.45,9,17,7.55,7,17.6ZM5,21V16.75L18.45,3.32a2,2,0,0,1,2.83,0l1.4,1.43a1.91,1.91,0,0,1,.58,1.4,1.91,1.91,0,0,1-.58,1.4L9.25,21ZM18.45,9,17,7.55Zm-12,3A5.31,5.31,0,0,0,4.9,8.1,5.31,5.31,0,0,0,1,6.5,5.31,5.31,0,0,0,4.9,4.9,5.31,5.31,0,0,0,6.5,1,5.31,5.31,0,0,0,8.1,4.9,5.31,5.31,0,0,0,12,6.5,5.46,5.46,0,0,0,6.5,12Z\"/>\n",
       "  </svg>\n",
       "    </button>\n",
       "    <script>\n",
       "      (() => {\n",
       "      const buttonEl =\n",
       "        document.querySelector('#id_abebb96d-3ebf-47d2-8b7c-159214f290b9 button.colab-df-generate');\n",
       "      buttonEl.style.display =\n",
       "        google.colab.kernel.accessAllowed ? 'block' : 'none';\n",
       "\n",
       "      buttonEl.onclick = () => {\n",
       "        google.colab.notebook.generateWithVariable('submission');\n",
       "      }\n",
       "      })();\n",
       "    </script>\n",
       "  </div>\n",
       "\n",
       "    </div>\n",
       "  </div>\n"
      ],
      "text/plain": [
       "       target\n",
       "idx          \n",
       "t_000       1\n",
       "t_001       2\n",
       "t_002       0\n",
       "t_003       4\n",
       "t_004       4\n",
       "...       ...\n",
       "t_495       2\n",
       "t_496       2\n",
       "t_497       1\n",
       "t_498       0\n",
       "t_499       0\n",
       "\n",
       "[500 rows x 1 columns]"
      ]
     },
     "execution_count": 112,
     "metadata": {},
     "output_type": "execute_result"
    }
   ],
   "source": [
    "submission"
   ]
  },
  {
   "cell_type": "code",
   "execution_count": 113,
   "metadata": {
    "id": "fHKNTwnqg2Uo"
   },
   "outputs": [],
   "source": [
    "model.save_weights('baseline_pretrained_rm.h5')"
   ]
  },
  {
   "cell_type": "code",
   "execution_count": 115,
   "metadata": {
    "id": "SF37fIUHg2X8"
   },
   "outputs": [],
   "source": [
    "# val 예측값 실제값 비교\n",
    "val_df['pred'] = val_df['conversation'].apply(predict)"
   ]
  },
  {
   "cell_type": "code",
   "execution_count": 116,
   "metadata": {
    "id": "Vv1z2V9Dg2ay"
   },
   "outputs": [],
   "source": [
    "val_df.to_csv('baseline_pretrained_rm_729_val.csv')"
   ]
  },
  {
   "cell_type": "code",
   "execution_count": 124,
   "metadata": {
    "id": "fXT-shscEd8V"
   },
   "outputs": [],
   "source": [
    "from sklearn.metrics import confusion_matrix, f1_score\n",
    "cm = confusion_matrix(val_df['class'], val_df['pred'])\n",
    "f1 = f1_score(val_df['class'], val_df['pred'], average='macro')"
   ]
  },
  {
   "cell_type": "code",
   "execution_count": 122,
   "metadata": {
    "colab": {
     "base_uri": "https://localhost:8080/"
    },
    "id": "SLlOZSJAEd_w",
    "outputId": "911b2f44-2fc7-49f1-bcf4-a67fb16b3bed"
   },
   "outputs": [
    {
     "name": "stdout",
     "output_type": "stream",
     "text": [
      "Confusion Matrix:\n",
      "[[150   9   7  12   0]\n",
      " [ 21 159   5   8   2]\n",
      " [  6   2 169  16   1]\n",
      " [ 20  21   8 147   6]\n",
      " [  0   1   1   0 198]]\n"
     ]
    }
   ],
   "source": [
    "print(\"Confusion Matrix:\")\n",
    "print(cm)"
   ]
  },
  {
   "cell_type": "code",
   "execution_count": 125,
   "metadata": {
    "colab": {
     "base_uri": "https://localhost:8080/"
    },
    "id": "x7g4uRZ4EeCz",
    "outputId": "8999e098-7e2d-4113-98ce-8403ebe0638a"
   },
   "outputs": [
    {
     "name": "stdout",
     "output_type": "stream",
     "text": [
      "0.8477046192598519\n"
     ]
    }
   ],
   "source": [
    "print(f1)"
   ]
  },
  {
   "cell_type": "code",
   "execution_count": null,
   "metadata": {
    "id": "oXiwicV4EeF_"
   },
   "outputs": [],
   "source": [
    "# submission에서는 4를 못 맞추는데 validation의 4는 잘 맞춤\n",
    "\n"
   ]
  },
  {
   "cell_type": "code",
   "execution_count": null,
   "metadata": {
    "id": "T9N15N0yEeI4"
   },
   "outputs": [],
   "source": [
    "# validation에서는 3을 잘 못 맞춤\n",
    "\n"
   ]
  },
  {
   "cell_type": "code",
   "execution_count": null,
   "metadata": {
    "id": "o0nN8RD0EeMV"
   },
   "outputs": [],
   "source": []
  },
  {
   "cell_type": "code",
   "execution_count": null,
   "metadata": {
    "id": "eT47vSBFg2dw"
   },
   "outputs": [],
   "source": []
  },
  {
   "cell_type": "code",
   "execution_count": null,
   "metadata": {
    "id": "FVe31Xp0dLPe"
   },
   "outputs": [],
   "source": []
  }
 ],
 "metadata": {
  "accelerator": "GPU",
  "colab": {
   "gpuType": "T4",
   "provenance": []
  },
  "kernelspec": {
   "display_name": "Python 3",
   "name": "python3"
  },
  "language_info": {
   "name": "python"
  }
 },
 "nbformat": 4,
 "nbformat_minor": 0
}
