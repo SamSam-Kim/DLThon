{
 "cells": [
  {
   "cell_type": "code",
   "execution_count": 1,
   "id": "3e50399d",
   "metadata": {},
   "outputs": [],
   "source": [
    "import tensorflow as tf\n",
    "import tensorflow_datasets as tfds\n",
    "import os\n",
    "import re\n",
    "import numpy as np\n",
    "import pandas as pd\n",
    "import matplotlib.pyplot as plt\n",
    "import json\n",
    "from transformers import TFBertModel, BertConfig, AutoTokenizer, TFBertForSequenceClassification\n",
    "from sklearn.model_selection import train_test_split\n",
    "from tensorflow import keras\n",
    "from tensorflow.keras.models import Model\n",
    "from tensorflow.keras.layers import Input, Dense, Dropout"
   ]
  },
  {
   "cell_type": "code",
   "execution_count": 2,
   "id": "c44e08be",
   "metadata": {
    "scrolled": true
   },
   "outputs": [
    {
     "name": "stdout",
     "output_type": "stream",
     "text": [
      "Num GPUs Available: 0\n",
      "GPU Details: []\n"
     ]
    }
   ],
   "source": [
    "# 사용 가능한 GPU 목록 확인\n",
    "gpus = tf.config.list_physical_devices('GPU')\n",
    "print(\"Num GPUs Available:\", len(gpus))\n",
    "print(\"GPU Details:\", gpus)"
   ]
  },
  {
   "cell_type": "markdown",
   "id": "b065a610",
   "metadata": {},
   "source": [
    "### 데이터 전처리"
   ]
  },
  {
   "cell_type": "code",
   "execution_count": 13,
   "id": "ee812376",
   "metadata": {},
   "outputs": [],
   "source": [
    "train_df = pd.read_csv('../data/train.csv', index_col=0) # 캐글 데이터\n",
    "gen_df = pd.read_csv('../data/gen_data_final998.csv', index_col=0) # 합성데이터\n",
    "class_dict = {'협박 대화': 0, '갈취 대화':1, '직장 내 괴롭힘 대화':2, '기타 괴롭힘 대화':3, '일반 대화':4}"
   ]
  },
  {
   "cell_type": "code",
   "execution_count": 14,
   "id": "212890e4",
   "metadata": {},
   "outputs": [],
   "source": [
    "gen_df['topic'] = '일반 대화'\n",
    "gen_df = gen_df.rename(columns={'topic':'class'})"
   ]
  },
  {
   "cell_type": "code",
   "execution_count": 15,
   "id": "a0d177df",
   "metadata": {},
   "outputs": [],
   "source": [
    "data_df = pd.concat([train_df, gen_df], ignore_index=True)"
   ]
  },
  {
   "cell_type": "code",
   "execution_count": 16,
   "id": "226859b7",
   "metadata": {},
   "outputs": [],
   "source": [
    "data_df['class'] = data_df['class'].apply(lambda x: class_dict[x])"
   ]
  },
  {
   "cell_type": "code",
   "execution_count": 17,
   "id": "448cbdae",
   "metadata": {},
   "outputs": [
    {
     "data": {
      "text/plain": [
       "223"
      ]
     },
     "execution_count": 17,
     "metadata": {},
     "output_type": "execute_result"
    }
   ],
   "source": [
    "# train 데이터의 최대 길이를 구함\n",
    "data_len = [len(x.split()) for x in data_df['conversation']]\n",
    "MAX_LEN = max(data_len)\n",
    "MAX_LEN"
   ]
  },
  {
   "cell_type": "code",
   "execution_count": 18,
   "id": "f4f777ec",
   "metadata": {},
   "outputs": [
    {
     "data": {
      "text/plain": [
       "(4948, 4948)"
      ]
     },
     "execution_count": 18,
     "metadata": {},
     "output_type": "execute_result"
    }
   ],
   "source": [
    "labels = list(data_df['class'])\n",
    "len(data_df['conversation']), len(labels) # 대화 , labels 갯수 확인"
   ]
  },
  {
   "cell_type": "code",
   "execution_count": 19,
   "id": "bb92381d",
   "metadata": {},
   "outputs": [
    {
     "data": {
      "text/plain": [
       "array([0, 1, 2, 3, 4])"
      ]
     },
     "execution_count": 19,
     "metadata": {},
     "output_type": "execute_result"
    }
   ],
   "source": [
    "np.unique(labels)"
   ]
  },
  {
   "cell_type": "code",
   "execution_count": 20,
   "id": "3ea9e0f2",
   "metadata": {},
   "outputs": [],
   "source": [
    "num_classes = len(np.unique(labels))"
   ]
  },
  {
   "cell_type": "code",
   "execution_count": 21,
   "id": "38f9a3e4",
   "metadata": {},
   "outputs": [],
   "source": [
    "model_name = \"klue/bert-base\""
   ]
  },
  {
   "cell_type": "code",
   "execution_count": 22,
   "id": "d368d43c",
   "metadata": {},
   "outputs": [],
   "source": [
    "tokenizer = AutoTokenizer.from_pretrained(model_name)"
   ]
  },
  {
   "cell_type": "code",
   "execution_count": null,
   "id": "3850e092",
   "metadata": {},
   "outputs": [],
   "source": [
    "token_data = tokenizer(\n",
    "    list(data_df['conversation']),\n",
    "    padding='max_length', # 자동으로 최대 길이로 패딩해줌\n",
    "    truncation=True, # 모델이 감당 가능한 최대 길이 초과하면 자름\n",
    "    return_tensors='np'\n",
    ")"
   ]
  },
  {
   "cell_type": "code",
   "execution_count": 15,
   "id": "82faa23b",
   "metadata": {},
   "outputs": [
    {
     "name": "stdout",
     "output_type": "stream",
     "text": [
      "토크나이저 후 데이터 내 최대 시퀀스 길이: 512\n"
     ]
    }
   ],
   "source": [
    "lengths = [len(seq) for seq in token_data['input_ids']]\n",
    "print(f\"토크나이저 후 데이터 내 최대 시퀀스 길이: {max(lengths)}\")"
   ]
  },
  {
   "cell_type": "markdown",
   "id": "2e3f0330",
   "metadata": {},
   "source": [
    "### 모델"
   ]
  },
  {
   "cell_type": "code",
   "execution_count": 16,
   "id": "572fcb40",
   "metadata": {},
   "outputs": [],
   "source": [
    "num_samples = len(data_df) # 전체 샘플 갯수\n",
    "indices = np.arange(num_samples) # 인덱스 생성\n",
    "\n",
    "train_indices, val_indices = train_test_split( # 인덱스를 8대2로 나눔\n",
    "    indices,\n",
    "    test_size=0.2,\n",
    "    random_state=42,\n",
    "    stratify=labels # stratify에는 target값으로 class 비율 일정하게 셔플\n",
    ")"
   ]
  },
  {
   "cell_type": "code",
   "execution_count": 17,
   "id": "a12df89d",
   "metadata": {},
   "outputs": [],
   "source": [
    "train_inputs = {key: tf.gather(train, train_indices) for key, train in token_data.items()}\n",
    "val_inputs = {key: tf.gather(val, val_indices) for key, val in token_data.items()}\n",
    "\n",
    "# 레이블도 동일한 인덱스로 선택\n",
    "train_labels = tf.gather(labels, train_indices)\n",
    "val_labels = tf.gather(labels, val_indices)\n",
    "\n",
    "train_dataset = tf.data.Dataset.from_tensor_slices((train_inputs, train_labels))\n",
    "train_dataset = train_dataset.shuffle(buffer_size=10000).batch(8) # 셔플 및 배치\n",
    "\n",
    "# 예시: 검증 데이터셋 생성\n",
    "val_dataset = tf.data.Dataset.from_tensor_slices((val_inputs, val_labels))\n",
    "val_dataset = val_dataset.batch(8) # 검증 데이터는 보통 셔플하지 않음"
   ]
  },
  {
   "cell_type": "code",
   "execution_count": 18,
   "id": "ca8d1d23",
   "metadata": {},
   "outputs": [
    {
     "name": "stdout",
     "output_type": "stream",
     "text": [
      "({'input_ids': <tf.Tensor: shape=(8, 512), dtype=int64, numpy=\n",
      "array([[    2,  5680,  2098, ...,     0,     0,     0],\n",
      "       [    2,  3776,  1513, ...,     0,     0,     0],\n",
      "       [    2, 16094,  2065, ...,     0,     0,     0],\n",
      "       ...,\n",
      "       [    2,   743,   732, ...,     0,     0,     0],\n",
      "       [    2,  4442,   743, ...,     0,     0,     0],\n",
      "       [    2,  1396,  1558, ...,     0,     0,     0]])>, 'token_type_ids': <tf.Tensor: shape=(8, 512), dtype=int64, numpy=\n",
      "array([[0, 0, 0, ..., 0, 0, 0],\n",
      "       [0, 0, 0, ..., 0, 0, 0],\n",
      "       [0, 0, 0, ..., 0, 0, 0],\n",
      "       ...,\n",
      "       [0, 0, 0, ..., 0, 0, 0],\n",
      "       [0, 0, 0, ..., 0, 0, 0],\n",
      "       [0, 0, 0, ..., 0, 0, 0]])>, 'attention_mask': <tf.Tensor: shape=(8, 512), dtype=int64, numpy=\n",
      "array([[1, 1, 1, ..., 0, 0, 0],\n",
      "       [1, 1, 1, ..., 0, 0, 0],\n",
      "       [1, 1, 1, ..., 0, 0, 0],\n",
      "       ...,\n",
      "       [1, 1, 1, ..., 0, 0, 0],\n",
      "       [1, 1, 1, ..., 0, 0, 0],\n",
      "       [1, 1, 1, ..., 0, 0, 0]])>}, <tf.Tensor: shape=(8,), dtype=int32, numpy=array([2, 3, 4, 4, 2, 0, 0, 2], dtype=int32)>)\n"
     ]
    }
   ],
   "source": [
    "for i in train_dataset:\n",
    "    print(i)\n",
    "    break"
   ]
  },
  {
   "cell_type": "code",
   "execution_count": 19,
   "id": "586da931",
   "metadata": {},
   "outputs": [
    {
     "name": "stderr",
     "output_type": "stream",
     "text": [
      "Some weights of the PyTorch model were not used when initializing the TF 2.0 model TFBertForSequenceClassification: ['bert.embeddings.position_ids']\n",
      "- This IS expected if you are initializing TFBertForSequenceClassification from a PyTorch model trained on another task or with another architecture (e.g. initializing a TFBertForSequenceClassification model from a BertForPreTraining model).\n",
      "- This IS NOT expected if you are initializing TFBertForSequenceClassification from a PyTorch model that you expect to be exactly identical (e.g. initializing a TFBertForSequenceClassification model from a BertForSequenceClassification model).\n",
      "Some weights or buffers of the TF 2.0 model TFBertForSequenceClassification were not initialized from the PyTorch model and are newly initialized: ['classifier.weight', 'classifier.bias']\n",
      "You should probably TRAIN this model on a down-stream task to be able to use it for predictions and inference.\n"
     ]
    }
   ],
   "source": [
    "# 사전학습된 klue 모델 불러오기\n",
    "model = TFBertForSequenceClassification.from_pretrained(model_name, num_labels=num_classes, from_pt=True)"
   ]
  },
  {
   "cell_type": "code",
   "execution_count": 20,
   "id": "e5955228",
   "metadata": {},
   "outputs": [
    {
     "data": {
      "text/plain": [
       "TFSequenceClassifierOutput(loss=None, logits=<tf.Tensor: shape=(1, 5), dtype=float32, numpy=\n",
       "array([[ 0.25585747, -0.04101317,  0.2202857 , -0.03755243, -0.08563735]],\n",
       "      dtype=float32)>, hidden_states=None, attentions=None)"
      ]
     },
     "execution_count": 20,
     "metadata": {},
     "output_type": "execute_result"
    }
   ],
   "source": [
    "# 더미 입력으로 모델 동작하는지 빌드\n",
    "dummy_input = tokenizer(\n",
    "    [\"더미 텍스트\"],\n",
    "    padding='max_length', \n",
    "    truncation=True, \n",
    "    return_tensors='tf'\n",
    ")\n",
    "model(dummy_input)"
   ]
  },
  {
   "cell_type": "code",
   "execution_count": 21,
   "id": "62e66c03",
   "metadata": {},
   "outputs": [],
   "source": [
    "model.bert.trainable = False\n",
    "model.classifier.trainable = True"
   ]
  },
  {
   "cell_type": "code",
   "execution_count": 22,
   "id": "085cdeaa",
   "metadata": {},
   "outputs": [
    {
     "name": "stdout",
     "output_type": "stream",
     "text": [
      "Layer bert is trainable: False\n",
      "Layer dropout_37 is trainable: True\n",
      "Layer classifier is trainable: True\n"
     ]
    }
   ],
   "source": [
    "for layer in model.layers:\n",
    "    print(f\"Layer {layer.name} is trainable: {layer.trainable}\")"
   ]
  },
  {
   "cell_type": "code",
   "execution_count": 23,
   "id": "a220b973",
   "metadata": {},
   "outputs": [
    {
     "name": "stdout",
     "output_type": "stream",
     "text": [
      "Model: \"tf_bert_for_sequence_classification\"\n",
      "_________________________________________________________________\n",
      "Layer (type)                 Output Shape              Param #   \n",
      "=================================================================\n",
      "bert (TFBertMainLayer)       multiple                  110617344 \n",
      "_________________________________________________________________\n",
      "dropout_37 (Dropout)         multiple                  0         \n",
      "_________________________________________________________________\n",
      "classifier (Dense)           multiple                  3845      \n",
      "=================================================================\n",
      "Total params: 110,621,189\n",
      "Trainable params: 3,845\n",
      "Non-trainable params: 110,617,344\n",
      "_________________________________________________________________\n"
     ]
    }
   ],
   "source": [
    "model.summary()"
   ]
  },
  {
   "cell_type": "code",
   "execution_count": 24,
   "id": "02c18afb",
   "metadata": {},
   "outputs": [
    {
     "name": "stdout",
     "output_type": "stream",
     "text": [
      "Layer bert is trainable: False\n",
      "Layer dropout_37 is trainable: True\n",
      "Layer classifier is trainable: True\n"
     ]
    }
   ],
   "source": [
    "# bert 층 동결하고 classifier 부분만 사용\n",
    "for layer in model.layers:\n",
    "    print(f\"Layer {layer.name} is trainable: {layer.trainable}\")"
   ]
  },
  {
   "cell_type": "code",
   "execution_count": 28,
   "id": "63ae33ea",
   "metadata": {},
   "outputs": [],
   "source": [
    "optimizer = keras.optimizers.Adam(learning_rate=5e-5)\n",
    "loss = tf.keras.losses.SparseCategoricalCrossentropy(from_logits=True)\n",
    "# 10. 모델 컴파일\n",
    "model.compile(optimizer=optimizer, loss=loss, metrics=['accuracy'])"
   ]
  },
  {
   "cell_type": "code",
   "execution_count": 29,
   "id": "1f25c236",
   "metadata": {},
   "outputs": [],
   "source": [
    "early_stopping_cb = keras.callbacks.EarlyStopping(\n",
    "    monitor='val_loss',\n",
    "    restore_best_weights=True,\n",
    "    patience=2)\n",
    "\n",
    "# ModelCheckpoint 콜백 수정\n",
    "model_checkpoint_cb = keras.callbacks.ModelCheckpoint(\n",
    "    filepath='klue_weight.h5', \n",
    "    monitor='val_loss',\n",
    "    save_best_only=True,\n",
    "    save_weights_only=False,\n",
    "    verbose=1\n",
    ")"
   ]
  },
  {
   "cell_type": "code",
   "execution_count": 30,
   "id": "03e9b0e4",
   "metadata": {},
   "outputs": [],
   "source": [
    "NUM_EPOCHS = 50"
   ]
  },
  {
   "cell_type": "code",
   "execution_count": null,
   "id": "32215a13",
   "metadata": {},
   "outputs": [
    {
     "name": "stdout",
     "output_type": "stream",
     "text": [
      "Epoch 1/50\n",
      " 14/495 [..............................] - ETA: 2:36:07 - loss: 1.6468 - accuracy: 0.2500"
     ]
    }
   ],
   "source": [
    "model.fit(\n",
    "    train_dataset,\n",
    "    validation_data=val_dataset,\n",
    "    epochs=NUM_EPOCHS,\n",
    "    verbose=1,\n",
    "    callbacks=[early_stopping_cb]\n",
    "    # callbacks=[early_stopping_cb, model_checkpoint_cb]\n",
    ")"
   ]
  },
  {
   "cell_type": "code",
   "execution_count": null,
   "id": "8946dbd8",
   "metadata": {},
   "outputs": [],
   "source": [
    "def predict(text):\n",
    "    inputs = tokenizer(text, return_tensors='tf', padding='max_length', truncation=True)\n",
    "    logits = model(inputs).logits\n",
    "    return int(tf.argmax(logits, axis=1).numpy()[0])"
   ]
  },
  {
   "cell_type": "code",
   "execution_count": null,
   "id": "5e476da7",
   "metadata": {},
   "outputs": [],
   "source": [
    "test_df = pd.read_csv('../data/test.csv', index_col=0)\n",
    "submission = pd.read_csv('../data/submission.csv', index_col=0)"
   ]
  },
  {
   "cell_type": "code",
   "execution_count": null,
   "id": "194c3781",
   "metadata": {},
   "outputs": [],
   "source": [
    "submission['target'] = test_df['text'].apply(predict)"
   ]
  },
  {
   "cell_type": "code",
   "execution_count": null,
   "id": "4a0f81a9",
   "metadata": {},
   "outputs": [],
   "source": [
    "submission.to_csv('bert_klue_sub.csv')"
   ]
  },
  {
   "cell_type": "code",
   "execution_count": null,
   "id": "899e725d",
   "metadata": {},
   "outputs": [],
   "source": []
  },
  {
   "cell_type": "code",
   "execution_count": null,
   "id": "484379c0",
   "metadata": {},
   "outputs": [],
   "source": []
  }
 ],
 "metadata": {
  "kernelspec": {
   "display_name": "Python 3 (ipykernel)",
   "language": "python",
   "name": "python3"
  },
  "language_info": {
   "codemirror_mode": {
    "name": "ipython",
    "version": 3
   },
   "file_extension": ".py",
   "mimetype": "text/x-python",
   "name": "python",
   "nbconvert_exporter": "python",
   "pygments_lexer": "ipython3",
   "version": "3.9.7"
  }
 },
 "nbformat": 4,
 "nbformat_minor": 5
}
