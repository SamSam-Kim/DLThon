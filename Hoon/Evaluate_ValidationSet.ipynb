{
 "cells": [
  {
   "cell_type": "code",
   "execution_count": 2,
   "id": "966cceb0",
   "metadata": {},
   "outputs": [],
   "source": [
    "import pandas as pd\n",
    "import matplotlib.pyplot as plt\n",
    "import seaborn as sns\n",
    "from sklearn.metrics import confusion_matrix\n",
    "from sklearn.metrics import classification_report"
   ]
  },
  {
   "cell_type": "code",
   "execution_count": 15,
   "id": "038f3a26",
   "metadata": {},
   "outputs": [],
   "source": [
    "class_names = {0:\"협박\", 1:\"갈취\", 2:\"직장 내 괴롭힘\", 3:\"기타 괴롭힘\", 4:\"일반\"}"
   ]
  },
  {
   "cell_type": "code",
   "execution_count": 61,
   "id": "aa43e575",
   "metadata": {},
   "outputs": [],
   "source": [
    "def get_report(result):\n",
    "    y_true = result[\"class\"]\n",
    "    y_pred = result[\"prediction\"]\n",
    "    \n",
    "    # Confusion Matrix 생성 및 시각화\n",
    "    cm = confusion_matrix(y_true, y_pred)\n",
    "    class_names = ['0', '1', '2', '3', '4']\n",
    "\n",
    "    plt.figure(figsize=(8, 8))\n",
    "    sns.heatmap(cm, annot=True, fmt='d', cmap='Blues',\n",
    "                xticklabels=class_names, yticklabels=class_names)\n",
    "    plt.xlabel('Predicted Label')\n",
    "    plt.ylabel('True Label')\n",
    "    plt.title('Confusion Matrix')\n",
    "    plt.show()\n",
    "\n",
    "    print(\"\\nClassification Report:\")\n",
    "    print(classification_report(y_true, y_pred, target_names=class_names))"
   ]
  },
  {
   "cell_type": "code",
   "execution_count": 65,
   "id": "f445001c",
   "metadata": {},
   "outputs": [],
   "source": [
    "def show_FN(result, idx):\n",
    "    class_dict = {0:\"협박\", 1:\"갈취\", 2:\"직장 내 괴롭힘\", 3:\"기타 괴롭힘\", 4:\"일반\"}\n",
    "    \n",
    "    truth = result[result['class']==idx]\n",
    "    fn = truth[truth['prediction']!=idx]\n",
    "    \n",
    "    print(\"=\"*50)\n",
    "    for i in fn.values:\n",
    "        print(i[1])\n",
    "        print(f\"실제값: {class_dict[idx]} \\t예측값: {class_dict[i[2]]}\")\n",
    "        print(\"=\"*50)"
   ]
  },
  {
   "cell_type": "code",
   "execution_count": 62,
   "id": "ed01670a",
   "metadata": {},
   "outputs": [
    {
     "data": {
      "image/png": "[encoded data removed]",
      "text/plain": [
       "<Figure size 576x576 with 2 Axes>"
      ]
     },
     "metadata": {
      "needs_background": "light"
     },
     "output_type": "display_data"
    },
    {
     "name": "stdout",
     "output_type": "stream",
     "text": [
      "\n",
      "Classification Report:\n",
      "              precision    recall  f1-score   support\n",
      "\n",
      "           0       0.77      0.74      0.76       178\n",
      "           1       0.85      0.76      0.80       195\n",
      "           2       0.84      0.88      0.86       194\n",
      "           3       0.72      0.76      0.74       202\n",
      "           4       0.95      0.98      0.97       200\n",
      "\n",
      "    accuracy                           0.83       969\n",
      "   macro avg       0.83      0.82      0.82       969\n",
      "weighted avg       0.83      0.83      0.83       969\n",
      "\n"
     ]
    }
   ],
   "source": [
    "result = pd.read_csv('./validation_results/validation_result.csv')\n",
    "get_report(result)"
   ]
  },
  {
   "cell_type": "code",
   "execution_count": 66,
   "id": "5408e111",
   "metadata": {},
   "outputs": [
    {
     "name": "stdout",
     "output_type": "stream",
     "text": [
      "==================================================\n",
      "김 대리 이 서류 좀 봐줄 수 있나? 내 혼자서는 잘 모르겠다.\n",
      "함 보자. 어디가 헷갈리는데? 아~ 이거 말이가?\n",
      "어. 이 부분 계산이 맞는지 모르겠다. 단디 좀 봐도.\n",
      "알았다. 잠만. 어 이거 계산 틀렸네. 다시 해야겠다.\n",
      "맞나? 아이고 고맙다. 내 했으면 큰일 날 뻔했네.\n",
      "천만에. 모르는 거 있으면 또 물어봐라.\n",
      "실제값: 일반 \t예측값: 갈취\n",
      "==================================================\n",
      "아따 그거 있잖애. 어제 빌려 간 거시기 좀 갖다 주라.\n",
      "거시기? 아~ 그 빨간 통 말이요? 알았어라. 지금 갖다 줄게잉.\n",
      "아니 그거 말고. 그 옆에 있던 거시기 말이여. 네모난 거.\n",
      "네모난 거? 아따 뭔 거시기인지 당최 모르겄네.\n",
      "허 참 답답하네잉. 리모컨 말이여 리모컨!\n",
      "오메! 진작 말을 하지 그랬소. 알았어라. 금방 가꼬 갈게.\n",
      "실제값: 일반 \t예측값: 갈취\n",
      "==================================================\n",
      "안녕하세요 XX경찰서 OOO입니다. 지난번 사건 관련해서 참고인으로 몇 가지 여쭤볼 게 있어서요.\n",
      "아 네... 근데 저 바쁜데요. 꼭 지금 해야 돼요?\n",
      "혹시 언제 시간 괜찮으신가요? 잠깐이면 됩니다.\n",
      "글쎄요... 제가 뭘 안다고 자꾸 그러세요. 본 거 별로 없어요.\n",
      "네 그래도 수사에 도움이 될 수 있으니 잠시만 협조해주시면 감사하겠습니다. 5분 정도면 됩니다.\n",
      "아... 네 그럼 빨리 물어보세요. 근데 진짜 별거 없어요.\n",
      "네 감사합니다. 우선...\n",
      "실제값: 일반 \t예측값: 직장 내 괴롭힘\n",
      "==================================================\n",
      "이 늦은 시간에 전화벨 울리니까 심장이 덜컥하네요. 혹시 팀장님 전화인가?\n",
      "어... 그러게요. 받아보세요.\n",
      "여보세요... 아 팀장님... 네... 아직 회사입니다... 네... 알겠습니다...\n",
      "무슨 일이래요? 또 수정 사항이라도...?\n",
      "네... 아주 어려운 수정 사항이라고 하시네요... 하...\n",
      "아이고... 정말 힘드시겠어요ㅠㅠ 조금만 더 힘내세요!\n",
      "네... 뭐 어쩌겠어요... 해야죠...\n",
      "실제값: 일반 \t예측값: 직장 내 괴롭힘\n",
      "==================================================\n"
     ]
    }
   ],
   "source": [
    "show_FN(result, 4)"
   ]
  },
  {
   "cell_type": "code",
   "execution_count": 68,
   "id": "1ba9ec89",
   "metadata": {},
   "outputs": [
    {
     "data": {
      "image/png": "[encoded data removed]",
      "text/plain": [
       "<Figure size 576x576 with 2 Axes>"
      ]
     },
     "metadata": {
      "needs_background": "light"
     },
     "output_type": "display_data"
    },
    {
     "name": "stdout",
     "output_type": "stream",
     "text": [
      "\n",
      "Classification Report:\n",
      "              precision    recall  f1-score   support\n",
      "\n",
      "           0       0.92      0.87      0.89       178\n",
      "           1       0.91      0.85      0.88       195\n",
      "           2       0.97      0.96      0.97       194\n",
      "           3       0.83      0.95      0.88       202\n",
      "           4       1.00      0.97      0.99       200\n",
      "\n",
      "    accuracy                           0.92       969\n",
      "   macro avg       0.93      0.92      0.92       969\n",
      "weighted avg       0.93      0.92      0.92       969\n",
      "\n"
     ]
    }
   ],
   "source": [
    "result = pd.read_csv('./validation_results/bert_klue_alllayer_rm_val.csv')\n",
    "get_report(result)"
   ]
  },
  {
   "cell_type": "code",
   "execution_count": 69,
   "id": "f7eabc64",
   "metadata": {},
   "outputs": [
    {
     "name": "stdout",
     "output_type": "stream",
     "text": [
      "==================================================\n",
      "김 대리 이 서류 좀 봐줄 수 있나? 내 혼자서는 잘 모르겠다. 함 보자. 어디가 헷갈리는데? 아~ 이거 말이가? 어. 이 부분 계산이 맞는지 모르겠다. 단디 좀 봐도. 알았다. 잠만. 어 이거 계산 틀렸네. 다시 해야겠다. 맞나? 아이고 고맙다. 내 했으면 큰일 날 뻔했네. 천만에. 모르는 거 있으면 또 물어봐라.\n",
      "실제값: 일반 \t예측값: 직장 내 괴롭힘\n",
      "==================================================\n",
      "너 진짜 맨날 나한테 뭐라 하지 않으면 못 살아? 그게 다 너 잘 되라고 하는 말이야. 그건 잔소리도 아니고 그냥 비하야. 예민하게 굴지 마. 아니 넌 날 한 번도 있는 그대로 인정해준 적이 없어.\n",
      "실제값: 일반 \t예측값: 기타 괴롭힘\n",
      "==================================================\n",
      "너 왜 그런 걸 나한텐 말 안 했어 말하면 실망할까 봐 그건 내가 결정할 문제잖아 네가 날 못 믿은 거잖아 아니 내가 나 자신을 못 믿었어 그럼 우리 관계엔 신뢰가 없다는 거네\n",
      "실제값: 일반 \t예측값: 기타 괴롭힘\n",
      "==================================================\n",
      "이 서류 유효기간은 얼마나 돼요? 또 떼러 오기 싫은데. 보통 제출처에서 3개월 이내 발급 서류를 요구합니다. 법적으로 딱 정해진 건 없고요? 왜 맨날 말이 달라요? 법적 유효기간은 명시되어 있지 않지만 관행적으로 그렇습니다. 제출처에 확인하시는 게 가장 정확합니다. 확인하라는 말밖에 못 해요? 그냥 대충 알려주면 되지. 저희가 임의로 말씀드리긴 어렵습니다. 죄송합니다. 네 알겠습니다. 그럼.\n",
      "실제값: 일반 \t예측값: 갈취\n",
      "==================================================\n",
      "저기요 제 번호 언제 불러요? 30분 넘게 기다렸는데. 죄송합니다. 오늘 민원인이 많아서 처리가 조금 지연되고 있습니다. 앞에 몇 명이나 남았어요? 점심시간 걸리는 거 아니죠? 정확히 말씀드리긴 어렵지만 최대한 빨리 진행하겠습니다. 조금만 더 기다려주세요. 아 진짜 너무 오래 걸리는 거 아니에요? 빨리 좀 처리해줘요. 네 서둘러 처리해 드리겠습니다. 죄송합니다.\n",
      "실제값: 일반 \t예측값: 기타 괴롭힘\n",
      "==================================================\n"
     ]
    }
   ],
   "source": [
    "show_FN(result, 4)"
   ]
  },
  {
   "cell_type": "code",
   "execution_count": 70,
   "id": "998e13dc",
   "metadata": {},
   "outputs": [
    {
     "name": "stdout",
     "output_type": "stream",
     "text": [
      "==================================================\n",
      "죄송하지만 부탁인데 마스크좀 써주세요 니가 뭔데 마스크 쓰라 말아야 공공장소에서 마스크도 안쓰시는데 본인때문에 다른 사람들 코로나 감염이라도 되면 배상하실겁니까 내가 왜 배상해야하는데 마스크쓰는거 답답해서 못쓰겠다 마스크 쓰지 않으시면 신고하겠습니다 뭐 신고? 신고해봐 신고하면 가만히 안둘꺼야 마스크 쓰기를 거부하시니 신고하겠습니다 신고해봐 어자피 벌금몇푼내면 끝이야 신고할테면 신고해봐 좋은말로 알때 마스크 써주세요 싫은데 내가 왜써야되냐 신고할거면 빨리신고해 뜸들이지 말고\n",
      "실제값: 기타 괴롭힘 \t예측값: 갈취\n",
      "==================================================\n",
      "여보 생활비좀 주세요 아니 이놈의 마누라는 허구한날 입만 열면 돈타령이야 애들 학원비며. 괜히 애들 핑계 대지마! 제가 입고 쓰는건 없어요. 거짓말마 아주 뱃살이 출렁출렁 여보. 그러지 말고 생활비좀 주세요 못줘! 뱃살 쳐지는 거 더이상 보기 싫어서라도 못줘 정말 제가 먹고 쓰는건 없어요. 믿어주세요. 저리가 이 여편네야 정떨어져\n",
      "실제값: 기타 괴롭힘 \t예측값: 갈취\n",
      "==================================================\n",
      "근데 너 아빠랑 왜 그렇게 얼굴이 달라? 아 우리 엄마랑 아빠가 이혼하셔서 엄마가 다른 아버지랑 재혼하셔서 그래. 와 설마 요즘 드라마에 자주 나오는 불륜? 그런거 아니야. 그냥 마음이 안 맞아서 이혼하신거야. 그건 너가 잘 몰라서 그래. 누가 더 바람끼가 가득했어? 엄마? 아빠? 그런거 아니라니까 너 너무 무례하다. 다른 얘기하자. 아 왜 재미있는데. 아니 누가 바람핀거야. 세상에 마음 안 맞아서 이혼하는 부부가 어디있어. 너네 엄마 벌서 재혼한거 보면 너네 엄마가 바람폈나보다. 그런거 아니라니까? 그런거라면 아빠가 내 연락도 안 받겠지 우리 연락 잘 하고 살아. 야 나한테만 얘기해주라 진짜 궁금하다. 왜 누가 더 위자료 많이냈어? 합의이혼이야? 설마. 너 동생 생긴거 아니지.? 하 진짜 말 개 너무하네. 니 멋대로 판단하지 말라고 동생 생겼으면 말해라 과자 하나라도 사줄게 그러면 음 아빠다른 동생인가.\n",
      "실제값: 기타 괴롭힘 \t예측값: 갈취\n",
      "==================================================\n",
      "오 신발샀냐? 응. 전에 신던게 다 헤져서.부모님이 사주셨어. 니네 집 꽤 사나보다? 이런 신발도 잘 사주시고? 응.? 그런건 아닌데.그래도 신발은 오래 신는 거라고. 잠깐 벗어봐. 나 한 번만 신어보자. 어.돌려줄거지.? 아 장난치냐 내가 그럼 니가 신 던거 가져갈까봐 그래? 빨리 내놔보라고. 잠깐만이야. 와 이거 딱 내 신발이네. 야 나 이거 몇일만 빌려주라 내가 신으니까 니가 신을 때보다 더 간지나잖아. 고맙다 잘 신을게 돌려줘.! 정말 안돼.저번에도 너가 빌려갔다가.다 헤져서 산 거란 말이야.\n",
      "실제값: 기타 괴롭힘 \t예측값: 갈취\n",
      "==================================================\n",
      "얘들아  왜?  길동  00 진짜 재수 없지 않아? 개짜증나  걔 존나 구림    아 걔 얼굴 존나 때리고 싶다 토쏠림  아 개웃겨  아 뭐야 00도 있었네 몰랐다 미안 우리끼리 이야기하게 나가주라 존나 빻은 게 얼굴 보면 존나 때리고 싶어  미안해 내가 잘못했어  머래 그냥 꺼지라고   아짜증나 패고싶어  내말이  00아 그냥 죽기 싫으면 가만히 짜져 살아 씨발 아가리를 찢어버리고 싶네    그냥 염산 뿌려서 얼굴 형체도 모르게 만들고 싶다\n",
      "실제값: 기타 괴롭힘 \t예측값: 협박\n",
      "==================================================\n",
      "너 나랑 헤어지면 이거 니 주변 사람들한테 다 돌린다 이게 뭐야? 이게 뭐긴 우리 사랑의 증거지 이런걸 언제 찍은거야? 그게 중요해? 동의 없이 찍으면 범죄야 왜 그래 우리 좋았던 시간을 남긴건데 이러지말자 우리 깨끗하게 정리하자 나는 깨끗하게 정리가 안되는데 헤어지는 순간 나 이거 너네 부모님 동생 직장 사람들한테 다 뿌릴거야 좋은 구경 시켜주겠네? 제발 그러지마.\n",
      "실제값: 기타 괴롭힘 \t예측값: 협박\n",
      "==================================================\n",
      "지우야 너 카톡계정 있지? 그것좀 빌려주라. 네 근데 왜요? 내가 계정이 정지됐는데 비밀번호를 까먹었어 그거 비번 재설정하면 되지 않아요? 아 내가 몰라서 묻는거 같아? 여러번 했는데 안되서 너한테 물어보는거잖아. 다른애들한테 부탁하면 안될까요? 너 안빌려주면 죽는다. 제발요 너 형이 잘해주니까 무시하냐? 야이 네\n",
      "실제값: 기타 괴롭힘 \t예측값: 갈취\n",
      "==================================================\n",
      "똑바로 서! 최일병! 일병 최치수! 야 너는 너무 고릴라처럼 생겼어 죄송합니다! 너는 고릴라처럼 생겨서 에미도 고릴라 같을 거야  하. 하? 야 개새끼야 너 지금? 한숨? 부모님 욕은 하지 말아주십시오 느검마 고릴라다 이 새끼야 뒤지게 맞아야겠다 고릴라새끼 으악 때리지 마세요!\n",
      "실제값: 기타 괴롭힘 \t예측값: 직장 내 괴롭힘\n",
      "==================================================\n",
      "선생님 제 남편 좀 살려주세요.  죄송합니다만 남편 분은 가망이 없습니다.  선생님선생님 밖에 없어요! 흐흐흑  이러시면 곤란합니다. 남편 분의 의식은 돌아오는건 저도 장담 못합니다. 죄송합니다.  당신이 수술하면 산다고 했잖아! 당신 때문이야  여기서 이러시면 곤란합니다.  당신이 내 남편 죽였어! 책임져!!  남편 분은 이미 사고로 의식이 없는 상태로 오셨고 제가 생사를 장담못한다고 말씀드렸습니다.  언제 그랬어? 분명 올 때 내 손을 잡고 있었다고! 당신이 죽였지?  진정하세요  살인자! 살인자!!\n",
      "실제값: 기타 괴롭힘 \t예측값: 협박\n",
      "==================================================\n",
      "대체 제게 왜 그러세요 ?  순이씨가 좋아서 그렇죠  왜 그러세요 불쾌 합니다  좋아서 그래요  자꾸 쫓아다니시면 저는 너무 힘들어요  내일도 올게요 이시간에요  절대 오지 마세요  그건 제마음입니다  괴롭히지 마세요  저는 기다릴겁니다\n",
      "실제값: 기타 괴롭힘 \t예측값: 직장 내 괴롭힘\n",
      "==================================================\n",
      "어머 쟤 오늘도 저 옷 입고 왔네.  옷이 저거 밖에 없나 보지 뭐. 우리가 이해해야지 어쩌겠어.  아무리 그래도 옆에 사람 생각도 안하나? 냄새 나 죽겠어.  그러니까. 반지하 사는 거 티내는 거야 뭐야.  너희들 얘기 다 들려. 그만해.  어머 들렸니? 근데 다 사실이잖니. 반지하 살면 더러워도 돼?  내가 어디 살든 너희가 무슨 상관이야? 신경 꺼.  그게 안되잖아. 근처에만 가도 냄새가 진동을 하는데.  친구의 위생을 위해 이렇게 걱정을 해주는데 반응 하고는  너희 정말 못됐다. 나 가만 안 있어.  가만 있지 않음 어쩔 건데? 우리가 돈을 뺐었니 때리길 했니?\n",
      "실제값: 기타 괴롭힘 \t예측값: 갈취\n",
      "==================================================\n"
     ]
    }
   ],
   "source": [
    "show_FN(result, 3)"
   ]
  }
 ],
 "metadata": {
  "kernelspec": {
   "display_name": "Python 3 (ipykernel)",
   "language": "python",
   "name": "python3"
  },
  "language_info": {
   "codemirror_mode": {
    "name": "ipython",
    "version": 3
   },
   "file_extension": ".py",
   "mimetype": "text/x-python",
   "name": "python",
   "nbconvert_exporter": "python",
   "pygments_lexer": "ipython3",
   "version": "3.9.7"
  }
 },
 "nbformat": 4,
 "nbformat_minor": 5
}
