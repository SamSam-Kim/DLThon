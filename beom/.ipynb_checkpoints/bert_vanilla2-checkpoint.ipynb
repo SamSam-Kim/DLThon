{
 "cells": [
  {
   "cell_type": "code",
   "execution_count": null,
   "metadata": {
    "id": "vURq4owrH6fO"
   },
   "outputs": [],
   "source": [
    "import tensorflow as tf\n",
    "import tensorflow_datasets as tfds\n",
    "import os\n",
    "import re\n",
    "import numpy as np\n",
    "import pandas as pd\n",
    "import matplotlib.pyplot as plt\n",
    "import json\n",
    "from transformers import TFBertModel, BertConfig, AutoTokenizer\n",
    "from sklearn.model_selection import train_test_split\n",
    "from tensorflow.keras.callbacks import EarlyStopping, ModelCheckpoint"
   ]
  },
  {
   "cell_type": "markdown",
   "metadata": {
    "id": "XRqbU8flN2N4"
   },
   "source": [
    "### 데이터 전처리"
   ]
  },
  {
   "cell_type": "code",
   "execution_count": 3,
   "metadata": {
    "id": "IWufD8AVIYk9"
   },
   "outputs": [],
   "source": [
    "df = pd.read_csv('hub_data.csv', index_col=0)"
   ]
  },
  {
   "cell_type": "code",
   "execution_count": 4,
   "metadata": {
    "colab": {
     "base_uri": "https://localhost:8080/",
     "height": 424
    },
    "id": "MgcCJQ54Ik3V",
    "outputId": "d3122c6c-0d6d-417a-ae37-e5992970a3c8"
   },
   "outputs": [
    {
     "data": {
      "application/vnd.google.colaboratory.intrinsic+json": {
       "summary": "{\n  \"name\": \"df\",\n  \"rows\": 4950,\n  \"fields\": [\n    {\n      \"column\": \"class\",\n      \"properties\": {\n        \"dtype\": \"number\",\n        \"std\": 1,\n        \"min\": 0,\n        \"max\": 4,\n        \"num_unique_values\": 5,\n        \"samples\": [\n          3,\n          4,\n          1\n        ],\n        \"semantic_type\": \"\",\n        \"description\": \"\"\n      }\n    },\n    {\n      \"column\": \"conversation\",\n      \"properties\": {\n        \"dtype\": \"string\",\n        \"num_unique_values\": 4846,\n        \"samples\": [\n          \"\\uae40\\ub300\\ub9ac \\uc8fc\\ub9d0\\uc5d0 \\ubb50\\ud574\\n \\uac00\\uc871\\ub07c\\ub9ac \\uc624\\ub79c\\ub9cc\\uc5d0 \\ubc25\\uba39\\uae30\\ub85c \\ud588\\uc2b5\\ub2c8\\ub2e4\\n \\uc544\\ub2c8 \\uac00\\uc871\\uc740 \\ub9e4\\uc77c \\uac19\\uc774 \\ubc25\\uba39\\uc73c\\uba74\\uc11c \\ubb58 \\uc624\\ub79c\\ub9cc\\uc5d0 \\uba39\\uc5b4\\n \\ub098\\uac00\\uc11c \\uc678\\uc2dd \\ub9db\\uc788\\ub294\\uac70 \\uba39\\uc73c\\ub824\\uace0 \\ud569\\ub2c8\\ub2e4\\n \\uc5d0\\uc774 \\uadf8\\uac74 \\ub098\\uc911\\uc5d0 \\uba39\\uace0 \\uc8fc\\ub9d0\\uc5d0 \\ub108\\ub124 \\ub3d9\\uae30\\ub4e4\\uc774\\ub791 \\ubaa8\\uc5ec\\uc11c \\ub2e4\\uc74c\\uc8fc\\uc5d0 \\uc788\\uc744 \\uc6cc\\ud06c\\uc0f5\\ub54c \\ucda4\\uacf5\\uc5f0 \\ud55c\\ubc88 \\ub17c\\uc758\\ud574\\ubd10\\n \\uc544 \\ucda4\\uc774\\uc694?\\n \\uc544\\ub2c8 \\uba87\\ubc88\\uc744 \\ub9d0\\ud574\\uc57c \\uc54c\\uc544\\ub4e3\\ub294\\uac70\\uc57c? \\uadf8\\ub798 \\ucda4\\ub9d0\\uc774\\uc57c \\ucda4\\n \\uc6cc\\ud06c\\uc0f5\\ub54c \\uadf8\\ub7f0 \\ud589\\uc0ac\\uac00 \\uc788\\ub294\\uc9c0 \\ucc98\\uc74c \\ub4e4\\uc5c8\\ub294\\ub370\\uc694?\\n \\uc9c0\\uae08 \\ub531 \\ub5a0\\uc62c\\ub77c\\uc11c \\ub9d0\\ud55c\\uac70\\uc57c \\uc0ac\\uc7a5\\ub2d8\\ub3c4 \\uc624\\uc2dc\\ub294\\ub370 \\ucda4\\ucd94\\uace0 \\uadf8\\ub7ec\\uba74 \\ubd84\\uc704\\uae30\\ub3c4 \\uc0b4\\uace0 \\uc88b\\uc9c0 \\uc54a\\uaca0\\ub098\\n \\uadf8\\ub798\\ub3c4 \\uc8fc\\ub9d0\\uc5d0 \\uc120\\uc57d\\uc774 \\uc788\\ub294\\ub370 \\ud68c\\uc0ac\\uc77c\\ub85c \\ubbf8\\ub8e8\\uae30\\ub294 \\uc5b4\\ub824\\uc6b8 \\uac83 \\uac19\\uc2b5\\ub2c8\\ub2e4\\n \\uc790\\ub124 \\ub0b4\\ub144\\uc5d0 \\uc2b9\\uc9c4 \\ub300\\uc0c1\\uc774\\uc9c0 \\uc54a\\ub098? \\uc5b4\\ub5bb\\uac8c \\ucc98\\uc2e0\\ud574\\uc57c\\ud560\\uc9c0 \\uc798 \\uc0dd\\uac01\\ud574\\ubd10\\n \\ub124.\\uc54c\\uaca0\\uc2b5\\ub2c8\\ub2e4.\\ub3d9\\uae30\\ub4e4\\uacfc \\ub9d0\\ud574\\ubcf4\\uaca0\\uc2b5\\ub2c8\\ub2e4.\",\n          \"\\uc528. \\uc77c\\ub85c\\uc640\\ubd10\\n \\ub124? \\ubb34\\uc2a8\\uc77c\\uc774\\uc2dc\\uc8e0?\\n \\uc774\\uac70. \\ubcf4\\uace0\\uc11c \\ud2c0\\ub838\\uc796\\uc544. \\uc77c\\ub611\\ubc14\\ub85c \\uc548\\ud574?\\n \\uc544 \\uc8c4\\uc1a1\\ud569\\ub2c8\\ub2e4.\\n \\uc8c4\\uc1a1\\ud558\\uba74 \\ub2e4\\uc57c? \\ub108\\ub54c\\ubb38\\uc5d0 \\ub098\\uae4c\\uc9c0 \\ud53c\\ud574\\ubcf4\\uc796\\uc544.\\n \\uc815\\ub9d0 \\uc8c4\\uc1a1\\ud569\\ub2c8\\ub2e4.\\n \\uc5b4\\ub514\\uc11c \\uc800\\ub807\\uac8c \\uba4d\\uccad\\ud55c\\uac8c \\uad74\\ub7ec\\ub4e4\\uc5b4\\uc640\\uac00\\uc9c0\\uace0.\\n \\uc8c4\\uc1a1\\ud569\\ub2c8\\ub2e4.\\n \\uc774\\ub798\\uc11c \\ub300\\ud559\\ub3c4 \\uc548\\uac04\\uc560\\ub294 \\ubf51\\uc73c\\uba74 \\uc548\\ub3fc\\ub294\\uac70\\uc57c. \\uae30\\ubcf8 \\uba38\\ub9ac\\uac00 \\uc5c6\\uc796\\uc544. \\uae30\\ubcf8 \\uba38\\ub9ac\\uac00. \\uc18d\\ud130\\uc838 \\uc8fd\\uaca0\\ub124\\n \\uc8c4\\uc1a1\\ud569\\ub2c8\\ub2e4.\\uc218\\uc815\\ud574 \\uc624\\uaca0\\uc2b5\\ub2c8\\ub2e4.\",\n          \"\\uc57c \\ub108\\ub124 \\uae38\\ub3d9\\uc911\\ud559\\uad50\\uc9c0?\\n\\ub124? \\ub124.\\n\\ub098 \\uac70\\uae30 \\ub098\\uc654\\ub294\\ub370 \\ub2c8\\ub124 \\uc218\\uadfc\\uc774\\uc54c\\uc9c0?\\n\\uc544 \\ub124 \\uadf8 \\ud615 \\uc54c\\uc544\\uc694\\n\\uac54\\uac00 \\ub0b4 \\uce5c\\ud55c \\ud6c4\\ubc30\\uac70\\ub4e0\\n\\uc544 \\ub124\\n\\ud615\\uc774 \\uc9c0\\uae08 \\ub178\\ub798\\ubc29\\uc744 \\uac00\\ub824\\ub294\\ub370 \\ub3c8\\uc774 \\uc5c6\\ub124? \\ub2c8\\ub124 \\uc5bc\\ub9c8\\uc529\\ub4e4 \\uc788\\ub0d0?\\n\\uc544 \\uc800\\ud76c \\ub3c8 \\uc5c6\\ub294\\ub370\\n\\uc5c6\\ub294\\ub370\\ub294 \\ubc18\\ub9d0\\uc774\\uace0 \\ub9cc\\uc57d\\uc5d0 \\ub3c8 \\uc788\\uc73c\\uba74 \\uc218\\uadfc\\uc774\\ud55c\\ud14c \\ub9d0\\ud55c\\ub2e4 \\ub2c8\\ub124?\\n\\uc544 \\uc8c4\\uc1a1\\ud574\\uc694 . \\ub4dc \\ub4dc\\ub9b4\\uac8c\\uc694 \\uc5ec\\uae30\"\n        ],\n        \"semantic_type\": \"\",\n        \"description\": \"\"\n      }\n    }\n  ]\n}",
       "type": "dataframe",
       "variable_name": "df"
      },
      "text/html": [
       "\n",
       "  <div id=\"df-a40370ef-0348-44d1-97f6-ac6a93458535\" class=\"colab-df-container\">\n",
       "    <div>\n",
       "<style scoped>\n",
       "    .dataframe tbody tr th:only-of-type {\n",
       "        vertical-align: middle;\n",
       "    }\n",
       "\n",
       "    .dataframe tbody tr th {\n",
       "        vertical-align: top;\n",
       "    }\n",
       "\n",
       "    .dataframe thead th {\n",
       "        text-align: right;\n",
       "    }\n",
       "</style>\n",
       "<table border=\"1\" class=\"dataframe\">\n",
       "  <thead>\n",
       "    <tr style=\"text-align: right;\">\n",
       "      <th></th>\n",
       "      <th>class</th>\n",
       "      <th>conversation</th>\n",
       "    </tr>\n",
       "  </thead>\n",
       "  <tbody>\n",
       "    <tr>\n",
       "      <th>0</th>\n",
       "      <td>0</td>\n",
       "      <td>지금 너 스스로를 죽여달라고 애원하는 것인가?\\n 아닙니다. 죄송합니다.\\n 죽을 ...</td>\n",
       "    </tr>\n",
       "    <tr>\n",
       "      <th>1</th>\n",
       "      <td>0</td>\n",
       "      <td>길동경찰서입니다.\\n9시 40분 마트에 폭발물을 설치할거다.\\n네?\\n똑바로 들어 ...</td>\n",
       "    </tr>\n",
       "    <tr>\n",
       "      <th>2</th>\n",
       "      <td>3</td>\n",
       "      <td>너 되게 귀여운거 알지? 나보다 작은 남자는 첨봤어.\\n그만해. 니들 놀리는거 재미...</td>\n",
       "    </tr>\n",
       "    <tr>\n",
       "      <th>3</th>\n",
       "      <td>1</td>\n",
       "      <td>어이 거기\\n예??\\n너 말이야 너. 이리 오라고\\n무슨 일.\\n너 옷 좋아보인다?...</td>\n",
       "    </tr>\n",
       "    <tr>\n",
       "      <th>4</th>\n",
       "      <td>1</td>\n",
       "      <td>저기요 혹시 날이 너무 뜨겁잖아요? 저희 회사에서 이 선크림 파는데 한 번 손등에 ...</td>\n",
       "    </tr>\n",
       "    <tr>\n",
       "      <th>...</th>\n",
       "      <td>...</td>\n",
       "      <td>...</td>\n",
       "    </tr>\n",
       "    <tr>\n",
       "      <th>4945</th>\n",
       "      <td>4</td>\n",
       "      <td>자기야, 나 이번에 학원 선생님이랑 친해졌는데 자꾸 나를 수산물 시장으로 불러내서 ...</td>\n",
       "    </tr>\n",
       "    <tr>\n",
       "      <th>4946</th>\n",
       "      <td>4</td>\n",
       "      <td>하, 자기야. 나 이번에 계약한 중고차 또 자동차 검사받았어.\\n헉, 저번 주에 정...</td>\n",
       "    </tr>\n",
       "    <tr>\n",
       "      <th>4947</th>\n",
       "      <td>4</td>\n",
       "      <td>천장으로 올라간 고양이가 내려오지를 않아. 아무리 불러도 꿈쩍도 안 해서 정말 불안...</td>\n",
       "    </tr>\n",
       "    <tr>\n",
       "      <th>4948</th>\n",
       "      <td>4</td>\n",
       "      <td>자기야 나 사고친 것 같아서 너무 불안하고 당혹스러워. 어제 회식자리에서 취해서 부...</td>\n",
       "    </tr>\n",
       "    <tr>\n",
       "      <th>4949</th>\n",
       "      <td>4</td>\n",
       "      <td>자기야, 나 지금 부모님 모시고 응급실에 가고 있는데 너무 불안하네.\\n갑자기 이 ...</td>\n",
       "    </tr>\n",
       "  </tbody>\n",
       "</table>\n",
       "<p>4950 rows × 2 columns</p>\n",
       "</div>\n",
       "    <div class=\"colab-df-buttons\">\n",
       "\n",
       "  <div class=\"colab-df-container\">\n",
       "    <button class=\"colab-df-convert\" onclick=\"convertToInteractive('df-a40370ef-0348-44d1-97f6-ac6a93458535')\"\n",
       "            title=\"Convert this dataframe to an interactive table.\"\n",
       "            style=\"display:none;\">\n",
       "\n",
       "  <svg xmlns=\"http://www.w3.org/2000/svg\" height=\"24px\" viewBox=\"0 -960 960 960\">\n",
       "    <path d=\"M120-120v-720h720v720H120Zm60-500h600v-160H180v160Zm220 220h160v-160H400v160Zm0 220h160v-160H400v160ZM180-400h160v-160H180v160Zm440 0h160v-160H620v160ZM180-180h160v-160H180v160Zm440 0h160v-160H620v160Z\"/>\n",
       "  </svg>\n",
       "    </button>\n",
       "\n",
       "  <style>\n",
       "    .colab-df-container {\n",
       "      display:flex;\n",
       "      gap: 12px;\n",
       "    }\n",
       "\n",
       "    .colab-df-convert {\n",
       "      background-color: #E8F0FE;\n",
       "      border: none;\n",
       "      border-radius: 50%;\n",
       "      cursor: pointer;\n",
       "      display: none;\n",
       "      fill: #1967D2;\n",
       "      height: 32px;\n",
       "      padding: 0 0 0 0;\n",
       "      width: 32px;\n",
       "    }\n",
       "\n",
       "    .colab-df-convert:hover {\n",
       "      background-color: #E2EBFA;\n",
       "      box-shadow: 0px 1px 2px rgba(60, 64, 67, 0.3), 0px 1px 3px 1px rgba(60, 64, 67, 0.15);\n",
       "      fill: #174EA6;\n",
       "    }\n",
       "\n",
       "    .colab-df-buttons div {\n",
       "      margin-bottom: 4px;\n",
       "    }\n",
       "\n",
       "    [theme=dark] .colab-df-convert {\n",
       "      background-color: #3B4455;\n",
       "      fill: #D2E3FC;\n",
       "    }\n",
       "\n",
       "    [theme=dark] .colab-df-convert:hover {\n",
       "      background-color: #434B5C;\n",
       "      box-shadow: 0px 1px 3px 1px rgba(0, 0, 0, 0.15);\n",
       "      filter: drop-shadow(0px 1px 2px rgba(0, 0, 0, 0.3));\n",
       "      fill: #FFFFFF;\n",
       "    }\n",
       "  </style>\n",
       "\n",
       "    <script>\n",
       "      const buttonEl =\n",
       "        document.querySelector('#df-a40370ef-0348-44d1-97f6-ac6a93458535 button.colab-df-convert');\n",
       "      buttonEl.style.display =\n",
       "        google.colab.kernel.accessAllowed ? 'block' : 'none';\n",
       "\n",
       "      async function convertToInteractive(key) {\n",
       "        const element = document.querySelector('#df-a40370ef-0348-44d1-97f6-ac6a93458535');\n",
       "        const dataTable =\n",
       "          await google.colab.kernel.invokeFunction('convertToInteractive',\n",
       "                                                    [key], {});\n",
       "        if (!dataTable) return;\n",
       "\n",
       "        const docLinkHtml = 'Like what you see? Visit the ' +\n",
       "          '<a target=\"_blank\" href=https://colab.research.google.com/notebooks/data_table.ipynb>data table notebook</a>'\n",
       "          + ' to learn more about interactive tables.';\n",
       "        element.innerHTML = '';\n",
       "        dataTable['output_type'] = 'display_data';\n",
       "        await google.colab.output.renderOutput(dataTable, element);\n",
       "        const docLink = document.createElement('div');\n",
       "        docLink.innerHTML = docLinkHtml;\n",
       "        element.appendChild(docLink);\n",
       "      }\n",
       "    </script>\n",
       "  </div>\n",
       "\n",
       "\n",
       "    <div id=\"df-3bc8ffd8-9394-4519-a389-c545d0de4912\">\n",
       "      <button class=\"colab-df-quickchart\" onclick=\"quickchart('df-3bc8ffd8-9394-4519-a389-c545d0de4912')\"\n",
       "                title=\"Suggest charts\"\n",
       "                style=\"display:none;\">\n",
       "\n",
       "<svg xmlns=\"http://www.w3.org/2000/svg\" height=\"24px\"viewBox=\"0 0 24 24\"\n",
       "     width=\"24px\">\n",
       "    <g>\n",
       "        <path d=\"M19 3H5c-1.1 0-2 .9-2 2v14c0 1.1.9 2 2 2h14c1.1 0 2-.9 2-2V5c0-1.1-.9-2-2-2zM9 17H7v-7h2v7zm4 0h-2V7h2v10zm4 0h-2v-4h2v4z\"/>\n",
       "    </g>\n",
       "</svg>\n",
       "      </button>\n",
       "\n",
       "<style>\n",
       "  .colab-df-quickchart {\n",
       "      --bg-color: #E8F0FE;\n",
       "      --fill-color: #1967D2;\n",
       "      --hover-bg-color: #E2EBFA;\n",
       "      --hover-fill-color: #174EA6;\n",
       "      --disabled-fill-color: #AAA;\n",
       "      --disabled-bg-color: #DDD;\n",
       "  }\n",
       "\n",
       "  [theme=dark] .colab-df-quickchart {\n",
       "      --bg-color: #3B4455;\n",
       "      --fill-color: #D2E3FC;\n",
       "      --hover-bg-color: #434B5C;\n",
       "      --hover-fill-color: #FFFFFF;\n",
       "      --disabled-bg-color: #3B4455;\n",
       "      --disabled-fill-color: #666;\n",
       "  }\n",
       "\n",
       "  .colab-df-quickchart {\n",
       "    background-color: var(--bg-color);\n",
       "    border: none;\n",
       "    border-radius: 50%;\n",
       "    cursor: pointer;\n",
       "    display: none;\n",
       "    fill: var(--fill-color);\n",
       "    height: 32px;\n",
       "    padding: 0;\n",
       "    width: 32px;\n",
       "  }\n",
       "\n",
       "  .colab-df-quickchart:hover {\n",
       "    background-color: var(--hover-bg-color);\n",
       "    box-shadow: 0 1px 2px rgba(60, 64, 67, 0.3), 0 1px 3px 1px rgba(60, 64, 67, 0.15);\n",
       "    fill: var(--button-hover-fill-color);\n",
       "  }\n",
       "\n",
       "  .colab-df-quickchart-complete:disabled,\n",
       "  .colab-df-quickchart-complete:disabled:hover {\n",
       "    background-color: var(--disabled-bg-color);\n",
       "    fill: var(--disabled-fill-color);\n",
       "    box-shadow: none;\n",
       "  }\n",
       "\n",
       "  .colab-df-spinner {\n",
       "    border: 2px solid var(--fill-color);\n",
       "    border-color: transparent;\n",
       "    border-bottom-color: var(--fill-color);\n",
       "    animation:\n",
       "      spin 1s steps(1) infinite;\n",
       "  }\n",
       "\n",
       "  @keyframes spin {\n",
       "    0% {\n",
       "      border-color: transparent;\n",
       "      border-bottom-color: var(--fill-color);\n",
       "      border-left-color: var(--fill-color);\n",
       "    }\n",
       "    20% {\n",
       "      border-color: transparent;\n",
       "      border-left-color: var(--fill-color);\n",
       "      border-top-color: var(--fill-color);\n",
       "    }\n",
       "    30% {\n",
       "      border-color: transparent;\n",
       "      border-left-color: var(--fill-color);\n",
       "      border-top-color: var(--fill-color);\n",
       "      border-right-color: var(--fill-color);\n",
       "    }\n",
       "    40% {\n",
       "      border-color: transparent;\n",
       "      border-right-color: var(--fill-color);\n",
       "      border-top-color: var(--fill-color);\n",
       "    }\n",
       "    60% {\n",
       "      border-color: transparent;\n",
       "      border-right-color: var(--fill-color);\n",
       "    }\n",
       "    80% {\n",
       "      border-color: transparent;\n",
       "      border-right-color: var(--fill-color);\n",
       "      border-bottom-color: var(--fill-color);\n",
       "    }\n",
       "    90% {\n",
       "      border-color: transparent;\n",
       "      border-bottom-color: var(--fill-color);\n",
       "    }\n",
       "  }\n",
       "</style>\n",
       "\n",
       "      <script>\n",
       "        async function quickchart(key) {\n",
       "          const quickchartButtonEl =\n",
       "            document.querySelector('#' + key + ' button');\n",
       "          quickchartButtonEl.disabled = true;  // To prevent multiple clicks.\n",
       "          quickchartButtonEl.classList.add('colab-df-spinner');\n",
       "          try {\n",
       "            const charts = await google.colab.kernel.invokeFunction(\n",
       "                'suggestCharts', [key], {});\n",
       "          } catch (error) {\n",
       "            console.error('Error during call to suggestCharts:', error);\n",
       "          }\n",
       "          quickchartButtonEl.classList.remove('colab-df-spinner');\n",
       "          quickchartButtonEl.classList.add('colab-df-quickchart-complete');\n",
       "        }\n",
       "        (() => {\n",
       "          let quickchartButtonEl =\n",
       "            document.querySelector('#df-3bc8ffd8-9394-4519-a389-c545d0de4912 button');\n",
       "          quickchartButtonEl.style.display =\n",
       "            google.colab.kernel.accessAllowed ? 'block' : 'none';\n",
       "        })();\n",
       "      </script>\n",
       "    </div>\n",
       "\n",
       "  <div id=\"id_e39eadb7-6e37-4a0c-8a4c-c1cb5d1aca96\">\n",
       "    <style>\n",
       "      .colab-df-generate {\n",
       "        background-color: #E8F0FE;\n",
       "        border: none;\n",
       "        border-radius: 50%;\n",
       "        cursor: pointer;\n",
       "        display: none;\n",
       "        fill: #1967D2;\n",
       "        height: 32px;\n",
       "        padding: 0 0 0 0;\n",
       "        width: 32px;\n",
       "      }\n",
       "\n",
       "      .colab-df-generate:hover {\n",
       "        background-color: #E2EBFA;\n",
       "        box-shadow: 0px 1px 2px rgba(60, 64, 67, 0.3), 0px 1px 3px 1px rgba(60, 64, 67, 0.15);\n",
       "        fill: #174EA6;\n",
       "      }\n",
       "\n",
       "      [theme=dark] .colab-df-generate {\n",
       "        background-color: #3B4455;\n",
       "        fill: #D2E3FC;\n",
       "      }\n",
       "\n",
       "      [theme=dark] .colab-df-generate:hover {\n",
       "        background-color: #434B5C;\n",
       "        box-shadow: 0px 1px 3px 1px rgba(0, 0, 0, 0.15);\n",
       "        filter: drop-shadow(0px 1px 2px rgba(0, 0, 0, 0.3));\n",
       "        fill: #FFFFFF;\n",
       "      }\n",
       "    </style>\n",
       "    <button class=\"colab-df-generate\" onclick=\"generateWithVariable('df')\"\n",
       "            title=\"Generate code using this dataframe.\"\n",
       "            style=\"display:none;\">\n",
       "\n",
       "  <svg xmlns=\"http://www.w3.org/2000/svg\" height=\"24px\"viewBox=\"0 0 24 24\"\n",
       "       width=\"24px\">\n",
       "    <path d=\"M7,19H8.4L18.45,9,17,7.55,7,17.6ZM5,21V16.75L18.45,3.32a2,2,0,0,1,2.83,0l1.4,1.43a1.91,1.91,0,0,1,.58,1.4,1.91,1.91,0,0,1-.58,1.4L9.25,21ZM18.45,9,17,7.55Zm-12,3A5.31,5.31,0,0,0,4.9,8.1,5.31,5.31,0,0,0,1,6.5,5.31,5.31,0,0,0,4.9,4.9,5.31,5.31,0,0,0,6.5,1,5.31,5.31,0,0,0,8.1,4.9,5.31,5.31,0,0,0,12,6.5,5.46,5.46,0,0,0,6.5,12Z\"/>\n",
       "  </svg>\n",
       "    </button>\n",
       "    <script>\n",
       "      (() => {\n",
       "      const buttonEl =\n",
       "        document.querySelector('#id_e39eadb7-6e37-4a0c-8a4c-c1cb5d1aca96 button.colab-df-generate');\n",
       "      buttonEl.style.display =\n",
       "        google.colab.kernel.accessAllowed ? 'block' : 'none';\n",
       "\n",
       "      buttonEl.onclick = () => {\n",
       "        google.colab.notebook.generateWithVariable('df');\n",
       "      }\n",
       "      })();\n",
       "    </script>\n",
       "  </div>\n",
       "\n",
       "    </div>\n",
       "  </div>\n"
      ],
      "text/plain": [
       "      class                                       conversation\n",
       "0         0  지금 너 스스로를 죽여달라고 애원하는 것인가?\\n 아닙니다. 죄송합니다.\\n 죽을 ...\n",
       "1         0  길동경찰서입니다.\\n9시 40분 마트에 폭발물을 설치할거다.\\n네?\\n똑바로 들어 ...\n",
       "2         3  너 되게 귀여운거 알지? 나보다 작은 남자는 첨봤어.\\n그만해. 니들 놀리는거 재미...\n",
       "3         1  어이 거기\\n예??\\n너 말이야 너. 이리 오라고\\n무슨 일.\\n너 옷 좋아보인다?...\n",
       "4         1  저기요 혹시 날이 너무 뜨겁잖아요? 저희 회사에서 이 선크림 파는데 한 번 손등에 ...\n",
       "...     ...                                                ...\n",
       "4945      4  자기야, 나 이번에 학원 선생님이랑 친해졌는데 자꾸 나를 수산물 시장으로 불러내서 ...\n",
       "4946      4  하, 자기야. 나 이번에 계약한 중고차 또 자동차 검사받았어.\\n헉, 저번 주에 정...\n",
       "4947      4  천장으로 올라간 고양이가 내려오지를 않아. 아무리 불러도 꿈쩍도 안 해서 정말 불안...\n",
       "4948      4  자기야 나 사고친 것 같아서 너무 불안하고 당혹스러워. 어제 회식자리에서 취해서 부...\n",
       "4949      4  자기야, 나 지금 부모님 모시고 응급실에 가고 있는데 너무 불안하네.\\n갑자기 이 ...\n",
       "\n",
       "[4950 rows x 2 columns]"
      ]
     },
     "execution_count": 4,
     "metadata": {},
     "output_type": "execute_result"
    }
   ],
   "source": [
    "df"
   ]
  },
  {
   "cell_type": "code",
   "execution_count": 5,
   "metadata": {
    "id": "a0Kfu6JVLoZo"
   },
   "outputs": [],
   "source": [
    "# train 데이터의 최대 길이를 구함\n",
    "train_len = [len(x.split()) for x in df['conversation']]\n",
    "MAX_LEN = max(train_len)"
   ]
  },
  {
   "cell_type": "markdown",
   "metadata": {
    "id": "CLNUM7exN4uL"
   },
   "source": [
    "### 모델"
   ]
  },
  {
   "cell_type": "code",
   "execution_count": 6,
   "metadata": {
    "colab": {
     "base_uri": "https://localhost:8080/"
    },
    "id": "fXDfqA4-Iuzd",
    "outputId": "72062282-7090-4b7b-9c7f-5ad3f8d384ac"
   },
   "outputs": [
    {
     "name": "stderr",
     "output_type": "stream",
     "text": [
      "/usr/local/lib/python3.11/dist-packages/huggingface_hub/utils/_auth.py:94: UserWarning: \n",
      "The secret `HF_TOKEN` does not exist in your Colab secrets.\n",
      "To authenticate with the Hugging Face Hub, create a token in your settings tab (https://huggingface.co/settings/tokens), set it as secret in your Google Colab and restart your session.\n",
      "You will be able to reuse this secret in all of your notebooks.\n",
      "Please note that authentication is recommended but still optional to access public models or datasets.\n",
      "  warnings.warn(\n"
     ]
    }
   ],
   "source": [
    "tokenizer = AutoTokenizer.from_pretrained(\"klue/bert-base\")\n",
    "config = BertConfig(\n",
    "    vocab_size=tokenizer.vocab_size,  # KLUE vocab 크기\n",
    "    hidden_size=768,\n",
    "    num_hidden_layers=12,\n",
    "    num_attention_heads=12,\n",
    "    intermediate_size=3072,\n",
    "    max_position_embeddings=MAX_LEN,\n",
    "    type_vocab_size=2,\n",
    "    pad_token_id=tokenizer.pad_token_id\n",
    ")"
   ]
  },
  {
   "cell_type": "code",
   "execution_count": 7,
   "metadata": {
    "id": "xNmuqA5NIk84"
   },
   "outputs": [],
   "source": [
    "bert_config = TFBertModel(config)"
   ]
  },
  {
   "cell_type": "code",
   "execution_count": 8,
   "metadata": {
    "id": "KHADAHivLdcy"
   },
   "outputs": [],
   "source": [
    "encoded_inputs = tokenizer(\n",
    "    list(df['conversation']),\n",
    "    padding='max_length', # 또는 padding=True (배치 내 최대 길이에 맞춤)\n",
    "    truncation=True,\n",
    "    max_length=MAX_LEN,       # BERT 모델이 처리 가능한 최대 길이 고려 (klue/bert-base는 512)\n",
    "    return_tensors='tf'\n",
    ")"
   ]
  },
  {
   "cell_type": "code",
   "execution_count": 9,
   "metadata": {
    "id": "mA6NXAS5LfQ5"
   },
   "outputs": [],
   "source": [
    "labels = tf.constant(df['class'].values)\n",
    "unique_labels = np.unique(labels.numpy())\n",
    "NUM_CLASSES = len(unique_labels)"
   ]
  },
  {
   "cell_type": "code",
   "execution_count": 10,
   "metadata": {
    "id": "SrSPbIsTL_2A"
   },
   "outputs": [],
   "source": [
    "num_samples = len(df)\n",
    "indices = np.arange(num_samples)\n",
    "\n",
    "train_indices, val_indices = train_test_split(\n",
    "    indices,\n",
    "    test_size=0.2,\n",
    "    random_state=42,\n",
    "    stratify=labels.numpy() # stratify에는 NumPy 배열 전달\n",
    ")"
   ]
  },
  {
   "cell_type": "code",
   "execution_count": 11,
   "metadata": {
    "id": "fXk09ylhMEXy"
   },
   "outputs": [],
   "source": [
    "train_inputs = {key: tf.gather(val, train_indices) for key, val in encoded_inputs.items()}\n",
    "val_inputs = {key: tf.gather(val, val_indices) for key, val in encoded_inputs.items()}\n",
    "\n",
    "# 레이블도 동일한 인덱스로 선택\n",
    "train_labels = tf.gather(labels, train_indices)\n",
    "val_labels = tf.gather(labels, val_indices)"
   ]
  },
  {
   "cell_type": "code",
   "execution_count": 12,
   "metadata": {
    "id": "OmpdrIc3MFMf"
   },
   "outputs": [],
   "source": [
    "train_dataset = tf.data.Dataset.from_tensor_slices((train_inputs, train_labels))\n",
    "train_dataset = train_dataset.shuffle(len(train_indices)).batch(16) # 셔플 및 배치\n",
    "\n",
    "# 예시: 검증 데이터셋 생성\n",
    "val_dataset = tf.data.Dataset.from_tensor_slices((val_inputs, val_labels))\n",
    "val_dataset = val_dataset.batch(16) # 검증 데이터는 보통 셔플하지 않음"
   ]
  },
  {
   "cell_type": "code",
   "execution_count": 13,
   "metadata": {
    "id": "6B4rmWYmKfSw"
   },
   "outputs": [],
   "source": [
    "class Bert_Vanilla(tf.keras.Model):\n",
    "    def __init__(self, bert):\n",
    "        super(Bert_Vanilla, self).__init__()\n",
    "        self.bert = bert\n",
    "        self.dropout = tf.keras.layers.Dropout(0.5)\n",
    "        self.classifier = tf.keras.layers.Dense(5, activation='softmax')\n",
    "\n",
    "    def call(self, inputs, training=False):\n",
    "        outputs = self.bert(**inputs)\n",
    "        cls_output = outputs.last_hidden_state[:, 0, :]  # [CLS] 토큰의 출력만 사용\n",
    "        x = self.dropout(cls_output, training=training)\n",
    "        return self.classifier(x)"
   ]
  },
  {
   "cell_type": "code",
   "execution_count": 14,
   "metadata": {
    "id": "LhuhMvomKIIe"
   },
   "outputs": [],
   "source": [
    "model = Bert_Vanilla(bert_config)"
   ]
  },
  {
   "cell_type": "code",
   "execution_count": 15,
   "metadata": {
    "id": "DJr400M4MH_-"
   },
   "outputs": [],
   "source": [
    "optimizer = tf.keras.optimizers.Adam(learning_rate=5e-5)\n",
    "loss = tf.keras.losses.SparseCategoricalCrossentropy(from_logits=False)\n",
    "metric = tf.keras.metrics.SparseCategoricalAccuracy('accuracy')"
   ]
  },
  {
   "cell_type": "code",
   "execution_count": 16,
   "metadata": {
    "id": "gnkjHiMQKIL7"
   },
   "outputs": [],
   "source": [
    "model.compile(optimizer=optimizer, loss=loss, metrics=[metric])"
   ]
  },
  {
   "cell_type": "code",
   "execution_count": 17,
   "metadata": {
    "id": "ObNDarknMJej"
   },
   "outputs": [],
   "source": [
    "early_stopping_cb = EarlyStopping(\n",
    "    monitor='val_loss',\n",
    "    restore_best_weights=True,\n",
    "    patience=2)\n",
    "\n",
    "# ModelCheckpoint 콜백 수정\n",
    "model_checkpoint_cb = ModelCheckpoint(\n",
    "    filepath='model_weight.h5', # 파일 확장자를 .keras (권장) 또는 .h5 로 지정\n",
    "    monitor='val_loss',\n",
    "    save_best_only=True,\n",
    "    save_weights_only=False,      # 전체 모델 저장 (기본값이므로 생략 가능)\n",
    "    verbose=1\n",
    ")"
   ]
  },
  {
   "cell_type": "code",
   "execution_count": null,
   "metadata": {
    "colab": {
     "base_uri": "https://localhost:8080/"
    },
    "id": "EkTZ3UG4KHlG",
    "outputId": "1b74257f-b458-480d-feb2-6bdf2d34cfea"
   },
   "outputs": [
    {
     "name": "stdout",
     "output_type": "stream",
     "text": [
      "Epoch 1/50\n",
      "\u001b[1m  1/248\u001b[0m \u001b[37m━━━━━━━━━━━━━━━━━━━━\u001b[0m \u001b[1m4:51:24\u001b[0m 71s/step - accuracy: 0.3125 - loss: 2.1441"
     ]
    }
   ],
   "source": [
    "NUM_EPOCHS = 50\n",
    "history = model.fit(\n",
    "    train_dataset,\n",
    "    validation_data=val_dataset,\n",
    "    epochs=NUM_EPOCHS, # 충분한 에폭 수 지정 (조기 종료가 관리)\n",
    "    # callbacks=[early_stopping_cb, model_checkpoint_cb] # 정의된 콜백 전달\n",
    ")"
   ]
  },
  {
   "cell_type": "code",
   "execution_count": null,
   "metadata": {
    "id": "QEeUKU61ItoN"
   },
   "outputs": [],
   "source": []
  },
  {
   "cell_type": "code",
   "execution_count": null,
   "metadata": {
    "id": "Hi7gxFGoItrG"
   },
   "outputs": [],
   "source": []
  },
  {
   "cell_type": "code",
   "execution_count": null,
   "metadata": {
    "id": "EgHhlGXxIYoU"
   },
   "outputs": [],
   "source": []
  },
  {
   "cell_type": "code",
   "execution_count": null,
   "metadata": {
    "id": "L_pnkdVSIYrS"
   },
   "outputs": [],
   "source": []
  },
  {
   "cell_type": "code",
   "execution_count": null,
   "metadata": {
    "id": "HDB029lrIYuG"
   },
   "outputs": [],
   "source": []
  }
 ],
 "metadata": {
  "colab": {
   "provenance": []
  },
  "kernelspec": {
   "display_name": "Python 3 (ipykernel)",
   "language": "python",
   "name": "python3"
  },
  "language_info": {
   "codemirror_mode": {
    "name": "ipython",
    "version": 3
   },
   "file_extension": ".py",
   "mimetype": "text/x-python",
   "name": "python",
   "nbconvert_exporter": "python",
   "pygments_lexer": "ipython3",
   "version": "3.9.7"
  }
 },
 "nbformat": 4,
 "nbformat_minor": 1
}
