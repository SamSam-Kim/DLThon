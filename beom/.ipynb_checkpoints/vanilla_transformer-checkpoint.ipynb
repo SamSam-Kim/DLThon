{
 "cells": [
  {
   "cell_type": "code",
   "execution_count": 41,
   "id": "b7996fe3",
   "metadata": {},
   "outputs": [],
   "source": [
    "import tensorflow as tf\n",
    "import tensorflow_datasets as tfds\n",
    "import os\n",
    "import re\n",
    "import numpy as np\n",
    "import pandas as pd\n",
    "import matplotlib.pyplot as plt\n",
    "import json"
   ]
  },
  {
   "cell_type": "markdown",
   "id": "7206df68",
   "metadata": {},
   "source": [
    "### 데이터 전처리"
   ]
  },
  {
   "cell_type": "code",
   "execution_count": 42,
   "id": "86ec7f99",
   "metadata": {},
   "outputs": [],
   "source": [
    "hub_df = pd.read_csv('data/hub_data.csv', index_col=0)\n",
    "train_df = pd.read_csv('data/train.csv', index_col=0)"
   ]
  },
  {
   "cell_type": "code",
   "execution_count": 43,
   "id": "f397c5c6",
   "metadata": {},
   "outputs": [
    {
     "data": {
      "text/plain": [
       "(600, 200, 200)"
      ]
     },
     "execution_count": 43,
     "metadata": {},
     "output_type": "execute_result"
    }
   ],
   "source": [
    "a = hub_df[hub_df['class'].str.contains('기쁨')].sample(600)\n",
    "b = hub_df[hub_df['class'].str.contains('분노')].sample(200)\n",
    "c = hub_df[hub_df['class'].str.contains('불안')].sample(200)\n",
    "len(a), len(b), len(c)"
   ]
  },
  {
   "cell_type": "code",
   "execution_count": 44,
   "id": "3b57dc95",
   "metadata": {},
   "outputs": [],
   "source": [
    "temp = pd.concat([a, b, c], ignore_index=True)"
   ]
  },
  {
   "cell_type": "code",
   "execution_count": 45,
   "id": "27d3c113",
   "metadata": {},
   "outputs": [],
   "source": [
    "temp['class'] = '일반 대화'"
   ]
  },
  {
   "cell_type": "code",
   "execution_count": 46,
   "id": "33713a12",
   "metadata": {
    "scrolled": false
   },
   "outputs": [
    {
     "data": {
      "text/html": [
       "<div>\n",
       "<style scoped>\n",
       "    .dataframe tbody tr th:only-of-type {\n",
       "        vertical-align: middle;\n",
       "    }\n",
       "\n",
       "    .dataframe tbody tr th {\n",
       "        vertical-align: top;\n",
       "    }\n",
       "\n",
       "    .dataframe thead th {\n",
       "        text-align: right;\n",
       "    }\n",
       "</style>\n",
       "<table border=\"1\" class=\"dataframe\">\n",
       "  <thead>\n",
       "    <tr style=\"text-align: right;\">\n",
       "      <th></th>\n",
       "      <th>class</th>\n",
       "      <th>conversation</th>\n",
       "    </tr>\n",
       "  </thead>\n",
       "  <tbody>\n",
       "    <tr>\n",
       "      <th>0</th>\n",
       "      <td>일반 대화</td>\n",
       "      <td>내가 응원하는 팀이 이번에 우승하게 되었어. 신이 나고 기뻐서 이 기분을 어떻게 표...</td>\n",
       "    </tr>\n",
       "    <tr>\n",
       "      <th>1</th>\n",
       "      <td>일반 대화</td>\n",
       "      <td>오늘 아침에 와이프가 향수를 뿌리고 외출하더라고. 얼마나 기쁜지 눈물이 찔끔 날 뻔...</td>\n",
       "    </tr>\n",
       "    <tr>\n",
       "      <th>2</th>\n",
       "      <td>일반 대화</td>\n",
       "      <td>병원에서 도수치료를 받았는데 실비 보험으로 청구하니 내가 내야 하는 부담금이 거의 ...</td>\n",
       "    </tr>\n",
       "    <tr>\n",
       "      <th>3</th>\n",
       "      <td>일반 대화</td>\n",
       "      <td>나 기쁜 일이 있어!\\n무슨 일인데 그렇게 신이 났어?\\n얼마 전에 내 노트북이 고...</td>\n",
       "    </tr>\n",
       "    <tr>\n",
       "      <th>4</th>\n",
       "      <td>일반 대화</td>\n",
       "      <td>항상 분리수거는 자기 담당이었잖아. 오늘 처음으로 해봐서 정말 애먹었어. 그런데 그...</td>\n",
       "    </tr>\n",
       "    <tr>\n",
       "      <th>...</th>\n",
       "      <td>...</td>\n",
       "      <td>...</td>\n",
       "    </tr>\n",
       "    <tr>\n",
       "      <th>995</th>\n",
       "      <td>일반 대화</td>\n",
       "      <td>택시에서 내리고 보니 스마트폰을 두고 내린 걸 알았어. 그래서 방금 택시 기사님 계...</td>\n",
       "    </tr>\n",
       "    <tr>\n",
       "      <th>996</th>\n",
       "      <td>일반 대화</td>\n",
       "      <td>나 이제 면접장 도착했어, 너무 떨려. 이번에는 잘 볼 수 있을까?\\n면접시간보다 ...</td>\n",
       "    </tr>\n",
       "    <tr>\n",
       "      <th>997</th>\n",
       "      <td>일반 대화</td>\n",
       "      <td>어휴, 투자자 찾기가 이렇게 힘든 일이었네. 맨날 하는 일인데도 새삼스럽게 힘들다....</td>\n",
       "    </tr>\n",
       "    <tr>\n",
       "      <th>998</th>\n",
       "      <td>일반 대화</td>\n",
       "      <td>자기야, 나 요즘 너무 불안해서 큰일이야 어떡하지?\\n왜 무슨 걱정이라도 있는 거야...</td>\n",
       "    </tr>\n",
       "    <tr>\n",
       "      <th>999</th>\n",
       "      <td>일반 대화</td>\n",
       "      <td>나 얼마 전에 샤워하다가 어지럼증 느꼈다고 했잖아. 그래서 병원을 갔다 왔는데 혈색...</td>\n",
       "    </tr>\n",
       "  </tbody>\n",
       "</table>\n",
       "<p>1000 rows × 2 columns</p>\n",
       "</div>"
      ],
      "text/plain": [
       "     class                                       conversation\n",
       "0    일반 대화  내가 응원하는 팀이 이번에 우승하게 되었어. 신이 나고 기뻐서 이 기분을 어떻게 표...\n",
       "1    일반 대화  오늘 아침에 와이프가 향수를 뿌리고 외출하더라고. 얼마나 기쁜지 눈물이 찔끔 날 뻔...\n",
       "2    일반 대화  병원에서 도수치료를 받았는데 실비 보험으로 청구하니 내가 내야 하는 부담금이 거의 ...\n",
       "3    일반 대화  나 기쁜 일이 있어!\\n무슨 일인데 그렇게 신이 났어?\\n얼마 전에 내 노트북이 고...\n",
       "4    일반 대화  항상 분리수거는 자기 담당이었잖아. 오늘 처음으로 해봐서 정말 애먹었어. 그런데 그...\n",
       "..     ...                                                ...\n",
       "995  일반 대화  택시에서 내리고 보니 스마트폰을 두고 내린 걸 알았어. 그래서 방금 택시 기사님 계...\n",
       "996  일반 대화  나 이제 면접장 도착했어, 너무 떨려. 이번에는 잘 볼 수 있을까?\\n면접시간보다 ...\n",
       "997  일반 대화  어휴, 투자자 찾기가 이렇게 힘든 일이었네. 맨날 하는 일인데도 새삼스럽게 힘들다....\n",
       "998  일반 대화  자기야, 나 요즘 너무 불안해서 큰일이야 어떡하지?\\n왜 무슨 걱정이라도 있는 거야...\n",
       "999  일반 대화  나 얼마 전에 샤워하다가 어지럼증 느꼈다고 했잖아. 그래서 병원을 갔다 왔는데 혈색...\n",
       "\n",
       "[1000 rows x 2 columns]"
      ]
     },
     "execution_count": 46,
     "metadata": {},
     "output_type": "execute_result"
    }
   ],
   "source": [
    "temp"
   ]
  },
  {
   "cell_type": "code",
   "execution_count": 47,
   "id": "96ba34db",
   "metadata": {},
   "outputs": [],
   "source": [
    "train_df = pd.concat([train_df, temp], ignore_index=True).reset_index(drop=True)"
   ]
  },
  {
   "cell_type": "code",
   "execution_count": 48,
   "id": "a0881638",
   "metadata": {},
   "outputs": [
    {
     "data": {
      "text/html": [
       "<div>\n",
       "<style scoped>\n",
       "    .dataframe tbody tr th:only-of-type {\n",
       "        vertical-align: middle;\n",
       "    }\n",
       "\n",
       "    .dataframe tbody tr th {\n",
       "        vertical-align: top;\n",
       "    }\n",
       "\n",
       "    .dataframe thead th {\n",
       "        text-align: right;\n",
       "    }\n",
       "</style>\n",
       "<table border=\"1\" class=\"dataframe\">\n",
       "  <thead>\n",
       "    <tr style=\"text-align: right;\">\n",
       "      <th></th>\n",
       "      <th>class</th>\n",
       "      <th>conversation</th>\n",
       "    </tr>\n",
       "  </thead>\n",
       "  <tbody>\n",
       "    <tr>\n",
       "      <th>0</th>\n",
       "      <td>협박 대화</td>\n",
       "      <td>지금 너 스스로를 죽여달라고 애원하는 것인가?\\n 아닙니다. 죄송합니다.\\n 죽을 ...</td>\n",
       "    </tr>\n",
       "    <tr>\n",
       "      <th>1</th>\n",
       "      <td>협박 대화</td>\n",
       "      <td>길동경찰서입니다.\\n9시 40분 마트에 폭발물을 설치할거다.\\n네?\\n똑바로 들어 ...</td>\n",
       "    </tr>\n",
       "    <tr>\n",
       "      <th>2</th>\n",
       "      <td>기타 괴롭힘 대화</td>\n",
       "      <td>너 되게 귀여운거 알지? 나보다 작은 남자는 첨봤어.\\n그만해. 니들 놀리는거 재미...</td>\n",
       "    </tr>\n",
       "    <tr>\n",
       "      <th>3</th>\n",
       "      <td>갈취 대화</td>\n",
       "      <td>어이 거기\\n예??\\n너 말이야 너. 이리 오라고\\n무슨 일.\\n너 옷 좋아보인다?...</td>\n",
       "    </tr>\n",
       "    <tr>\n",
       "      <th>4</th>\n",
       "      <td>갈취 대화</td>\n",
       "      <td>저기요 혹시 날이 너무 뜨겁잖아요? 저희 회사에서 이 선크림 파는데 한 번 손등에 ...</td>\n",
       "    </tr>\n",
       "    <tr>\n",
       "      <th>...</th>\n",
       "      <td>...</td>\n",
       "      <td>...</td>\n",
       "    </tr>\n",
       "    <tr>\n",
       "      <th>4945</th>\n",
       "      <td>일반 대화</td>\n",
       "      <td>택시에서 내리고 보니 스마트폰을 두고 내린 걸 알았어. 그래서 방금 택시 기사님 계...</td>\n",
       "    </tr>\n",
       "    <tr>\n",
       "      <th>4946</th>\n",
       "      <td>일반 대화</td>\n",
       "      <td>나 이제 면접장 도착했어, 너무 떨려. 이번에는 잘 볼 수 있을까?\\n면접시간보다 ...</td>\n",
       "    </tr>\n",
       "    <tr>\n",
       "      <th>4947</th>\n",
       "      <td>일반 대화</td>\n",
       "      <td>어휴, 투자자 찾기가 이렇게 힘든 일이었네. 맨날 하는 일인데도 새삼스럽게 힘들다....</td>\n",
       "    </tr>\n",
       "    <tr>\n",
       "      <th>4948</th>\n",
       "      <td>일반 대화</td>\n",
       "      <td>자기야, 나 요즘 너무 불안해서 큰일이야 어떡하지?\\n왜 무슨 걱정이라도 있는 거야...</td>\n",
       "    </tr>\n",
       "    <tr>\n",
       "      <th>4949</th>\n",
       "      <td>일반 대화</td>\n",
       "      <td>나 얼마 전에 샤워하다가 어지럼증 느꼈다고 했잖아. 그래서 병원을 갔다 왔는데 혈색...</td>\n",
       "    </tr>\n",
       "  </tbody>\n",
       "</table>\n",
       "<p>4950 rows × 2 columns</p>\n",
       "</div>"
      ],
      "text/plain": [
       "          class                                       conversation\n",
       "0         협박 대화  지금 너 스스로를 죽여달라고 애원하는 것인가?\\n 아닙니다. 죄송합니다.\\n 죽을 ...\n",
       "1         협박 대화  길동경찰서입니다.\\n9시 40분 마트에 폭발물을 설치할거다.\\n네?\\n똑바로 들어 ...\n",
       "2     기타 괴롭힘 대화  너 되게 귀여운거 알지? 나보다 작은 남자는 첨봤어.\\n그만해. 니들 놀리는거 재미...\n",
       "3         갈취 대화  어이 거기\\n예??\\n너 말이야 너. 이리 오라고\\n무슨 일.\\n너 옷 좋아보인다?...\n",
       "4         갈취 대화  저기요 혹시 날이 너무 뜨겁잖아요? 저희 회사에서 이 선크림 파는데 한 번 손등에 ...\n",
       "...         ...                                                ...\n",
       "4945      일반 대화  택시에서 내리고 보니 스마트폰을 두고 내린 걸 알았어. 그래서 방금 택시 기사님 계...\n",
       "4946      일반 대화  나 이제 면접장 도착했어, 너무 떨려. 이번에는 잘 볼 수 있을까?\\n면접시간보다 ...\n",
       "4947      일반 대화  어휴, 투자자 찾기가 이렇게 힘든 일이었네. 맨날 하는 일인데도 새삼스럽게 힘들다....\n",
       "4948      일반 대화  자기야, 나 요즘 너무 불안해서 큰일이야 어떡하지?\\n왜 무슨 걱정이라도 있는 거야...\n",
       "4949      일반 대화  나 얼마 전에 샤워하다가 어지럼증 느꼈다고 했잖아. 그래서 병원을 갔다 왔는데 혈색...\n",
       "\n",
       "[4950 rows x 2 columns]"
      ]
     },
     "execution_count": 48,
     "metadata": {},
     "output_type": "execute_result"
    }
   ],
   "source": [
    "train_df"
   ]
  },
  {
   "cell_type": "code",
   "execution_count": 49,
   "id": "0e63487e",
   "metadata": {},
   "outputs": [
    {
     "data": {
      "text/html": [
       "<div>\n",
       "<style scoped>\n",
       "    .dataframe tbody tr th:only-of-type {\n",
       "        vertical-align: middle;\n",
       "    }\n",
       "\n",
       "    .dataframe tbody tr th {\n",
       "        vertical-align: top;\n",
       "    }\n",
       "\n",
       "    .dataframe thead th {\n",
       "        text-align: right;\n",
       "    }\n",
       "</style>\n",
       "<table border=\"1\" class=\"dataframe\">\n",
       "  <thead>\n",
       "    <tr style=\"text-align: right;\">\n",
       "      <th></th>\n",
       "      <th>class</th>\n",
       "      <th>conversation</th>\n",
       "    </tr>\n",
       "  </thead>\n",
       "  <tbody>\n",
       "    <tr>\n",
       "      <th>0</th>\n",
       "      <td>협박 대화</td>\n",
       "      <td>지금 너 스스로를 죽여달라고 애원하는 것인가?\\n 아닙니다. 죄송합니다.\\n 죽을 ...</td>\n",
       "    </tr>\n",
       "    <tr>\n",
       "      <th>1</th>\n",
       "      <td>협박 대화</td>\n",
       "      <td>길동경찰서입니다.\\n9시 40분 마트에 폭발물을 설치할거다.\\n네?\\n똑바로 들어 ...</td>\n",
       "    </tr>\n",
       "    <tr>\n",
       "      <th>2</th>\n",
       "      <td>기타 괴롭힘 대화</td>\n",
       "      <td>너 되게 귀여운거 알지? 나보다 작은 남자는 첨봤어.\\n그만해. 니들 놀리는거 재미...</td>\n",
       "    </tr>\n",
       "    <tr>\n",
       "      <th>3</th>\n",
       "      <td>갈취 대화</td>\n",
       "      <td>어이 거기\\n예??\\n너 말이야 너. 이리 오라고\\n무슨 일.\\n너 옷 좋아보인다?...</td>\n",
       "    </tr>\n",
       "    <tr>\n",
       "      <th>4</th>\n",
       "      <td>갈취 대화</td>\n",
       "      <td>저기요 혹시 날이 너무 뜨겁잖아요? 저희 회사에서 이 선크림 파는데 한 번 손등에 ...</td>\n",
       "    </tr>\n",
       "    <tr>\n",
       "      <th>...</th>\n",
       "      <td>...</td>\n",
       "      <td>...</td>\n",
       "    </tr>\n",
       "    <tr>\n",
       "      <th>4945</th>\n",
       "      <td>일반 대화</td>\n",
       "      <td>택시에서 내리고 보니 스마트폰을 두고 내린 걸 알았어. 그래서 방금 택시 기사님 계...</td>\n",
       "    </tr>\n",
       "    <tr>\n",
       "      <th>4946</th>\n",
       "      <td>일반 대화</td>\n",
       "      <td>나 이제 면접장 도착했어, 너무 떨려. 이번에는 잘 볼 수 있을까?\\n면접시간보다 ...</td>\n",
       "    </tr>\n",
       "    <tr>\n",
       "      <th>4947</th>\n",
       "      <td>일반 대화</td>\n",
       "      <td>어휴, 투자자 찾기가 이렇게 힘든 일이었네. 맨날 하는 일인데도 새삼스럽게 힘들다....</td>\n",
       "    </tr>\n",
       "    <tr>\n",
       "      <th>4948</th>\n",
       "      <td>일반 대화</td>\n",
       "      <td>자기야, 나 요즘 너무 불안해서 큰일이야 어떡하지?\\n왜 무슨 걱정이라도 있는 거야...</td>\n",
       "    </tr>\n",
       "    <tr>\n",
       "      <th>4949</th>\n",
       "      <td>일반 대화</td>\n",
       "      <td>나 얼마 전에 샤워하다가 어지럼증 느꼈다고 했잖아. 그래서 병원을 갔다 왔는데 혈색...</td>\n",
       "    </tr>\n",
       "  </tbody>\n",
       "</table>\n",
       "<p>4950 rows × 2 columns</p>\n",
       "</div>"
      ],
      "text/plain": [
       "          class                                       conversation\n",
       "0         협박 대화  지금 너 스스로를 죽여달라고 애원하는 것인가?\\n 아닙니다. 죄송합니다.\\n 죽을 ...\n",
       "1         협박 대화  길동경찰서입니다.\\n9시 40분 마트에 폭발물을 설치할거다.\\n네?\\n똑바로 들어 ...\n",
       "2     기타 괴롭힘 대화  너 되게 귀여운거 알지? 나보다 작은 남자는 첨봤어.\\n그만해. 니들 놀리는거 재미...\n",
       "3         갈취 대화  어이 거기\\n예??\\n너 말이야 너. 이리 오라고\\n무슨 일.\\n너 옷 좋아보인다?...\n",
       "4         갈취 대화  저기요 혹시 날이 너무 뜨겁잖아요? 저희 회사에서 이 선크림 파는데 한 번 손등에 ...\n",
       "...         ...                                                ...\n",
       "4945      일반 대화  택시에서 내리고 보니 스마트폰을 두고 내린 걸 알았어. 그래서 방금 택시 기사님 계...\n",
       "4946      일반 대화  나 이제 면접장 도착했어, 너무 떨려. 이번에는 잘 볼 수 있을까?\\n면접시간보다 ...\n",
       "4947      일반 대화  어휴, 투자자 찾기가 이렇게 힘든 일이었네. 맨날 하는 일인데도 새삼스럽게 힘들다....\n",
       "4948      일반 대화  자기야, 나 요즘 너무 불안해서 큰일이야 어떡하지?\\n왜 무슨 걱정이라도 있는 거야...\n",
       "4949      일반 대화  나 얼마 전에 샤워하다가 어지럼증 느꼈다고 했잖아. 그래서 병원을 갔다 왔는데 혈색...\n",
       "\n",
       "[4950 rows x 2 columns]"
      ]
     },
     "execution_count": 49,
     "metadata": {},
     "output_type": "execute_result"
    }
   ],
   "source": [
    "train_df.dropna()"
   ]
  },
  {
   "cell_type": "code",
   "execution_count": 51,
   "id": "85ed0c9c",
   "metadata": {},
   "outputs": [],
   "source": [
    "class_dict = {'협박 대화': 0, '갈취 대화':1, '직장 내 괴롭힘 대화':2, '기타 괴롭힘 대화':3, '일반 대화':4}"
   ]
  },
  {
   "cell_type": "code",
   "execution_count": 53,
   "id": "9b1e9d74",
   "metadata": {},
   "outputs": [],
   "source": [
    "with open('class_dict.json','w') as f:\n",
    "    f.write(json.dumps(class_dict, ensure_ascii=False, indent=4))"
   ]
  },
  {
   "cell_type": "code",
   "execution_count": 56,
   "id": "cc176635",
   "metadata": {},
   "outputs": [],
   "source": [
    "train_df['class'] = train_df['class'].apply(lambda x: class_dict[x])"
   ]
  },
  {
   "cell_type": "markdown",
   "id": "800ba1e5",
   "metadata": {},
   "source": [
    "### 모델 "
   ]
  },
  {
   "cell_type": "code",
   "execution_count": 54,
   "id": "66e57fed",
   "metadata": {},
   "outputs": [],
   "source": [
    "from transformers import AutoTokenizer, TFAutoModelForSequenceClassification"
   ]
  },
  {
   "cell_type": "code",
   "execution_count": 39,
   "id": "6600f88a",
   "metadata": {},
   "outputs": [],
   "source": [
    "MODEL_NAME = 'klue/bert-base'"
   ]
  },
  {
   "cell_type": "code",
   "execution_count": 58,
   "id": "a7edd419",
   "metadata": {},
   "outputs": [
    {
     "data": {
      "application/vnd.jupyter.widget-view+json": {
       "model_id": "f50d350e59224f1bb5968249a15e6573",
       "version_major": 2,
       "version_minor": 0
      },
      "text/plain": [
       "Downloading:   0%|          | 0.00/289 [00:00<?, ?B/s]"
      ]
     },
     "metadata": {},
     "output_type": "display_data"
    },
    {
     "data": {
      "application/vnd.jupyter.widget-view+json": {
       "model_id": "909fffa8baae43ee934b029ee31c3dbc",
       "version_major": 2,
       "version_minor": 0
      },
      "text/plain": [
       "Downloading:   0%|          | 0.00/425 [00:00<?, ?B/s]"
      ]
     },
     "metadata": {},
     "output_type": "display_data"
    },
    {
     "data": {
      "application/vnd.jupyter.widget-view+json": {
       "model_id": "5d90c09d24024a35882c9f6a708fb7a3",
       "version_major": 2,
       "version_minor": 0
      },
      "text/plain": [
       "Downloading:   0%|          | 0.00/243k [00:00<?, ?B/s]"
      ]
     },
     "metadata": {},
     "output_type": "display_data"
    },
    {
     "data": {
      "application/vnd.jupyter.widget-view+json": {
       "model_id": "1544444090684c8f849aef144e9dec8f",
       "version_major": 2,
       "version_minor": 0
      },
      "text/plain": [
       "Downloading:   0%|          | 0.00/483k [00:00<?, ?B/s]"
      ]
     },
     "metadata": {},
     "output_type": "display_data"
    },
    {
     "data": {
      "application/vnd.jupyter.widget-view+json": {
       "model_id": "fdbe6d6a01af4634872debd4f2e0aff3",
       "version_major": 2,
       "version_minor": 0
      },
      "text/plain": [
       "Downloading:   0%|          | 0.00/125 [00:00<?, ?B/s]"
      ]
     },
     "metadata": {},
     "output_type": "display_data"
    }
   ],
   "source": [
    "tokenizer = AutoTokenizer.from_pretrained(MODEL_NAME)"
   ]
  },
  {
   "cell_type": "code",
   "execution_count": 60,
   "id": "a076d2bc",
   "metadata": {},
   "outputs": [],
   "source": [
    "from sklearn.model_selection import train_test_split"
   ]
  },
  {
   "cell_type": "code",
   "execution_count": 69,
   "id": "d1cfeeef",
   "metadata": {},
   "outputs": [],
   "source": [
    "x_train, x_test, y_train, y_test = train_test_split(\n",
    "    train_df['conversation'], train_df['class'],\n",
    "    test_size=0.2,\n",
    "    random_state=42,\n",
    "    stratify=train_df['class'] # 클래스 비율 유지\n",
    ")"
   ]
  },
  {
   "cell_type": "code",
   "execution_count": 74,
   "id": "a1c16ae1",
   "metadata": {},
   "outputs": [
    {
     "data": {
      "text/plain": [
       "((3960,), (990,), (3960,), (990,))"
      ]
     },
     "execution_count": 74,
     "metadata": {},
     "output_type": "execute_result"
    }
   ],
   "source": [
    "x_train.shape, x_test.shape, y_train.shape, y_test.shape"
   ]
  },
  {
   "cell_type": "code",
   "execution_count": null,
   "id": "34436bd7",
   "metadata": {},
   "outputs": [],
   "source": []
  },
  {
   "cell_type": "code",
   "execution_count": null,
   "id": "d9a88b1b",
   "metadata": {},
   "outputs": [],
   "source": []
  },
  {
   "cell_type": "code",
   "execution_count": 59,
   "id": "23727211",
   "metadata": {},
   "outputs": [
    {
     "ename": "NameError",
     "evalue": "name 'texts' is not defined",
     "output_type": "error",
     "traceback": [
      "\u001b[0;31m---------------------------------------------------------------------------\u001b[0m",
      "\u001b[0;31mNameError\u001b[0m                                 Traceback (most recent call last)",
      "\u001b[0;32m/tmp/ipykernel_98/3882235157.py\u001b[0m in \u001b[0;36m<module>\u001b[0;34m\u001b[0m\n\u001b[1;32m      1\u001b[0m encoded_inputs = tokenizer(\n\u001b[0;32m----> 2\u001b[0;31m     \u001b[0mtexts\u001b[0m\u001b[0;34m,\u001b[0m\u001b[0;34m\u001b[0m\u001b[0;34m\u001b[0m\u001b[0m\n\u001b[0m\u001b[1;32m      3\u001b[0m     \u001b[0mpadding\u001b[0m\u001b[0;34m=\u001b[0m\u001b[0;34m'max_length'\u001b[0m\u001b[0;34m,\u001b[0m \u001b[0;31m# 또는 padding=True (배치 내 최대 길이에 맞춤)\u001b[0m\u001b[0;34m\u001b[0m\u001b[0;34m\u001b[0m\u001b[0m\n\u001b[1;32m      4\u001b[0m     \u001b[0mtruncation\u001b[0m\u001b[0;34m=\u001b[0m\u001b[0;32mTrue\u001b[0m\u001b[0;34m,\u001b[0m\u001b[0;34m\u001b[0m\u001b[0;34m\u001b[0m\u001b[0m\n\u001b[1;32m      5\u001b[0m     \u001b[0mmax_length\u001b[0m\u001b[0;34m=\u001b[0m\u001b[0;36m128\u001b[0m\u001b[0;34m,\u001b[0m       \u001b[0;31m# BERT 모델이 처리 가능한 최대 길이 고려 (klue/bert-base는 512)\u001b[0m\u001b[0;34m\u001b[0m\u001b[0;34m\u001b[0m\u001b[0m\n",
      "\u001b[0;31mNameError\u001b[0m: name 'texts' is not defined"
     ]
    }
   ],
   "source": [
    "encoded_inputs = tokenizer(\n",
    "    texts,\n",
    "    padding='max_length', # 또는 padding=True (배치 내 최대 길이에 맞춤)\n",
    "    truncation=True,\n",
    "    max_length=128,       # BERT 모델이 처리 가능한 최대 길이 고려 (klue/bert-base는 512)\n",
    "    return_tensors='tf'\n",
    ")"
   ]
  },
  {
   "cell_type": "code",
   "execution_count": null,
   "id": "0e7d5998",
   "metadata": {},
   "outputs": [],
   "source": []
  },
  {
   "cell_type": "code",
   "execution_count": null,
   "id": "89c7009f",
   "metadata": {},
   "outputs": [],
   "source": []
  },
  {
   "cell_type": "code",
   "execution_count": null,
   "id": "e09d561b",
   "metadata": {},
   "outputs": [],
   "source": []
  },
  {
   "cell_type": "code",
   "execution_count": null,
   "id": "85159031",
   "metadata": {},
   "outputs": [],
   "source": []
  },
  {
   "cell_type": "code",
   "execution_count": null,
   "id": "32d639a7",
   "metadata": {},
   "outputs": [],
   "source": []
  },
  {
   "cell_type": "code",
   "execution_count": null,
   "id": "027bec2c",
   "metadata": {},
   "outputs": [],
   "source": []
  },
  {
   "cell_type": "code",
   "execution_count": null,
   "id": "ebb7a8ea",
   "metadata": {},
   "outputs": [],
   "source": []
  },
  {
   "cell_type": "code",
   "execution_count": null,
   "id": "08ebc413",
   "metadata": {},
   "outputs": [],
   "source": []
  },
  {
   "cell_type": "code",
   "execution_count": null,
   "id": "8ccebdfe",
   "metadata": {},
   "outputs": [],
   "source": []
  }
 ],
 "metadata": {
  "kernelspec": {
   "display_name": "Python 3 (ipykernel)",
   "language": "python",
   "name": "python3"
  },
  "language_info": {
   "codemirror_mode": {
    "name": "ipython",
    "version": 3
   },
   "file_extension": ".py",
   "mimetype": "text/x-python",
   "name": "python",
   "nbconvert_exporter": "python",
   "pygments_lexer": "ipython3",
   "version": "3.9.7"
  }
 },
 "nbformat": 4,
 "nbformat_minor": 5
}
