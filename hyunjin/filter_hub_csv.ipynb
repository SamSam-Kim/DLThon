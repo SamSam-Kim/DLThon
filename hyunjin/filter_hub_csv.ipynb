{
 "cells": [
  {
   "cell_type": "code",
   "execution_count": 1,
   "id": "76ba8063",
   "metadata": {},
   "outputs": [],
   "source": [
    "import pandas as pd\n",
    "\n",
    "# 1. hub.csv 그룹화\n",
    "df = pd.read_csv('hub.csv')\n",
    "grouped = df.groupby('id', as_index=False).agg({'utterance_text': '\\n'.join})\n",
    "\n",
    "# 2. idx, class 컬럼 추가\n",
    "grouped['idx'] = range(len(grouped))\n",
    "grouped['class'] = '일반대화'\n",
    "\n",
    "# 3. 컬럼명 변경 및 저장\n",
    "result = grouped[['idx', 'class', 'utterance_text']].rename(columns={'utterance_text': 'conversation'})\n",
    "result.to_csv('result.csv', index=False)\n"
   ]
  },
  {
   "cell_type": "code",
   "execution_count": 2,
   "id": "923c9a14",
   "metadata": {},
   "outputs": [],
   "source": [
    "import pandas as pd\n",
    "\n",
    "# 1. hub.csv 그룹화\n",
    "df = pd.read_csv('hub.csv')\n",
    "grouped = df.groupby('id', as_index=False).agg({'utterance_text': '\\n'.join})\n",
    "\n",
    "# 2. idx 컬럼 추가 (4000부터 시작)\n",
    "grouped['idx'] = range(4000, 4000 + len(grouped))\n",
    "\n",
    "# 3. class 컬럼 추가\n",
    "grouped['class'] = '일반대화'\n",
    "\n",
    "# 4. 컬럼명 변경 및 저장\n",
    "result = grouped[['idx', 'class', 'utterance_text']].rename(columns={'utterance_text': 'conversation'})\n",
    "result.to_csv('result.csv', index=False)\n"
   ]
  },
  {
   "cell_type": "code",
   "execution_count": 3,
   "id": "decb18bd",
   "metadata": {},
   "outputs": [],
   "source": [
    "import pandas as pd\n",
    "\n",
    "# train 데이터와 result 데이터 불러오기\n",
    "train_df = pd.read_csv('train.csv')\n",
    "result_df = pd.read_csv('result.csv')\n",
    "\n",
    "# 컬럼명과 순서가 동일해야 함 (예: idx, class, conversation)\n",
    "# 필요하다면 컬럼명/순서 맞추기\n",
    "result_df = result_df[['idx', 'class', 'conversation']]\n",
    "train_df = train_df[['idx', 'class', 'conversation']]\n",
    "\n",
    "# 두 데이터프레임을 아래로 합치기 (행 방향)\n",
    "merged_df = pd.concat([train_df, result_df], axis=0, ignore_index=True)\n",
    "\n",
    "# 합쳐진 데이터 저장\n",
    "merged_df.to_csv('train_merged.csv', index=False)\n"
   ]
  }
 ],
 "metadata": {
  "kernelspec": {
   "display_name": "Python 3.7.8",
   "language": "python",
   "name": "python3.7.8"
  },
  "language_info": {
   "codemirror_mode": {
    "name": "ipython",
    "version": 3
   },
   "file_extension": ".py",
   "mimetype": "text/x-python",
   "name": "python",
   "nbconvert_exporter": "python",
   "pygments_lexer": "ipython3",
   "version": "3.11.9"
  }
 },
 "nbformat": 4,
 "nbformat_minor": 5
}
