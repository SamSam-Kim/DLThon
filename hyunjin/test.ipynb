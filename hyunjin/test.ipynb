{
 "cells": [
  {
   "cell_type": "code",
   "execution_count": null,
   "id": "53984e21",
   "metadata": {},
   "outputs": [],
   "source": [
    "import pandas as pd\n",
    "from sklearn.model_selection import train_test_split\n",
    "from sklearn.feature_extraction.text import TfidfVectorizer\n",
    "from sklearn.linear_model import LogisticRegression\n",
    "from sklearn.metrics import accuracy_score, f1_score\n",
    "\n",
    "# 데이터 불러오기\n",
    "df = pd.read_csv('train.csv')\n",
    "# 컬럼명 변경\n",
    "df = df.rename(columns={'id': 'idx', 'label': 'target'})\n",
    "\n",
    "# 데이터 선택\n",
    "X = df['conversation']\n",
    "y = df['target']\n",
    "\n",
    "# 데이터 분할\n",
    "X_train, X_val, y_train, y_val = train_test_split(X, y, test_size=0.2, random_state=42)\n",
    "\n",
    "# 벡터화\n",
    "vectorizer = TfidfVectorizer(max_features=10000)\n",
    "X_train_vec = vectorizer.fit_transform(X_train)\n",
    "X_val_vec = vectorizer.transform(X_val)\n",
    "\n",
    "# 모델 학습\n",
    "model = LogisticRegression(max_iter=1000)\n",
    "model.fit(X_train_vec, y_train)\n",
    "\n",
    "# 예측 및 평가\n",
    "y_pred = model.predict(X_val_vec)\n",
    "\n",
    "# 정확도\n",
    "print('Validation Accuracy:', accuracy_score(y_val, y_pred))\n",
    "\n",
    "# F-1 스코어 (macro 평균)\n",
    "f1_macro = f1_score(y_val, y_pred, average='macro')\n",
    "print('Validation F1 Macro:', f1_macro)\n",
    "\n",
    "# 클래스별 F-1 스코어\n",
    "f1_per_class = f1_score(y_val, y_pred, average=None)\n",
    "print('F1 per class:')\n",
    "for idx, score in enumerate(f1_per_class):\n",
    "    print(f'Class {idx}: {score:.4f}')\n"
   ]
  }
 ],
 "metadata": {
  "kernelspec": {
   "display_name": "Python 3 (ipykernel)",
   "language": "python",
   "name": "python3"
  },
  "language_info": {
   "codemirror_mode": {
    "name": "ipython",
    "version": 3
   },
   "file_extension": ".py",
   "mimetype": "text/x-python",
   "name": "python",
   "nbconvert_exporter": "python",
   "pygments_lexer": "ipython3",
   "version": "3.9.7"
  }
 },
 "nbformat": 4,
 "nbformat_minor": 5
}
